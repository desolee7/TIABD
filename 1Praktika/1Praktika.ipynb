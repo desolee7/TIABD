{
  "nbformat": 4,
  "nbformat_minor": 0,
  "metadata": {
    "colab": {
      "provenance": []
    },
    "kernelspec": {
      "name": "python3",
      "display_name": "Python 3"
    },
    "language_info": {
      "name": "python"
    }
  },
  "cells": [
    {
      "cell_type": "markdown",
      "source": [
        "\n",
        "\n",
        "---Написать программу, которая вычисляет площадь фигуры,\n",
        "параметры которой подаются на вход. Фигуры, которые подаются на вход:\n",
        "треугольник, прямоугольник, круг. Результатом работы является словарь, где\n",
        "ключ – это название фигуры, а значение – это площадь.\n",
        "\n"
      ],
      "metadata": {
        "id": "fGiL1teOTUMX"
      }
    },
    {
      "cell_type": "code",
      "execution_count": 8,
      "metadata": {
        "colab": {
          "base_uri": "https://localhost:8080/"
        },
        "id": "YIpZjVbXTQOL",
        "outputId": "7eb28ffe-57cf-4675-ae47-64fb6a55fa12"
      },
      "outputs": [
        {
          "output_type": "stream",
          "name": "stdout",
          "text": [
            "Введите название фигуры на выбор: тр, пр, кр. кр\n",
            "Введите r. 1\n",
            "{'круг': 3.141592653589793}\n"
          ]
        }
      ],
      "source": [
        "import math\n",
        "shape = str(input(\"Введите название фигуры на выбор: тр, пр, кр. \"))\n",
        "match shape:\n",
        "  case \"тр\":\n",
        "    a = float (input(\"Введите a. \"))\n",
        "    h = float (input(\"Введите h. \"))\n",
        "    print({\n",
        "        \"треугольник\": (a*h)/2\n",
        "    })\n",
        "  case \"пр\":\n",
        "    a = float (input(\"Введите a. \"))\n",
        "    b = float (input(\"Введите b. \"))\n",
        "    print({\n",
        "      \"прямоугольник\": a*b\n",
        "    })\n",
        "  case \"кр\":\n",
        "    r = float (input(\"Введите r. \"))\n",
        "    print({\n",
        "      \"круг\": math.pi*r**2\n",
        "    })\n",
        "\n",
        ""
      ]
    },
    {
      "cell_type": "markdown",
      "source": [
        "Написать программу, которая на вход получает два числа и\n",
        "операцию, которую к ним нужно применить. Должны быть реализованы\n",
        "следующие операции: +, -, /, //, abs – модуль, pow или ** – возведение в\n",
        "степень."
      ],
      "metadata": {
        "id": "ChL93hZObqlC"
      }
    },
    {
      "cell_type": "code",
      "source": [
        "a = float (input(\"Введите первое число: \"))\n",
        "b = float (input(\"Введите второе число: \"))\n",
        "operation = input(\"Введите операцию (+, -, /, //, abs, pow): \")\n",
        "\n",
        "match operation:\n",
        "    case '+':\n",
        "        result = a + b\n",
        "    case '-':\n",
        "        result = a - b\n",
        "    case '/':\n",
        "        if b != 0:\n",
        "            result = a / b\n",
        "        else:\n",
        "            result = \"Ошибка: деление на ноль\"\n",
        "    case '//':\n",
        "        if b != 0:\n",
        "            result = a // b\n",
        "        else:\n",
        "            result = \"Ошибка: деление на ноль\"\n",
        "    case 'abs':\n",
        "        result = abs(a), abs(b)\n",
        "\n",
        "print(result)\n"
      ],
      "metadata": {
        "colab": {
          "base_uri": "https://localhost:8080/"
        },
        "id": "MsAM5-_Wbw62",
        "outputId": "6757edaf-b2d7-45cf-b431-3fc263745d99"
      },
      "execution_count": 9,
      "outputs": [
        {
          "output_type": "stream",
          "name": "stdout",
          "text": [
            "Введите первое число: 3\n",
            "Введите второе число: 4\n",
            "Введите операцию (+, -, /, //, abs, pow): +\n",
            "7.0\n"
          ]
        }
      ]
    },
    {
      "cell_type": "markdown",
      "source": [
        "Напишите программу, которая считывает с консоли числа (по\n",
        "одному в строке) до тех пор, пока сумма введённых чисел не будет равна 0 и\n",
        "после этого выводит сумму квадратов всех считанных чисел."
      ],
      "metadata": {
        "id": "9TBimcOUdMku"
      }
    },
    {
      "cell_type": "code",
      "source": [
        "numbers = []\n",
        "sum1 = 0\n",
        "sum2 = 0\n",
        "\n",
        "while sum1 != 0 or len(numbers) == 0:\n",
        "    num = int(input(\"Введите число: \"))\n",
        "    numbers.append(num)\n",
        "    new = num**2\n",
        "    sum2 += new\n",
        "    sum1 += num\n",
        "\n",
        "print(\"Сумма квадратов всех введённых чисел:\", sum2)\n"
      ],
      "metadata": {
        "colab": {
          "base_uri": "https://localhost:8080/"
        },
        "id": "YXIt7_UYdQ7J",
        "outputId": "68c55c1a-36ca-44c4-9759-b844f38069fd"
      },
      "execution_count": 12,
      "outputs": [
        {
          "output_type": "stream",
          "name": "stdout",
          "text": [
            "Введите число: 1\n",
            "Введите число: 1\n",
            "Введите число: -2\n",
            "Сумма квадратов всех введённых чисел: 6\n"
          ]
        }
      ]
    },
    {
      "cell_type": "markdown",
      "source": [
        "Напишите программу, которая выводит последовательность\n",
        "чисел, длинною N, где каждое число повторяется столько раз, чему оно равно.\n",
        "На вход программе передаётся неотрицательное целое число N. Например,\n",
        "если N = 7, то программа должна вывести 1 2 2 3 3 3 4. Вывод элементов списка\n",
        "через пробел – print(*list)."
      ],
      "metadata": {
        "id": "hMK5IfJYehsj"
      }
    },
    {
      "cell_type": "code",
      "source": [
        "N = int(input(\"Введите число N: \"))\n",
        "\n",
        "result = []\n",
        "num = 1\n",
        "\n",
        "while len(result) < N:\n",
        "    result.extend([num] * num)\n",
        "    num += 1\n",
        "\n",
        "result = result[:N]\n",
        "\n",
        "print(*result)\n"
      ],
      "metadata": {
        "colab": {
          "base_uri": "https://localhost:8080/"
        },
        "id": "pKCusP1uem1d",
        "outputId": "7fd82e80-3711-410c-ea07-fa89ac94a9c5"
      },
      "execution_count": 13,
      "outputs": [
        {
          "output_type": "stream",
          "name": "stdout",
          "text": [
            "Введите число N: 7\n",
            "1 2 2 3 3 3 4\n"
          ]
        }
      ]
    },
    {
      "cell_type": "markdown",
      "source": [
        "Даны два списка:\n",
        "А = [1, 2, 3, 4, 2, 1, 3, 4, 5, 6, 5, 4, 3, 2]\n",
        "В = [‘a’, ’b’, ’c’, ’c’, ’c’, ’b’, ’a’, ’c’, ’a’, ’a’, ’b’, ’c’, ’b’, ’a’]\n",
        "Создать словарь, в котором ключи – это содержимое списка В, а\n",
        "значения для ключей словаря – это сумма всех элементов списка А в\n",
        "соответствии с буквой, содержащийся на той же позиции в списке В.\n",
        "Пример результата программы: {‘a’ : 10, ‘b’ : 15, ‘c’ : 6}."
      ],
      "metadata": {
        "id": "PfP7t8Lgfhrc"
      }
    },
    {
      "cell_type": "code",
      "source": [
        "A = [1, 2, 3, 4, 2, 1, 3, 4, 5, 6, 5, 4, 3, 2]\n",
        "B = ['a', 'b', 'c', 'c', 'c', 'b', 'a', 'c', 'a', 'a', 'b', 'c', 'b', 'a']\n",
        "\n",
        "result = {}\n",
        "\n",
        "for a, b in zip(A, B):\n",
        "    if b in result:\n",
        "        result[b] += a\n",
        "    else:\n",
        "        result[b] = a\n",
        "\n",
        "print(result)\n"
      ],
      "metadata": {
        "colab": {
          "base_uri": "https://localhost:8080/"
        },
        "id": "qNcajrhHf_f5",
        "outputId": "4b26f75b-0b7a-4ab6-85eb-494689892781"
      },
      "execution_count": 14,
      "outputs": [
        {
          "output_type": "stream",
          "name": "stdout",
          "text": [
            "{'a': 17, 'b': 11, 'c': 17}\n"
          ]
        }
      ]
    },
    {
      "cell_type": "markdown",
      "source": [
        "Скачать и загрузить данные о стоимости домов в калифорнии,\n",
        "используя библиотеку sklearn.\n",
        "Использовать метод info()."
      ],
      "metadata": {
        "id": "mwOb7lQegXL6"
      }
    },
    {
      "cell_type": "code",
      "source": [
        "import pandas as pd\n",
        "\n",
        "from sklearn.datasets import fetch_california_housing\n",
        "data = fetch_california_housing(as_frame=True)\n",
        "\n",
        "df = pd.DataFrame(data=data.data, columns=data.feature_names)\n",
        "\n",
        "df.info()"
      ],
      "metadata": {
        "colab": {
          "base_uri": "https://localhost:8080/"
        },
        "id": "MuMjAwXVgb9f",
        "outputId": "74462d2a-bffc-4201-9a37-bcb5935234df"
      },
      "execution_count": 19,
      "outputs": [
        {
          "output_type": "stream",
          "name": "stdout",
          "text": [
            "<class 'pandas.core.frame.DataFrame'>\n",
            "RangeIndex: 20640 entries, 0 to 20639\n",
            "Data columns (total 8 columns):\n",
            " #   Column      Non-Null Count  Dtype  \n",
            "---  ------      --------------  -----  \n",
            " 0   MedInc      20640 non-null  float64\n",
            " 1   HouseAge    20640 non-null  float64\n",
            " 2   AveRooms    20640 non-null  float64\n",
            " 3   AveBedrms   20640 non-null  float64\n",
            " 4   Population  20640 non-null  float64\n",
            " 5   AveOccup    20640 non-null  float64\n",
            " 6   Latitude    20640 non-null  float64\n",
            " 7   Longitude   20640 non-null  float64\n",
            "dtypes: float64(8)\n",
            "memory usage: 1.3 MB\n"
          ]
        }
      ]
    },
    {
      "cell_type": "markdown",
      "source": [
        "Узнать, есть ли пропущенные значения, используя isna().sum()\n",
        "\n"
      ],
      "metadata": {
        "id": "p83GYG-AifDL"
      }
    },
    {
      "cell_type": "code",
      "source": [
        "df.isna().sum()"
      ],
      "metadata": {
        "colab": {
          "base_uri": "https://localhost:8080/",
          "height": 335
        },
        "id": "2OH2ha7WiiYY",
        "outputId": "1f13b312-67ca-49e0-d2ad-5ca607b19c8f"
      },
      "execution_count": 20,
      "outputs": [
        {
          "output_type": "execute_result",
          "data": {
            "text/plain": [
              "MedInc        0\n",
              "HouseAge      0\n",
              "AveRooms      0\n",
              "AveBedrms     0\n",
              "Population    0\n",
              "AveOccup      0\n",
              "Latitude      0\n",
              "Longitude     0\n",
              "dtype: int64"
            ],
            "text/html": [
              "<div>\n",
              "<style scoped>\n",
              "    .dataframe tbody tr th:only-of-type {\n",
              "        vertical-align: middle;\n",
              "    }\n",
              "\n",
              "    .dataframe tbody tr th {\n",
              "        vertical-align: top;\n",
              "    }\n",
              "\n",
              "    .dataframe thead th {\n",
              "        text-align: right;\n",
              "    }\n",
              "</style>\n",
              "<table border=\"1\" class=\"dataframe\">\n",
              "  <thead>\n",
              "    <tr style=\"text-align: right;\">\n",
              "      <th></th>\n",
              "      <th>0</th>\n",
              "    </tr>\n",
              "  </thead>\n",
              "  <tbody>\n",
              "    <tr>\n",
              "      <th>MedInc</th>\n",
              "      <td>0</td>\n",
              "    </tr>\n",
              "    <tr>\n",
              "      <th>HouseAge</th>\n",
              "      <td>0</td>\n",
              "    </tr>\n",
              "    <tr>\n",
              "      <th>AveRooms</th>\n",
              "      <td>0</td>\n",
              "    </tr>\n",
              "    <tr>\n",
              "      <th>AveBedrms</th>\n",
              "      <td>0</td>\n",
              "    </tr>\n",
              "    <tr>\n",
              "      <th>Population</th>\n",
              "      <td>0</td>\n",
              "    </tr>\n",
              "    <tr>\n",
              "      <th>AveOccup</th>\n",
              "      <td>0</td>\n",
              "    </tr>\n",
              "    <tr>\n",
              "      <th>Latitude</th>\n",
              "      <td>0</td>\n",
              "    </tr>\n",
              "    <tr>\n",
              "      <th>Longitude</th>\n",
              "      <td>0</td>\n",
              "    </tr>\n",
              "  </tbody>\n",
              "</table>\n",
              "</div><br><label><b>dtype:</b> int64</label>"
            ]
          },
          "metadata": {},
          "execution_count": 20
        }
      ]
    },
    {
      "cell_type": "markdown",
      "source": [
        "Вывести записи, где средний возраст домов в районе более 50 лет и\n",
        "население более 2500 человек, используя метод loc()."
      ],
      "metadata": {
        "id": "DC9W9dFFi6bf"
      }
    },
    {
      "cell_type": "code",
      "source": [
        "df.loc[(df['HouseAge'] > 50) & (df['Population'] > 2500)]"
      ],
      "metadata": {
        "colab": {
          "base_uri": "https://localhost:8080/",
          "height": 457
        },
        "id": "fpZDARwji-1-",
        "outputId": "6c4bac31-46a9-4e3f-9a1b-6ed2523d0633"
      },
      "execution_count": 18,
      "outputs": [
        {
          "output_type": "execute_result",
          "data": {
            "text/plain": [
              "       MedInc  HouseAge  AveRooms  AveBedrms  Population    AveOccup  \\\n",
              "460    1.4012      52.0  3.105714   1.060000      3337.0    9.534286   \n",
              "4131   3.5349      52.0  4.646119   1.047945      2589.0    5.910959   \n",
              "4440   2.6806      52.0  4.806283   1.057592      3062.0    4.007853   \n",
              "5986   1.8750      52.0  4.500000   1.206349      2688.0   21.333333   \n",
              "7369   3.1901      52.0  4.730942   1.017937      3731.0    4.182735   \n",
              "8227   2.3305      52.0  3.488860   1.170380      3018.0    3.955439   \n",
              "13034  6.1359      52.0  8.275862   1.517241      6675.0  230.172414   \n",
              "15634  1.8295      52.0  2.628169   1.053521      2957.0    4.164789   \n",
              "15652  0.9000      52.0  2.237474   1.053535      3260.0    2.237474   \n",
              "15657  2.5166      52.0  2.839075   1.184049      3436.0    1.621520   \n",
              "15659  1.7240      52.0  2.278566   1.082348      4518.0    1.780142   \n",
              "15795  2.5755      52.0  3.402576   1.058776      2619.0    2.108696   \n",
              "15868  2.8135      52.0  4.584329   1.041169      2987.0    3.966799   \n",
              "\n",
              "       Latitude  Longitude   Target  \n",
              "460       37.87    -122.26  1.75000  \n",
              "4131      34.13    -118.20  1.93600  \n",
              "4440      34.08    -118.21  1.53000  \n",
              "5986      34.10    -117.71  2.12500  \n",
              "7369      33.97    -118.21  1.67600  \n",
              "8227      33.78    -118.20  1.62500  \n",
              "13034     38.69    -121.15  2.25000  \n",
              "15634     37.80    -122.41  2.43800  \n",
              "15652     37.80    -122.41  5.00001  \n",
              "15657     37.79    -122.41  2.75000  \n",
              "15659     37.79    -122.41  2.25000  \n",
              "15795     37.77    -122.42  3.25000  \n",
              "15868     37.76    -122.41  2.60300  "
            ],
            "text/html": [
              "\n",
              "  <div id=\"df-6a56410c-9821-4050-b100-dcffe799f49d\" class=\"colab-df-container\">\n",
              "    <div>\n",
              "<style scoped>\n",
              "    .dataframe tbody tr th:only-of-type {\n",
              "        vertical-align: middle;\n",
              "    }\n",
              "\n",
              "    .dataframe tbody tr th {\n",
              "        vertical-align: top;\n",
              "    }\n",
              "\n",
              "    .dataframe thead th {\n",
              "        text-align: right;\n",
              "    }\n",
              "</style>\n",
              "<table border=\"1\" class=\"dataframe\">\n",
              "  <thead>\n",
              "    <tr style=\"text-align: right;\">\n",
              "      <th></th>\n",
              "      <th>MedInc</th>\n",
              "      <th>HouseAge</th>\n",
              "      <th>AveRooms</th>\n",
              "      <th>AveBedrms</th>\n",
              "      <th>Population</th>\n",
              "      <th>AveOccup</th>\n",
              "      <th>Latitude</th>\n",
              "      <th>Longitude</th>\n",
              "      <th>Target</th>\n",
              "    </tr>\n",
              "  </thead>\n",
              "  <tbody>\n",
              "    <tr>\n",
              "      <th>460</th>\n",
              "      <td>1.4012</td>\n",
              "      <td>52.0</td>\n",
              "      <td>3.105714</td>\n",
              "      <td>1.060000</td>\n",
              "      <td>3337.0</td>\n",
              "      <td>9.534286</td>\n",
              "      <td>37.87</td>\n",
              "      <td>-122.26</td>\n",
              "      <td>1.75000</td>\n",
              "    </tr>\n",
              "    <tr>\n",
              "      <th>4131</th>\n",
              "      <td>3.5349</td>\n",
              "      <td>52.0</td>\n",
              "      <td>4.646119</td>\n",
              "      <td>1.047945</td>\n",
              "      <td>2589.0</td>\n",
              "      <td>5.910959</td>\n",
              "      <td>34.13</td>\n",
              "      <td>-118.20</td>\n",
              "      <td>1.93600</td>\n",
              "    </tr>\n",
              "    <tr>\n",
              "      <th>4440</th>\n",
              "      <td>2.6806</td>\n",
              "      <td>52.0</td>\n",
              "      <td>4.806283</td>\n",
              "      <td>1.057592</td>\n",
              "      <td>3062.0</td>\n",
              "      <td>4.007853</td>\n",
              "      <td>34.08</td>\n",
              "      <td>-118.21</td>\n",
              "      <td>1.53000</td>\n",
              "    </tr>\n",
              "    <tr>\n",
              "      <th>5986</th>\n",
              "      <td>1.8750</td>\n",
              "      <td>52.0</td>\n",
              "      <td>4.500000</td>\n",
              "      <td>1.206349</td>\n",
              "      <td>2688.0</td>\n",
              "      <td>21.333333</td>\n",
              "      <td>34.10</td>\n",
              "      <td>-117.71</td>\n",
              "      <td>2.12500</td>\n",
              "    </tr>\n",
              "    <tr>\n",
              "      <th>7369</th>\n",
              "      <td>3.1901</td>\n",
              "      <td>52.0</td>\n",
              "      <td>4.730942</td>\n",
              "      <td>1.017937</td>\n",
              "      <td>3731.0</td>\n",
              "      <td>4.182735</td>\n",
              "      <td>33.97</td>\n",
              "      <td>-118.21</td>\n",
              "      <td>1.67600</td>\n",
              "    </tr>\n",
              "    <tr>\n",
              "      <th>8227</th>\n",
              "      <td>2.3305</td>\n",
              "      <td>52.0</td>\n",
              "      <td>3.488860</td>\n",
              "      <td>1.170380</td>\n",
              "      <td>3018.0</td>\n",
              "      <td>3.955439</td>\n",
              "      <td>33.78</td>\n",
              "      <td>-118.20</td>\n",
              "      <td>1.62500</td>\n",
              "    </tr>\n",
              "    <tr>\n",
              "      <th>13034</th>\n",
              "      <td>6.1359</td>\n",
              "      <td>52.0</td>\n",
              "      <td>8.275862</td>\n",
              "      <td>1.517241</td>\n",
              "      <td>6675.0</td>\n",
              "      <td>230.172414</td>\n",
              "      <td>38.69</td>\n",
              "      <td>-121.15</td>\n",
              "      <td>2.25000</td>\n",
              "    </tr>\n",
              "    <tr>\n",
              "      <th>15634</th>\n",
              "      <td>1.8295</td>\n",
              "      <td>52.0</td>\n",
              "      <td>2.628169</td>\n",
              "      <td>1.053521</td>\n",
              "      <td>2957.0</td>\n",
              "      <td>4.164789</td>\n",
              "      <td>37.80</td>\n",
              "      <td>-122.41</td>\n",
              "      <td>2.43800</td>\n",
              "    </tr>\n",
              "    <tr>\n",
              "      <th>15652</th>\n",
              "      <td>0.9000</td>\n",
              "      <td>52.0</td>\n",
              "      <td>2.237474</td>\n",
              "      <td>1.053535</td>\n",
              "      <td>3260.0</td>\n",
              "      <td>2.237474</td>\n",
              "      <td>37.80</td>\n",
              "      <td>-122.41</td>\n",
              "      <td>5.00001</td>\n",
              "    </tr>\n",
              "    <tr>\n",
              "      <th>15657</th>\n",
              "      <td>2.5166</td>\n",
              "      <td>52.0</td>\n",
              "      <td>2.839075</td>\n",
              "      <td>1.184049</td>\n",
              "      <td>3436.0</td>\n",
              "      <td>1.621520</td>\n",
              "      <td>37.79</td>\n",
              "      <td>-122.41</td>\n",
              "      <td>2.75000</td>\n",
              "    </tr>\n",
              "    <tr>\n",
              "      <th>15659</th>\n",
              "      <td>1.7240</td>\n",
              "      <td>52.0</td>\n",
              "      <td>2.278566</td>\n",
              "      <td>1.082348</td>\n",
              "      <td>4518.0</td>\n",
              "      <td>1.780142</td>\n",
              "      <td>37.79</td>\n",
              "      <td>-122.41</td>\n",
              "      <td>2.25000</td>\n",
              "    </tr>\n",
              "    <tr>\n",
              "      <th>15795</th>\n",
              "      <td>2.5755</td>\n",
              "      <td>52.0</td>\n",
              "      <td>3.402576</td>\n",
              "      <td>1.058776</td>\n",
              "      <td>2619.0</td>\n",
              "      <td>2.108696</td>\n",
              "      <td>37.77</td>\n",
              "      <td>-122.42</td>\n",
              "      <td>3.25000</td>\n",
              "    </tr>\n",
              "    <tr>\n",
              "      <th>15868</th>\n",
              "      <td>2.8135</td>\n",
              "      <td>52.0</td>\n",
              "      <td>4.584329</td>\n",
              "      <td>1.041169</td>\n",
              "      <td>2987.0</td>\n",
              "      <td>3.966799</td>\n",
              "      <td>37.76</td>\n",
              "      <td>-122.41</td>\n",
              "      <td>2.60300</td>\n",
              "    </tr>\n",
              "  </tbody>\n",
              "</table>\n",
              "</div>\n",
              "    <div class=\"colab-df-buttons\">\n",
              "\n",
              "  <div class=\"colab-df-container\">\n",
              "    <button class=\"colab-df-convert\" onclick=\"convertToInteractive('df-6a56410c-9821-4050-b100-dcffe799f49d')\"\n",
              "            title=\"Convert this dataframe to an interactive table.\"\n",
              "            style=\"display:none;\">\n",
              "\n",
              "  <svg xmlns=\"http://www.w3.org/2000/svg\" height=\"24px\" viewBox=\"0 -960 960 960\">\n",
              "    <path d=\"M120-120v-720h720v720H120Zm60-500h600v-160H180v160Zm220 220h160v-160H400v160Zm0 220h160v-160H400v160ZM180-400h160v-160H180v160Zm440 0h160v-160H620v160ZM180-180h160v-160H180v160Zm440 0h160v-160H620v160Z\"/>\n",
              "  </svg>\n",
              "    </button>\n",
              "\n",
              "  <style>\n",
              "    .colab-df-container {\n",
              "      display:flex;\n",
              "      gap: 12px;\n",
              "    }\n",
              "\n",
              "    .colab-df-convert {\n",
              "      background-color: #E8F0FE;\n",
              "      border: none;\n",
              "      border-radius: 50%;\n",
              "      cursor: pointer;\n",
              "      display: none;\n",
              "      fill: #1967D2;\n",
              "      height: 32px;\n",
              "      padding: 0 0 0 0;\n",
              "      width: 32px;\n",
              "    }\n",
              "\n",
              "    .colab-df-convert:hover {\n",
              "      background-color: #E2EBFA;\n",
              "      box-shadow: 0px 1px 2px rgba(60, 64, 67, 0.3), 0px 1px 3px 1px rgba(60, 64, 67, 0.15);\n",
              "      fill: #174EA6;\n",
              "    }\n",
              "\n",
              "    .colab-df-buttons div {\n",
              "      margin-bottom: 4px;\n",
              "    }\n",
              "\n",
              "    [theme=dark] .colab-df-convert {\n",
              "      background-color: #3B4455;\n",
              "      fill: #D2E3FC;\n",
              "    }\n",
              "\n",
              "    [theme=dark] .colab-df-convert:hover {\n",
              "      background-color: #434B5C;\n",
              "      box-shadow: 0px 1px 3px 1px rgba(0, 0, 0, 0.15);\n",
              "      filter: drop-shadow(0px 1px 2px rgba(0, 0, 0, 0.3));\n",
              "      fill: #FFFFFF;\n",
              "    }\n",
              "  </style>\n",
              "\n",
              "    <script>\n",
              "      const buttonEl =\n",
              "        document.querySelector('#df-6a56410c-9821-4050-b100-dcffe799f49d button.colab-df-convert');\n",
              "      buttonEl.style.display =\n",
              "        google.colab.kernel.accessAllowed ? 'block' : 'none';\n",
              "\n",
              "      async function convertToInteractive(key) {\n",
              "        const element = document.querySelector('#df-6a56410c-9821-4050-b100-dcffe799f49d');\n",
              "        const dataTable =\n",
              "          await google.colab.kernel.invokeFunction('convertToInteractive',\n",
              "                                                    [key], {});\n",
              "        if (!dataTable) return;\n",
              "\n",
              "        const docLinkHtml = 'Like what you see? Visit the ' +\n",
              "          '<a target=\"_blank\" href=https://colab.research.google.com/notebooks/data_table.ipynb>data table notebook</a>'\n",
              "          + ' to learn more about interactive tables.';\n",
              "        element.innerHTML = '';\n",
              "        dataTable['output_type'] = 'display_data';\n",
              "        await google.colab.output.renderOutput(dataTable, element);\n",
              "        const docLink = document.createElement('div');\n",
              "        docLink.innerHTML = docLinkHtml;\n",
              "        element.appendChild(docLink);\n",
              "      }\n",
              "    </script>\n",
              "  </div>\n",
              "\n",
              "\n",
              "<div id=\"df-0887dca5-551a-4f0a-8062-44d74d116fa0\">\n",
              "  <button class=\"colab-df-quickchart\" onclick=\"quickchart('df-0887dca5-551a-4f0a-8062-44d74d116fa0')\"\n",
              "            title=\"Suggest charts\"\n",
              "            style=\"display:none;\">\n",
              "\n",
              "<svg xmlns=\"http://www.w3.org/2000/svg\" height=\"24px\"viewBox=\"0 0 24 24\"\n",
              "     width=\"24px\">\n",
              "    <g>\n",
              "        <path d=\"M19 3H5c-1.1 0-2 .9-2 2v14c0 1.1.9 2 2 2h14c1.1 0 2-.9 2-2V5c0-1.1-.9-2-2-2zM9 17H7v-7h2v7zm4 0h-2V7h2v10zm4 0h-2v-4h2v4z\"/>\n",
              "    </g>\n",
              "</svg>\n",
              "  </button>\n",
              "\n",
              "<style>\n",
              "  .colab-df-quickchart {\n",
              "      --bg-color: #E8F0FE;\n",
              "      --fill-color: #1967D2;\n",
              "      --hover-bg-color: #E2EBFA;\n",
              "      --hover-fill-color: #174EA6;\n",
              "      --disabled-fill-color: #AAA;\n",
              "      --disabled-bg-color: #DDD;\n",
              "  }\n",
              "\n",
              "  [theme=dark] .colab-df-quickchart {\n",
              "      --bg-color: #3B4455;\n",
              "      --fill-color: #D2E3FC;\n",
              "      --hover-bg-color: #434B5C;\n",
              "      --hover-fill-color: #FFFFFF;\n",
              "      --disabled-bg-color: #3B4455;\n",
              "      --disabled-fill-color: #666;\n",
              "  }\n",
              "\n",
              "  .colab-df-quickchart {\n",
              "    background-color: var(--bg-color);\n",
              "    border: none;\n",
              "    border-radius: 50%;\n",
              "    cursor: pointer;\n",
              "    display: none;\n",
              "    fill: var(--fill-color);\n",
              "    height: 32px;\n",
              "    padding: 0;\n",
              "    width: 32px;\n",
              "  }\n",
              "\n",
              "  .colab-df-quickchart:hover {\n",
              "    background-color: var(--hover-bg-color);\n",
              "    box-shadow: 0 1px 2px rgba(60, 64, 67, 0.3), 0 1px 3px 1px rgba(60, 64, 67, 0.15);\n",
              "    fill: var(--button-hover-fill-color);\n",
              "  }\n",
              "\n",
              "  .colab-df-quickchart-complete:disabled,\n",
              "  .colab-df-quickchart-complete:disabled:hover {\n",
              "    background-color: var(--disabled-bg-color);\n",
              "    fill: var(--disabled-fill-color);\n",
              "    box-shadow: none;\n",
              "  }\n",
              "\n",
              "  .colab-df-spinner {\n",
              "    border: 2px solid var(--fill-color);\n",
              "    border-color: transparent;\n",
              "    border-bottom-color: var(--fill-color);\n",
              "    animation:\n",
              "      spin 1s steps(1) infinite;\n",
              "  }\n",
              "\n",
              "  @keyframes spin {\n",
              "    0% {\n",
              "      border-color: transparent;\n",
              "      border-bottom-color: var(--fill-color);\n",
              "      border-left-color: var(--fill-color);\n",
              "    }\n",
              "    20% {\n",
              "      border-color: transparent;\n",
              "      border-left-color: var(--fill-color);\n",
              "      border-top-color: var(--fill-color);\n",
              "    }\n",
              "    30% {\n",
              "      border-color: transparent;\n",
              "      border-left-color: var(--fill-color);\n",
              "      border-top-color: var(--fill-color);\n",
              "      border-right-color: var(--fill-color);\n",
              "    }\n",
              "    40% {\n",
              "      border-color: transparent;\n",
              "      border-right-color: var(--fill-color);\n",
              "      border-top-color: var(--fill-color);\n",
              "    }\n",
              "    60% {\n",
              "      border-color: transparent;\n",
              "      border-right-color: var(--fill-color);\n",
              "    }\n",
              "    80% {\n",
              "      border-color: transparent;\n",
              "      border-right-color: var(--fill-color);\n",
              "      border-bottom-color: var(--fill-color);\n",
              "    }\n",
              "    90% {\n",
              "      border-color: transparent;\n",
              "      border-bottom-color: var(--fill-color);\n",
              "    }\n",
              "  }\n",
              "</style>\n",
              "\n",
              "  <script>\n",
              "    async function quickchart(key) {\n",
              "      const quickchartButtonEl =\n",
              "        document.querySelector('#' + key + ' button');\n",
              "      quickchartButtonEl.disabled = true;  // To prevent multiple clicks.\n",
              "      quickchartButtonEl.classList.add('colab-df-spinner');\n",
              "      try {\n",
              "        const charts = await google.colab.kernel.invokeFunction(\n",
              "            'suggestCharts', [key], {});\n",
              "      } catch (error) {\n",
              "        console.error('Error during call to suggestCharts:', error);\n",
              "      }\n",
              "      quickchartButtonEl.classList.remove('colab-df-spinner');\n",
              "      quickchartButtonEl.classList.add('colab-df-quickchart-complete');\n",
              "    }\n",
              "    (() => {\n",
              "      let quickchartButtonEl =\n",
              "        document.querySelector('#df-0887dca5-551a-4f0a-8062-44d74d116fa0 button');\n",
              "      quickchartButtonEl.style.display =\n",
              "        google.colab.kernel.accessAllowed ? 'block' : 'none';\n",
              "    })();\n",
              "  </script>\n",
              "</div>\n",
              "    </div>\n",
              "  </div>\n"
            ],
            "application/vnd.google.colaboratory.intrinsic+json": {
              "type": "dataframe",
              "summary": "{\n  \"name\": \"df\",\n  \"rows\": 13,\n  \"fields\": [\n    {\n      \"column\": \"MedInc\",\n      \"properties\": {\n        \"dtype\": \"number\",\n        \"std\": 1.293068441631606,\n        \"min\": 0.9,\n        \"max\": 6.1359,\n        \"num_unique_values\": 13,\n        \"samples\": [\n          2.5755,\n          2.5166,\n          1.4012\n        ],\n        \"semantic_type\": \"\",\n        \"description\": \"\"\n      }\n    },\n    {\n      \"column\": \"HouseAge\",\n      \"properties\": {\n        \"dtype\": \"number\",\n        \"std\": 0.0,\n        \"min\": 52.0,\n        \"max\": 52.0,\n        \"num_unique_values\": 1,\n        \"samples\": [\n          52.0\n        ],\n        \"semantic_type\": \"\",\n        \"description\": \"\"\n      }\n    },\n    {\n      \"column\": \"AveRooms\",\n      \"properties\": {\n        \"dtype\": \"number\",\n        \"std\": 1.6118382075826694,\n        \"min\": 2.237474262182567,\n        \"max\": 8.275862068965518,\n        \"num_unique_values\": 13,\n        \"samples\": [\n          3.4025764895330113\n        ],\n        \"semantic_type\": \"\",\n        \"description\": \"\"\n      }\n    },\n    {\n      \"column\": \"AveBedrms\",\n      \"properties\": {\n        \"dtype\": \"number\",\n        \"std\": 0.1339190879775565,\n        \"min\": 1.0179372197309418,\n        \"max\": 1.5172413793103448,\n        \"num_unique_values\": 13,\n        \"samples\": [\n          1.0587761674718197\n        ],\n        \"semantic_type\": \"\",\n        \"description\": \"\"\n      }\n    },\n    {\n      \"column\": \"Population\",\n      \"properties\": {\n        \"dtype\": \"number\",\n        \"std\": 1098.344622719304,\n        \"min\": 2589.0,\n        \"max\": 6675.0,\n        \"num_unique_values\": 13,\n        \"samples\": [\n          2619.0\n        ],\n        \"semantic_type\": \"\",\n        \"description\": \"\"\n      }\n    },\n    {\n      \"column\": \"AveOccup\",\n      \"properties\": {\n        \"dtype\": \"number\",\n        \"std\": 62.55974974230084,\n        \"min\": 1.6215195847097688,\n        \"max\": 230.17241379310346,\n        \"num_unique_values\": 13,\n        \"samples\": [\n          2.108695652173913\n        ],\n        \"semantic_type\": \"\",\n        \"description\": \"\"\n      }\n    },\n    {\n      \"column\": \"Latitude\",\n      \"properties\": {\n        \"dtype\": \"number\",\n        \"std\": 1.989744539716928,\n        \"min\": 33.78,\n        \"max\": 38.69,\n        \"num_unique_values\": 11,\n        \"samples\": [\n          33.78\n        ],\n        \"semantic_type\": \"\",\n        \"description\": \"\"\n      }\n    },\n    {\n      \"column\": \"Longitude\",\n      \"properties\": {\n        \"dtype\": \"number\",\n        \"std\": 2.121687161260211,\n        \"min\": -122.42,\n        \"max\": -117.71,\n        \"num_unique_values\": 7,\n        \"samples\": [\n          -122.26\n        ],\n        \"semantic_type\": \"\",\n        \"description\": \"\"\n      }\n    },\n    {\n      \"column\": \"Target\",\n      \"properties\": {\n        \"dtype\": \"number\",\n        \"std\": 0.9259141786849056,\n        \"min\": 1.53,\n        \"max\": 5.00001,\n        \"num_unique_values\": 12,\n        \"samples\": [\n          3.25\n        ],\n        \"semantic_type\": \"\",\n        \"description\": \"\"\n      }\n    }\n  ]\n}"
            }
          },
          "metadata": {},
          "execution_count": 18
        }
      ]
    },
    {
      "cell_type": "markdown",
      "source": [
        "Узнать максимальное и минимальное значения медианной\n",
        "стоимости дома\n"
      ],
      "metadata": {
        "id": "2y30cFhUjxmg"
      }
    },
    {
      "cell_type": "code",
      "source": [
        "print(df['MedInc'].min())\n",
        "print(df['MedInc'].max())\n"
      ],
      "metadata": {
        "colab": {
          "base_uri": "https://localhost:8080/"
        },
        "id": "TL7K2XgUj0jF",
        "outputId": "5fb59421-eda7-45ff-fe93-5c418bca87fc"
      },
      "execution_count": 26,
      "outputs": [
        {
          "output_type": "stream",
          "name": "stdout",
          "text": [
            "0.4999\n",
            "15.0001\n"
          ]
        }
      ]
    },
    {
      "cell_type": "markdown",
      "source": [
        "Используя метод apply(), вывести на экран название признака и его\n",
        "среднее значение."
      ],
      "metadata": {
        "id": "gxsXmiiskzT_"
      }
    },
    {
      "cell_type": "code",
      "source": [
        "mean_values = df.apply(lambda x: x.mean())\n",
        "\n",
        "for feature, mean_value in mean_values.items():\n",
        "    print(f\"Название: {feature}, ср. знач.: {mean_value}\")"
      ],
      "metadata": {
        "colab": {
          "base_uri": "https://localhost:8080/"
        },
        "id": "DC74rcnGk268",
        "outputId": "6032ee81-1a75-4c46-aeb8-c3279d087fb6"
      },
      "execution_count": 29,
      "outputs": [
        {
          "output_type": "stream",
          "name": "stdout",
          "text": [
            "Название: MedInc, ср. знач.: 3.8706710029069766\n",
            "Название: HouseAge, ср. знач.: 28.639486434108527\n",
            "Название: AveRooms, ср. знач.: 5.428999742190376\n",
            "Название: AveBedrms, ср. знач.: 1.096675149606208\n",
            "Название: Population, ср. знач.: 1425.4767441860465\n",
            "Название: AveOccup, ср. знач.: 3.0706551594363742\n",
            "Название: Latitude, ср. знач.: 35.63186143410853\n",
            "Название: Longitude, ср. знач.: -119.56970445736432\n"
          ]
        }
      ]
    }
  ]
}