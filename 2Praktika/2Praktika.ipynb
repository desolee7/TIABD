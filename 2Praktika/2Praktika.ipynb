{
 "cells": [
  {
   "cell_type": "markdown",
   "metadata": {},
   "source": [
    "Найти и выгрузить многомерные данные (с большим количеством \n",
    "признаков – столбцов) с использованием библиотеки pandas. В отчёте \n",
    "описать найденные данные. "
   ]
  },
  {
   "cell_type": "code",
   "execution_count": 3,
   "metadata": {},
   "outputs": [
    {
     "data": {
      "text/html": [
       "<div>\n",
       "<style scoped>\n",
       "    .dataframe tbody tr th:only-of-type {\n",
       "        vertical-align: middle;\n",
       "    }\n",
       "\n",
       "    .dataframe tbody tr th {\n",
       "        vertical-align: top;\n",
       "    }\n",
       "\n",
       "    .dataframe thead th {\n",
       "        text-align: right;\n",
       "    }\n",
       "</style>\n",
       "<table border=\"1\" class=\"dataframe\">\n",
       "  <thead>\n",
       "    <tr style=\"text-align: right;\">\n",
       "      <th></th>\n",
       "      <th>State_UT</th>\n",
       "      <th>year</th>\n",
       "      <th>Primary_Only</th>\n",
       "      <th>Primary_with_U_Primary</th>\n",
       "      <th>Primary_with_U_Primary_Sec_HrSec</th>\n",
       "      <th>U_Primary_Only</th>\n",
       "      <th>U_Primary_With_Sec_HrSec</th>\n",
       "      <th>Primary_with_U_Primary_Sec</th>\n",
       "      <th>U_Primary_With_Sec</th>\n",
       "      <th>Sec_Only</th>\n",
       "      <th>Sec_with_HrSec.</th>\n",
       "      <th>HrSec_Only</th>\n",
       "      <th>All Schools</th>\n",
       "    </tr>\n",
       "  </thead>\n",
       "  <tbody>\n",
       "    <tr>\n",
       "      <th>0</th>\n",
       "      <td>Andaman &amp; Nicobar Islands</td>\n",
       "      <td>2013-14</td>\n",
       "      <td>30.40</td>\n",
       "      <td>73.68</td>\n",
       "      <td>89.74</td>\n",
       "      <td>0.00</td>\n",
       "      <td>100.00</td>\n",
       "      <td>97.92</td>\n",
       "      <td>0.00</td>\n",
       "      <td>0.00</td>\n",
       "      <td>100.00</td>\n",
       "      <td>0.00</td>\n",
       "      <td>53.06</td>\n",
       "    </tr>\n",
       "    <tr>\n",
       "      <th>1</th>\n",
       "      <td>Andaman &amp; Nicobar Islands</td>\n",
       "      <td>2014-15</td>\n",
       "      <td>30.94</td>\n",
       "      <td>76.54</td>\n",
       "      <td>92.11</td>\n",
       "      <td>100.00</td>\n",
       "      <td>94.74</td>\n",
       "      <td>100.00</td>\n",
       "      <td>0.00</td>\n",
       "      <td>0.00</td>\n",
       "      <td>100.00</td>\n",
       "      <td>0.00</td>\n",
       "      <td>57.25</td>\n",
       "    </tr>\n",
       "    <tr>\n",
       "      <th>2</th>\n",
       "      <td>Andaman &amp; Nicobar Islands</td>\n",
       "      <td>2015-16</td>\n",
       "      <td>28.44</td>\n",
       "      <td>78.57</td>\n",
       "      <td>92.50</td>\n",
       "      <td>0.00</td>\n",
       "      <td>94.74</td>\n",
       "      <td>100.00</td>\n",
       "      <td>0.00</td>\n",
       "      <td>0.00</td>\n",
       "      <td>100.00</td>\n",
       "      <td>0.00</td>\n",
       "      <td>57.00</td>\n",
       "    </tr>\n",
       "    <tr>\n",
       "      <th>3</th>\n",
       "      <td>Andhra Pradesh</td>\n",
       "      <td>2013-14</td>\n",
       "      <td>12.73</td>\n",
       "      <td>42.72</td>\n",
       "      <td>86.99</td>\n",
       "      <td>45.45</td>\n",
       "      <td>17.07</td>\n",
       "      <td>68.18</td>\n",
       "      <td>73.23</td>\n",
       "      <td>60.00</td>\n",
       "      <td>33.33</td>\n",
       "      <td>19.32</td>\n",
       "      <td>29.57</td>\n",
       "    </tr>\n",
       "    <tr>\n",
       "      <th>4</th>\n",
       "      <td>Andhra Pradesh</td>\n",
       "      <td>2014-15</td>\n",
       "      <td>10.29</td>\n",
       "      <td>44.15</td>\n",
       "      <td>88.46</td>\n",
       "      <td>50.00</td>\n",
       "      <td>62.22</td>\n",
       "      <td>68.38</td>\n",
       "      <td>76.59</td>\n",
       "      <td>70.97</td>\n",
       "      <td>66.67</td>\n",
       "      <td>41.60</td>\n",
       "      <td>28.06</td>\n",
       "    </tr>\n",
       "    <tr>\n",
       "      <th>...</th>\n",
       "      <td>...</td>\n",
       "      <td>...</td>\n",
       "      <td>...</td>\n",
       "      <td>...</td>\n",
       "      <td>...</td>\n",
       "      <td>...</td>\n",
       "      <td>...</td>\n",
       "      <td>...</td>\n",
       "      <td>...</td>\n",
       "      <td>...</td>\n",
       "      <td>...</td>\n",
       "      <td>...</td>\n",
       "      <td>...</td>\n",
       "    </tr>\n",
       "    <tr>\n",
       "      <th>105</th>\n",
       "      <td>West Bengal</td>\n",
       "      <td>2014-15</td>\n",
       "      <td>4.55</td>\n",
       "      <td>39.79</td>\n",
       "      <td>70.27</td>\n",
       "      <td>9.32</td>\n",
       "      <td>78.72</td>\n",
       "      <td>61.28</td>\n",
       "      <td>49.07</td>\n",
       "      <td>0.00</td>\n",
       "      <td>0.00</td>\n",
       "      <td>66.67</td>\n",
       "      <td>12.13</td>\n",
       "    </tr>\n",
       "    <tr>\n",
       "      <th>106</th>\n",
       "      <td>West Bengal</td>\n",
       "      <td>2015-16</td>\n",
       "      <td>4.69</td>\n",
       "      <td>41.56</td>\n",
       "      <td>75.71</td>\n",
       "      <td>9.97</td>\n",
       "      <td>79.93</td>\n",
       "      <td>63.91</td>\n",
       "      <td>50.49</td>\n",
       "      <td>0.00</td>\n",
       "      <td>100.00</td>\n",
       "      <td>66.67</td>\n",
       "      <td>12.67</td>\n",
       "    </tr>\n",
       "    <tr>\n",
       "      <th>107</th>\n",
       "      <td>All India</td>\n",
       "      <td>2013-14</td>\n",
       "      <td>9.25</td>\n",
       "      <td>42.14</td>\n",
       "      <td>82.67</td>\n",
       "      <td>18.22</td>\n",
       "      <td>76.50</td>\n",
       "      <td>64.69</td>\n",
       "      <td>59.25</td>\n",
       "      <td>44.80</td>\n",
       "      <td>39.31</td>\n",
       "      <td>26.65</td>\n",
       "      <td>24.08</td>\n",
       "    </tr>\n",
       "    <tr>\n",
       "      <th>108</th>\n",
       "      <td>All India</td>\n",
       "      <td>2014-15</td>\n",
       "      <td>10.32</td>\n",
       "      <td>44.39</td>\n",
       "      <td>81.96</td>\n",
       "      <td>19.40</td>\n",
       "      <td>79.86</td>\n",
       "      <td>62.66</td>\n",
       "      <td>68.11</td>\n",
       "      <td>51.27</td>\n",
       "      <td>50.26</td>\n",
       "      <td>47.96</td>\n",
       "      <td>26.42</td>\n",
       "    </tr>\n",
       "    <tr>\n",
       "      <th>109</th>\n",
       "      <td>All India</td>\n",
       "      <td>2015-16</td>\n",
       "      <td>10.36</td>\n",
       "      <td>45.46</td>\n",
       "      <td>79.06</td>\n",
       "      <td>19.78</td>\n",
       "      <td>82.04</td>\n",
       "      <td>68.67</td>\n",
       "      <td>68.40</td>\n",
       "      <td>53.05</td>\n",
       "      <td>54.05</td>\n",
       "      <td>55.72</td>\n",
       "      <td>27.31</td>\n",
       "    </tr>\n",
       "  </tbody>\n",
       "</table>\n",
       "<p>110 rows × 13 columns</p>\n",
       "</div>"
      ],
      "text/plain": [
       "                      State_UT     year  Primary_Only  Primary_with_U_Primary  \\\n",
       "0    Andaman & Nicobar Islands  2013-14         30.40                   73.68   \n",
       "1    Andaman & Nicobar Islands  2014-15         30.94                   76.54   \n",
       "2    Andaman & Nicobar Islands  2015-16         28.44                   78.57   \n",
       "3               Andhra Pradesh  2013-14         12.73                   42.72   \n",
       "4               Andhra Pradesh  2014-15         10.29                   44.15   \n",
       "..                         ...      ...           ...                     ...   \n",
       "105                West Bengal  2014-15          4.55                   39.79   \n",
       "106                West Bengal  2015-16          4.69                   41.56   \n",
       "107                  All India  2013-14          9.25                   42.14   \n",
       "108                  All India  2014-15         10.32                   44.39   \n",
       "109                  All India  2015-16         10.36                   45.46   \n",
       "\n",
       "     Primary_with_U_Primary_Sec_HrSec  U_Primary_Only  \\\n",
       "0                               89.74            0.00   \n",
       "1                               92.11          100.00   \n",
       "2                               92.50            0.00   \n",
       "3                               86.99           45.45   \n",
       "4                               88.46           50.00   \n",
       "..                                ...             ...   \n",
       "105                             70.27            9.32   \n",
       "106                             75.71            9.97   \n",
       "107                             82.67           18.22   \n",
       "108                             81.96           19.40   \n",
       "109                             79.06           19.78   \n",
       "\n",
       "     U_Primary_With_Sec_HrSec  Primary_with_U_Primary_Sec  U_Primary_With_Sec  \\\n",
       "0                      100.00                       97.92                0.00   \n",
       "1                       94.74                      100.00                0.00   \n",
       "2                       94.74                      100.00                0.00   \n",
       "3                       17.07                       68.18               73.23   \n",
       "4                       62.22                       68.38               76.59   \n",
       "..                        ...                         ...                 ...   \n",
       "105                     78.72                       61.28               49.07   \n",
       "106                     79.93                       63.91               50.49   \n",
       "107                     76.50                       64.69               59.25   \n",
       "108                     79.86                       62.66               68.11   \n",
       "109                     82.04                       68.67               68.40   \n",
       "\n",
       "     Sec_Only  Sec_with_HrSec.  HrSec_Only  All Schools  \n",
       "0        0.00           100.00        0.00        53.06  \n",
       "1        0.00           100.00        0.00        57.25  \n",
       "2        0.00           100.00        0.00        57.00  \n",
       "3       60.00            33.33       19.32        29.57  \n",
       "4       70.97            66.67       41.60        28.06  \n",
       "..        ...              ...         ...          ...  \n",
       "105      0.00             0.00       66.67        12.13  \n",
       "106      0.00           100.00       66.67        12.67  \n",
       "107     44.80            39.31       26.65        24.08  \n",
       "108     51.27            50.26       47.96        26.42  \n",
       "109     53.05            54.05       55.72        27.31  \n",
       "\n",
       "[110 rows x 13 columns]"
      ]
     },
     "execution_count": 3,
     "metadata": {},
     "output_type": "execute_result"
    }
   ],
   "source": [
    "import pandas as pd\n",
    "\n",
    "data = pd.read_csv('data_comps.csv')\n",
    "data"
   ]
  },
  {
   "cell_type": "markdown",
   "metadata": {},
   "source": [
    "Вывести информацию о данных при помощи методов .info(), .head(). \n",
    "Проверить данные на наличие пустых значений. В случае их наличия \n",
    "удалить данные строки или интерполировать пропущенные значения. \n",
    "При необходимости дополнительно предобработать данные для \n",
    "дальнейшей работы с ними."
   ]
  },
  {
   "cell_type": "code",
   "execution_count": 184,
   "metadata": {},
   "outputs": [
    {
     "name": "stdout",
     "output_type": "stream",
     "text": [
      "<class 'pandas.core.frame.DataFrame'>\n",
      "RangeIndex: 110 entries, 0 to 109\n",
      "Data columns (total 13 columns):\n",
      " #   Column                            Non-Null Count  Dtype  \n",
      "---  ------                            --------------  -----  \n",
      " 0   State_UT                          110 non-null    object \n",
      " 1   year                              110 non-null    object \n",
      " 2   Primary_Only                      110 non-null    float64\n",
      " 3   Primary_with_U_Primary            110 non-null    float64\n",
      " 4   Primary_with_U_Primary_Sec_HrSec  110 non-null    float64\n",
      " 5   U_Primary_Only                    110 non-null    float64\n",
      " 6   U_Primary_With_Sec_HrSec          110 non-null    float64\n",
      " 7   Primary_with_U_Primary_Sec        110 non-null    float64\n",
      " 8   U_Primary_With_Sec                110 non-null    float64\n",
      " 9   Sec_Only                          110 non-null    float64\n",
      " 10  Sec_with_HrSec.                   110 non-null    float64\n",
      " 11  HrSec_Only                        110 non-null    float64\n",
      " 12  All Schools                       110 non-null    float64\n",
      "dtypes: float64(11), object(2)\n",
      "memory usage: 11.3+ KB\n"
     ]
    }
   ],
   "source": [
    "data.info()\n",
    "data.head()\n",
    "data.isna().sum()\n",
    "data1=data.drop(\"State_UT\", axis=1)"
   ]
  },
  {
   "cell_type": "markdown",
   "metadata": {},
   "source": [
    "3. Построить  столбчатую  диаграмму  (.bar)  с  использованием  модуля \n",
    "graph_objs из библиотеки Plotly со следующими параметрами: \n",
    "3.1.  По оси Х указать дату или название, по оси У указать количественный \n",
    "показатель."
   ]
  },
  {
   "cell_type": "code",
   "execution_count": 46,
   "metadata": {},
   "outputs": [
    {
     "data": {
      "application/vnd.plotly.v1+json": {
       "config": {
        "plotlyServerURL": "https://plot.ly"
       },
       "data": [
        {
         "alignmentgroup": "True",
         "hovertemplate": "x=%{x}<br>y=%{y}<extra></extra>",
         "legendgroup": "",
         "marker": {
          "color": "#636efa",
          "pattern": {
           "shape": ""
          }
         },
         "name": "",
         "offsetgroup": "",
         "orientation": "v",
         "showlegend": false,
         "textposition": "auto",
         "type": "bar",
         "x": [
          "175",
          "134",
          "Гимназия №1",
          "672"
         ],
         "xaxis": "x",
         "y": [
          435,
          125,
          796,
          367
         ],
         "yaxis": "y"
        }
       ],
       "layout": {
        "barmode": "relative",
        "legend": {
         "tracegroupgap": 0
        },
        "margin": {
         "t": 60
        },
        "template": {
         "data": {
          "bar": [
           {
            "error_x": {
             "color": "#2a3f5f"
            },
            "error_y": {
             "color": "#2a3f5f"
            },
            "marker": {
             "line": {
              "color": "#E5ECF6",
              "width": 0.5
             },
             "pattern": {
              "fillmode": "overlay",
              "size": 10,
              "solidity": 0.2
             }
            },
            "type": "bar"
           }
          ],
          "barpolar": [
           {
            "marker": {
             "line": {
              "color": "#E5ECF6",
              "width": 0.5
             },
             "pattern": {
              "fillmode": "overlay",
              "size": 10,
              "solidity": 0.2
             }
            },
            "type": "barpolar"
           }
          ],
          "carpet": [
           {
            "aaxis": {
             "endlinecolor": "#2a3f5f",
             "gridcolor": "white",
             "linecolor": "white",
             "minorgridcolor": "white",
             "startlinecolor": "#2a3f5f"
            },
            "baxis": {
             "endlinecolor": "#2a3f5f",
             "gridcolor": "white",
             "linecolor": "white",
             "minorgridcolor": "white",
             "startlinecolor": "#2a3f5f"
            },
            "type": "carpet"
           }
          ],
          "choropleth": [
           {
            "colorbar": {
             "outlinewidth": 0,
             "ticks": ""
            },
            "type": "choropleth"
           }
          ],
          "contour": [
           {
            "colorbar": {
             "outlinewidth": 0,
             "ticks": ""
            },
            "colorscale": [
             [
              0,
              "#0d0887"
             ],
             [
              0.1111111111111111,
              "#46039f"
             ],
             [
              0.2222222222222222,
              "#7201a8"
             ],
             [
              0.3333333333333333,
              "#9c179e"
             ],
             [
              0.4444444444444444,
              "#bd3786"
             ],
             [
              0.5555555555555556,
              "#d8576b"
             ],
             [
              0.6666666666666666,
              "#ed7953"
             ],
             [
              0.7777777777777778,
              "#fb9f3a"
             ],
             [
              0.8888888888888888,
              "#fdca26"
             ],
             [
              1,
              "#f0f921"
             ]
            ],
            "type": "contour"
           }
          ],
          "contourcarpet": [
           {
            "colorbar": {
             "outlinewidth": 0,
             "ticks": ""
            },
            "type": "contourcarpet"
           }
          ],
          "heatmap": [
           {
            "colorbar": {
             "outlinewidth": 0,
             "ticks": ""
            },
            "colorscale": [
             [
              0,
              "#0d0887"
             ],
             [
              0.1111111111111111,
              "#46039f"
             ],
             [
              0.2222222222222222,
              "#7201a8"
             ],
             [
              0.3333333333333333,
              "#9c179e"
             ],
             [
              0.4444444444444444,
              "#bd3786"
             ],
             [
              0.5555555555555556,
              "#d8576b"
             ],
             [
              0.6666666666666666,
              "#ed7953"
             ],
             [
              0.7777777777777778,
              "#fb9f3a"
             ],
             [
              0.8888888888888888,
              "#fdca26"
             ],
             [
              1,
              "#f0f921"
             ]
            ],
            "type": "heatmap"
           }
          ],
          "heatmapgl": [
           {
            "colorbar": {
             "outlinewidth": 0,
             "ticks": ""
            },
            "colorscale": [
             [
              0,
              "#0d0887"
             ],
             [
              0.1111111111111111,
              "#46039f"
             ],
             [
              0.2222222222222222,
              "#7201a8"
             ],
             [
              0.3333333333333333,
              "#9c179e"
             ],
             [
              0.4444444444444444,
              "#bd3786"
             ],
             [
              0.5555555555555556,
              "#d8576b"
             ],
             [
              0.6666666666666666,
              "#ed7953"
             ],
             [
              0.7777777777777778,
              "#fb9f3a"
             ],
             [
              0.8888888888888888,
              "#fdca26"
             ],
             [
              1,
              "#f0f921"
             ]
            ],
            "type": "heatmapgl"
           }
          ],
          "histogram": [
           {
            "marker": {
             "pattern": {
              "fillmode": "overlay",
              "size": 10,
              "solidity": 0.2
             }
            },
            "type": "histogram"
           }
          ],
          "histogram2d": [
           {
            "colorbar": {
             "outlinewidth": 0,
             "ticks": ""
            },
            "colorscale": [
             [
              0,
              "#0d0887"
             ],
             [
              0.1111111111111111,
              "#46039f"
             ],
             [
              0.2222222222222222,
              "#7201a8"
             ],
             [
              0.3333333333333333,
              "#9c179e"
             ],
             [
              0.4444444444444444,
              "#bd3786"
             ],
             [
              0.5555555555555556,
              "#d8576b"
             ],
             [
              0.6666666666666666,
              "#ed7953"
             ],
             [
              0.7777777777777778,
              "#fb9f3a"
             ],
             [
              0.8888888888888888,
              "#fdca26"
             ],
             [
              1,
              "#f0f921"
             ]
            ],
            "type": "histogram2d"
           }
          ],
          "histogram2dcontour": [
           {
            "colorbar": {
             "outlinewidth": 0,
             "ticks": ""
            },
            "colorscale": [
             [
              0,
              "#0d0887"
             ],
             [
              0.1111111111111111,
              "#46039f"
             ],
             [
              0.2222222222222222,
              "#7201a8"
             ],
             [
              0.3333333333333333,
              "#9c179e"
             ],
             [
              0.4444444444444444,
              "#bd3786"
             ],
             [
              0.5555555555555556,
              "#d8576b"
             ],
             [
              0.6666666666666666,
              "#ed7953"
             ],
             [
              0.7777777777777778,
              "#fb9f3a"
             ],
             [
              0.8888888888888888,
              "#fdca26"
             ],
             [
              1,
              "#f0f921"
             ]
            ],
            "type": "histogram2dcontour"
           }
          ],
          "mesh3d": [
           {
            "colorbar": {
             "outlinewidth": 0,
             "ticks": ""
            },
            "type": "mesh3d"
           }
          ],
          "parcoords": [
           {
            "line": {
             "colorbar": {
              "outlinewidth": 0,
              "ticks": ""
             }
            },
            "type": "parcoords"
           }
          ],
          "pie": [
           {
            "automargin": true,
            "type": "pie"
           }
          ],
          "scatter": [
           {
            "fillpattern": {
             "fillmode": "overlay",
             "size": 10,
             "solidity": 0.2
            },
            "type": "scatter"
           }
          ],
          "scatter3d": [
           {
            "line": {
             "colorbar": {
              "outlinewidth": 0,
              "ticks": ""
             }
            },
            "marker": {
             "colorbar": {
              "outlinewidth": 0,
              "ticks": ""
             }
            },
            "type": "scatter3d"
           }
          ],
          "scattercarpet": [
           {
            "marker": {
             "colorbar": {
              "outlinewidth": 0,
              "ticks": ""
             }
            },
            "type": "scattercarpet"
           }
          ],
          "scattergeo": [
           {
            "marker": {
             "colorbar": {
              "outlinewidth": 0,
              "ticks": ""
             }
            },
            "type": "scattergeo"
           }
          ],
          "scattergl": [
           {
            "marker": {
             "colorbar": {
              "outlinewidth": 0,
              "ticks": ""
             }
            },
            "type": "scattergl"
           }
          ],
          "scattermapbox": [
           {
            "marker": {
             "colorbar": {
              "outlinewidth": 0,
              "ticks": ""
             }
            },
            "type": "scattermapbox"
           }
          ],
          "scatterpolar": [
           {
            "marker": {
             "colorbar": {
              "outlinewidth": 0,
              "ticks": ""
             }
            },
            "type": "scatterpolar"
           }
          ],
          "scatterpolargl": [
           {
            "marker": {
             "colorbar": {
              "outlinewidth": 0,
              "ticks": ""
             }
            },
            "type": "scatterpolargl"
           }
          ],
          "scatterternary": [
           {
            "marker": {
             "colorbar": {
              "outlinewidth": 0,
              "ticks": ""
             }
            },
            "type": "scatterternary"
           }
          ],
          "surface": [
           {
            "colorbar": {
             "outlinewidth": 0,
             "ticks": ""
            },
            "colorscale": [
             [
              0,
              "#0d0887"
             ],
             [
              0.1111111111111111,
              "#46039f"
             ],
             [
              0.2222222222222222,
              "#7201a8"
             ],
             [
              0.3333333333333333,
              "#9c179e"
             ],
             [
              0.4444444444444444,
              "#bd3786"
             ],
             [
              0.5555555555555556,
              "#d8576b"
             ],
             [
              0.6666666666666666,
              "#ed7953"
             ],
             [
              0.7777777777777778,
              "#fb9f3a"
             ],
             [
              0.8888888888888888,
              "#fdca26"
             ],
             [
              1,
              "#f0f921"
             ]
            ],
            "type": "surface"
           }
          ],
          "table": [
           {
            "cells": {
             "fill": {
              "color": "#EBF0F8"
             },
             "line": {
              "color": "white"
             }
            },
            "header": {
             "fill": {
              "color": "#C8D4E3"
             },
             "line": {
              "color": "white"
             }
            },
            "type": "table"
           }
          ]
         },
         "layout": {
          "annotationdefaults": {
           "arrowcolor": "#2a3f5f",
           "arrowhead": 0,
           "arrowwidth": 1
          },
          "autotypenumbers": "strict",
          "coloraxis": {
           "colorbar": {
            "outlinewidth": 0,
            "ticks": ""
           }
          },
          "colorscale": {
           "diverging": [
            [
             0,
             "#8e0152"
            ],
            [
             0.1,
             "#c51b7d"
            ],
            [
             0.2,
             "#de77ae"
            ],
            [
             0.3,
             "#f1b6da"
            ],
            [
             0.4,
             "#fde0ef"
            ],
            [
             0.5,
             "#f7f7f7"
            ],
            [
             0.6,
             "#e6f5d0"
            ],
            [
             0.7,
             "#b8e186"
            ],
            [
             0.8,
             "#7fbc41"
            ],
            [
             0.9,
             "#4d9221"
            ],
            [
             1,
             "#276419"
            ]
           ],
           "sequential": [
            [
             0,
             "#0d0887"
            ],
            [
             0.1111111111111111,
             "#46039f"
            ],
            [
             0.2222222222222222,
             "#7201a8"
            ],
            [
             0.3333333333333333,
             "#9c179e"
            ],
            [
             0.4444444444444444,
             "#bd3786"
            ],
            [
             0.5555555555555556,
             "#d8576b"
            ],
            [
             0.6666666666666666,
             "#ed7953"
            ],
            [
             0.7777777777777778,
             "#fb9f3a"
            ],
            [
             0.8888888888888888,
             "#fdca26"
            ],
            [
             1,
             "#f0f921"
            ]
           ],
           "sequentialminus": [
            [
             0,
             "#0d0887"
            ],
            [
             0.1111111111111111,
             "#46039f"
            ],
            [
             0.2222222222222222,
             "#7201a8"
            ],
            [
             0.3333333333333333,
             "#9c179e"
            ],
            [
             0.4444444444444444,
             "#bd3786"
            ],
            [
             0.5555555555555556,
             "#d8576b"
            ],
            [
             0.6666666666666666,
             "#ed7953"
            ],
            [
             0.7777777777777778,
             "#fb9f3a"
            ],
            [
             0.8888888888888888,
             "#fdca26"
            ],
            [
             1,
             "#f0f921"
            ]
           ]
          },
          "colorway": [
           "#636efa",
           "#EF553B",
           "#00cc96",
           "#ab63fa",
           "#FFA15A",
           "#19d3f3",
           "#FF6692",
           "#B6E880",
           "#FF97FF",
           "#FECB52"
          ],
          "font": {
           "color": "#2a3f5f"
          },
          "geo": {
           "bgcolor": "white",
           "lakecolor": "white",
           "landcolor": "#E5ECF6",
           "showlakes": true,
           "showland": true,
           "subunitcolor": "white"
          },
          "hoverlabel": {
           "align": "left"
          },
          "hovermode": "closest",
          "mapbox": {
           "style": "light"
          },
          "paper_bgcolor": "white",
          "plot_bgcolor": "#E5ECF6",
          "polar": {
           "angularaxis": {
            "gridcolor": "white",
            "linecolor": "white",
            "ticks": ""
           },
           "bgcolor": "#E5ECF6",
           "radialaxis": {
            "gridcolor": "white",
            "linecolor": "white",
            "ticks": ""
           }
          },
          "scene": {
           "xaxis": {
            "backgroundcolor": "#E5ECF6",
            "gridcolor": "white",
            "gridwidth": 2,
            "linecolor": "white",
            "showbackground": true,
            "ticks": "",
            "zerolinecolor": "white"
           },
           "yaxis": {
            "backgroundcolor": "#E5ECF6",
            "gridcolor": "white",
            "gridwidth": 2,
            "linecolor": "white",
            "showbackground": true,
            "ticks": "",
            "zerolinecolor": "white"
           },
           "zaxis": {
            "backgroundcolor": "#E5ECF6",
            "gridcolor": "white",
            "gridwidth": 2,
            "linecolor": "white",
            "showbackground": true,
            "ticks": "",
            "zerolinecolor": "white"
           }
          },
          "shapedefaults": {
           "line": {
            "color": "#2a3f5f"
           }
          },
          "ternary": {
           "aaxis": {
            "gridcolor": "white",
            "linecolor": "white",
            "ticks": ""
           },
           "baxis": {
            "gridcolor": "white",
            "linecolor": "white",
            "ticks": ""
           },
           "bgcolor": "#E5ECF6",
           "caxis": {
            "gridcolor": "white",
            "linecolor": "white",
            "ticks": ""
           }
          },
          "title": {
           "x": 0.05
          },
          "xaxis": {
           "automargin": true,
           "gridcolor": "white",
           "linecolor": "white",
           "ticks": "",
           "title": {
            "standoff": 15
           },
           "zerolinecolor": "white",
           "zerolinewidth": 2
          },
          "yaxis": {
           "automargin": true,
           "gridcolor": "white",
           "linecolor": "white",
           "ticks": "",
           "title": {
            "standoff": 15
           },
           "zerolinecolor": "white",
           "zerolinewidth": 2
          }
         }
        },
        "title": {
         "text": "Количество учеников в школах"
        },
        "xaxis": {
         "anchor": "y",
         "domain": [
          0,
          1
         ],
         "title": {
          "text": "Номер школы"
         }
        },
        "yaxis": {
         "anchor": "x",
         "domain": [
          0,
          1
         ],
         "title": {
          "text": "Ученики"
         }
        }
       }
      }
     },
     "metadata": {},
     "output_type": "display_data"
    }
   ],
   "source": [
    "import plotly.graph_objs as go\n",
    "import plotly.express as px\n",
    "\n",
    "sch=[\"175\", \"134\", \"Гимназия №1\", \"672\"]\n",
    "child=[435, 125, 796, 367]\n",
    "\n",
    "fig = px.bar(x=sch, y=child)\n",
    "\n",
    "fig.update_layout(\n",
    "    title=\"Количество учеников в школах\",\n",
    "    xaxis_title=\"Номер школы\",\n",
    "    yaxis_title=\"Ученики\"\n",
    ")\n",
    "fig.show()"
   ]
  },
  {
   "cell_type": "markdown",
   "metadata": {},
   "source": [
    " Сделать так, чтобы столбец принимал цвет в зависимости от значения \n",
    "показателя (marker=dict(color=признак, coloraxis=\"coloraxis\"))."
   ]
  },
  {
   "cell_type": "code",
   "execution_count": 70,
   "metadata": {},
   "outputs": [
    {
     "data": {
      "application/vnd.plotly.v1+json": {
       "config": {
        "plotlyServerURL": "https://plot.ly"
       },
       "data": [
        {
         "marker": {
          "color": [
           "red",
           "blue",
           "green",
           "orange"
          ]
         },
         "type": "bar",
         "x": [
          "175",
          "134",
          "Гимназия №1",
          "672"
         ],
         "y": [
          435,
          125,
          796,
          367
         ]
        }
       ],
       "layout": {
        "template": {
         "data": {
          "bar": [
           {
            "error_x": {
             "color": "#2a3f5f"
            },
            "error_y": {
             "color": "#2a3f5f"
            },
            "marker": {
             "line": {
              "color": "#E5ECF6",
              "width": 0.5
             },
             "pattern": {
              "fillmode": "overlay",
              "size": 10,
              "solidity": 0.2
             }
            },
            "type": "bar"
           }
          ],
          "barpolar": [
           {
            "marker": {
             "line": {
              "color": "#E5ECF6",
              "width": 0.5
             },
             "pattern": {
              "fillmode": "overlay",
              "size": 10,
              "solidity": 0.2
             }
            },
            "type": "barpolar"
           }
          ],
          "carpet": [
           {
            "aaxis": {
             "endlinecolor": "#2a3f5f",
             "gridcolor": "white",
             "linecolor": "white",
             "minorgridcolor": "white",
             "startlinecolor": "#2a3f5f"
            },
            "baxis": {
             "endlinecolor": "#2a3f5f",
             "gridcolor": "white",
             "linecolor": "white",
             "minorgridcolor": "white",
             "startlinecolor": "#2a3f5f"
            },
            "type": "carpet"
           }
          ],
          "choropleth": [
           {
            "colorbar": {
             "outlinewidth": 0,
             "ticks": ""
            },
            "type": "choropleth"
           }
          ],
          "contour": [
           {
            "colorbar": {
             "outlinewidth": 0,
             "ticks": ""
            },
            "colorscale": [
             [
              0,
              "#0d0887"
             ],
             [
              0.1111111111111111,
              "#46039f"
             ],
             [
              0.2222222222222222,
              "#7201a8"
             ],
             [
              0.3333333333333333,
              "#9c179e"
             ],
             [
              0.4444444444444444,
              "#bd3786"
             ],
             [
              0.5555555555555556,
              "#d8576b"
             ],
             [
              0.6666666666666666,
              "#ed7953"
             ],
             [
              0.7777777777777778,
              "#fb9f3a"
             ],
             [
              0.8888888888888888,
              "#fdca26"
             ],
             [
              1,
              "#f0f921"
             ]
            ],
            "type": "contour"
           }
          ],
          "contourcarpet": [
           {
            "colorbar": {
             "outlinewidth": 0,
             "ticks": ""
            },
            "type": "contourcarpet"
           }
          ],
          "heatmap": [
           {
            "colorbar": {
             "outlinewidth": 0,
             "ticks": ""
            },
            "colorscale": [
             [
              0,
              "#0d0887"
             ],
             [
              0.1111111111111111,
              "#46039f"
             ],
             [
              0.2222222222222222,
              "#7201a8"
             ],
             [
              0.3333333333333333,
              "#9c179e"
             ],
             [
              0.4444444444444444,
              "#bd3786"
             ],
             [
              0.5555555555555556,
              "#d8576b"
             ],
             [
              0.6666666666666666,
              "#ed7953"
             ],
             [
              0.7777777777777778,
              "#fb9f3a"
             ],
             [
              0.8888888888888888,
              "#fdca26"
             ],
             [
              1,
              "#f0f921"
             ]
            ],
            "type": "heatmap"
           }
          ],
          "heatmapgl": [
           {
            "colorbar": {
             "outlinewidth": 0,
             "ticks": ""
            },
            "colorscale": [
             [
              0,
              "#0d0887"
             ],
             [
              0.1111111111111111,
              "#46039f"
             ],
             [
              0.2222222222222222,
              "#7201a8"
             ],
             [
              0.3333333333333333,
              "#9c179e"
             ],
             [
              0.4444444444444444,
              "#bd3786"
             ],
             [
              0.5555555555555556,
              "#d8576b"
             ],
             [
              0.6666666666666666,
              "#ed7953"
             ],
             [
              0.7777777777777778,
              "#fb9f3a"
             ],
             [
              0.8888888888888888,
              "#fdca26"
             ],
             [
              1,
              "#f0f921"
             ]
            ],
            "type": "heatmapgl"
           }
          ],
          "histogram": [
           {
            "marker": {
             "pattern": {
              "fillmode": "overlay",
              "size": 10,
              "solidity": 0.2
             }
            },
            "type": "histogram"
           }
          ],
          "histogram2d": [
           {
            "colorbar": {
             "outlinewidth": 0,
             "ticks": ""
            },
            "colorscale": [
             [
              0,
              "#0d0887"
             ],
             [
              0.1111111111111111,
              "#46039f"
             ],
             [
              0.2222222222222222,
              "#7201a8"
             ],
             [
              0.3333333333333333,
              "#9c179e"
             ],
             [
              0.4444444444444444,
              "#bd3786"
             ],
             [
              0.5555555555555556,
              "#d8576b"
             ],
             [
              0.6666666666666666,
              "#ed7953"
             ],
             [
              0.7777777777777778,
              "#fb9f3a"
             ],
             [
              0.8888888888888888,
              "#fdca26"
             ],
             [
              1,
              "#f0f921"
             ]
            ],
            "type": "histogram2d"
           }
          ],
          "histogram2dcontour": [
           {
            "colorbar": {
             "outlinewidth": 0,
             "ticks": ""
            },
            "colorscale": [
             [
              0,
              "#0d0887"
             ],
             [
              0.1111111111111111,
              "#46039f"
             ],
             [
              0.2222222222222222,
              "#7201a8"
             ],
             [
              0.3333333333333333,
              "#9c179e"
             ],
             [
              0.4444444444444444,
              "#bd3786"
             ],
             [
              0.5555555555555556,
              "#d8576b"
             ],
             [
              0.6666666666666666,
              "#ed7953"
             ],
             [
              0.7777777777777778,
              "#fb9f3a"
             ],
             [
              0.8888888888888888,
              "#fdca26"
             ],
             [
              1,
              "#f0f921"
             ]
            ],
            "type": "histogram2dcontour"
           }
          ],
          "mesh3d": [
           {
            "colorbar": {
             "outlinewidth": 0,
             "ticks": ""
            },
            "type": "mesh3d"
           }
          ],
          "parcoords": [
           {
            "line": {
             "colorbar": {
              "outlinewidth": 0,
              "ticks": ""
             }
            },
            "type": "parcoords"
           }
          ],
          "pie": [
           {
            "automargin": true,
            "type": "pie"
           }
          ],
          "scatter": [
           {
            "fillpattern": {
             "fillmode": "overlay",
             "size": 10,
             "solidity": 0.2
            },
            "type": "scatter"
           }
          ],
          "scatter3d": [
           {
            "line": {
             "colorbar": {
              "outlinewidth": 0,
              "ticks": ""
             }
            },
            "marker": {
             "colorbar": {
              "outlinewidth": 0,
              "ticks": ""
             }
            },
            "type": "scatter3d"
           }
          ],
          "scattercarpet": [
           {
            "marker": {
             "colorbar": {
              "outlinewidth": 0,
              "ticks": ""
             }
            },
            "type": "scattercarpet"
           }
          ],
          "scattergeo": [
           {
            "marker": {
             "colorbar": {
              "outlinewidth": 0,
              "ticks": ""
             }
            },
            "type": "scattergeo"
           }
          ],
          "scattergl": [
           {
            "marker": {
             "colorbar": {
              "outlinewidth": 0,
              "ticks": ""
             }
            },
            "type": "scattergl"
           }
          ],
          "scattermapbox": [
           {
            "marker": {
             "colorbar": {
              "outlinewidth": 0,
              "ticks": ""
             }
            },
            "type": "scattermapbox"
           }
          ],
          "scatterpolar": [
           {
            "marker": {
             "colorbar": {
              "outlinewidth": 0,
              "ticks": ""
             }
            },
            "type": "scatterpolar"
           }
          ],
          "scatterpolargl": [
           {
            "marker": {
             "colorbar": {
              "outlinewidth": 0,
              "ticks": ""
             }
            },
            "type": "scatterpolargl"
           }
          ],
          "scatterternary": [
           {
            "marker": {
             "colorbar": {
              "outlinewidth": 0,
              "ticks": ""
             }
            },
            "type": "scatterternary"
           }
          ],
          "surface": [
           {
            "colorbar": {
             "outlinewidth": 0,
             "ticks": ""
            },
            "colorscale": [
             [
              0,
              "#0d0887"
             ],
             [
              0.1111111111111111,
              "#46039f"
             ],
             [
              0.2222222222222222,
              "#7201a8"
             ],
             [
              0.3333333333333333,
              "#9c179e"
             ],
             [
              0.4444444444444444,
              "#bd3786"
             ],
             [
              0.5555555555555556,
              "#d8576b"
             ],
             [
              0.6666666666666666,
              "#ed7953"
             ],
             [
              0.7777777777777778,
              "#fb9f3a"
             ],
             [
              0.8888888888888888,
              "#fdca26"
             ],
             [
              1,
              "#f0f921"
             ]
            ],
            "type": "surface"
           }
          ],
          "table": [
           {
            "cells": {
             "fill": {
              "color": "#EBF0F8"
             },
             "line": {
              "color": "white"
             }
            },
            "header": {
             "fill": {
              "color": "#C8D4E3"
             },
             "line": {
              "color": "white"
             }
            },
            "type": "table"
           }
          ]
         },
         "layout": {
          "annotationdefaults": {
           "arrowcolor": "#2a3f5f",
           "arrowhead": 0,
           "arrowwidth": 1
          },
          "autotypenumbers": "strict",
          "coloraxis": {
           "colorbar": {
            "outlinewidth": 0,
            "ticks": ""
           }
          },
          "colorscale": {
           "diverging": [
            [
             0,
             "#8e0152"
            ],
            [
             0.1,
             "#c51b7d"
            ],
            [
             0.2,
             "#de77ae"
            ],
            [
             0.3,
             "#f1b6da"
            ],
            [
             0.4,
             "#fde0ef"
            ],
            [
             0.5,
             "#f7f7f7"
            ],
            [
             0.6,
             "#e6f5d0"
            ],
            [
             0.7,
             "#b8e186"
            ],
            [
             0.8,
             "#7fbc41"
            ],
            [
             0.9,
             "#4d9221"
            ],
            [
             1,
             "#276419"
            ]
           ],
           "sequential": [
            [
             0,
             "#0d0887"
            ],
            [
             0.1111111111111111,
             "#46039f"
            ],
            [
             0.2222222222222222,
             "#7201a8"
            ],
            [
             0.3333333333333333,
             "#9c179e"
            ],
            [
             0.4444444444444444,
             "#bd3786"
            ],
            [
             0.5555555555555556,
             "#d8576b"
            ],
            [
             0.6666666666666666,
             "#ed7953"
            ],
            [
             0.7777777777777778,
             "#fb9f3a"
            ],
            [
             0.8888888888888888,
             "#fdca26"
            ],
            [
             1,
             "#f0f921"
            ]
           ],
           "sequentialminus": [
            [
             0,
             "#0d0887"
            ],
            [
             0.1111111111111111,
             "#46039f"
            ],
            [
             0.2222222222222222,
             "#7201a8"
            ],
            [
             0.3333333333333333,
             "#9c179e"
            ],
            [
             0.4444444444444444,
             "#bd3786"
            ],
            [
             0.5555555555555556,
             "#d8576b"
            ],
            [
             0.6666666666666666,
             "#ed7953"
            ],
            [
             0.7777777777777778,
             "#fb9f3a"
            ],
            [
             0.8888888888888888,
             "#fdca26"
            ],
            [
             1,
             "#f0f921"
            ]
           ]
          },
          "colorway": [
           "#636efa",
           "#EF553B",
           "#00cc96",
           "#ab63fa",
           "#FFA15A",
           "#19d3f3",
           "#FF6692",
           "#B6E880",
           "#FF97FF",
           "#FECB52"
          ],
          "font": {
           "color": "#2a3f5f"
          },
          "geo": {
           "bgcolor": "white",
           "lakecolor": "white",
           "landcolor": "#E5ECF6",
           "showlakes": true,
           "showland": true,
           "subunitcolor": "white"
          },
          "hoverlabel": {
           "align": "left"
          },
          "hovermode": "closest",
          "mapbox": {
           "style": "light"
          },
          "paper_bgcolor": "white",
          "plot_bgcolor": "#E5ECF6",
          "polar": {
           "angularaxis": {
            "gridcolor": "white",
            "linecolor": "white",
            "ticks": ""
           },
           "bgcolor": "#E5ECF6",
           "radialaxis": {
            "gridcolor": "white",
            "linecolor": "white",
            "ticks": ""
           }
          },
          "scene": {
           "xaxis": {
            "backgroundcolor": "#E5ECF6",
            "gridcolor": "white",
            "gridwidth": 2,
            "linecolor": "white",
            "showbackground": true,
            "ticks": "",
            "zerolinecolor": "white"
           },
           "yaxis": {
            "backgroundcolor": "#E5ECF6",
            "gridcolor": "white",
            "gridwidth": 2,
            "linecolor": "white",
            "showbackground": true,
            "ticks": "",
            "zerolinecolor": "white"
           },
           "zaxis": {
            "backgroundcolor": "#E5ECF6",
            "gridcolor": "white",
            "gridwidth": 2,
            "linecolor": "white",
            "showbackground": true,
            "ticks": "",
            "zerolinecolor": "white"
           }
          },
          "shapedefaults": {
           "line": {
            "color": "#2a3f5f"
           }
          },
          "ternary": {
           "aaxis": {
            "gridcolor": "white",
            "linecolor": "white",
            "ticks": ""
           },
           "baxis": {
            "gridcolor": "white",
            "linecolor": "white",
            "ticks": ""
           },
           "bgcolor": "#E5ECF6",
           "caxis": {
            "gridcolor": "white",
            "linecolor": "white",
            "ticks": ""
           }
          },
          "title": {
           "x": 0.05
          },
          "xaxis": {
           "automargin": true,
           "gridcolor": "white",
           "linecolor": "white",
           "ticks": "",
           "title": {
            "standoff": 15
           },
           "zerolinecolor": "white",
           "zerolinewidth": 2
          },
          "yaxis": {
           "automargin": true,
           "gridcolor": "white",
           "linecolor": "white",
           "ticks": "",
           "title": {
            "standoff": 15
           },
           "zerolinecolor": "white",
           "zerolinewidth": 2
          }
         }
        },
        "title": {
         "text": "Количество учеников в школах"
        },
        "xaxis": {
         "title": {
          "text": "Номер школы"
         }
        },
        "yaxis": {
         "title": {
          "text": "Ученики"
         }
        }
       }
      }
     },
     "metadata": {},
     "output_type": "display_data"
    }
   ],
   "source": [
    "import plotly.graph_objects as go\n",
    "\n",
    "fig = go.Figure()\n",
    "fig.add_trace(go.Bar(x=sch, y=child,\n",
    "                    marker=dict(color=[\"red\", \"blue\", \"green\", \"orange\"])))\n",
    "\n",
    "fig.update_layout(\n",
    "    title=\"Количество учеников в школах\",\n",
    "    xaxis_title=\"Номер школы\",\n",
    "    yaxis_title=\"Ученики\"\n",
    ")\n",
    "fig.show()"
   ]
  },
  {
   "cell_type": "markdown",
   "metadata": {},
   "source": [
    " Сделать так, чтобы границы каждого столбца были выделены чёрной \n",
    "линией с толщиной равной 2."
   ]
  },
  {
   "cell_type": "code",
   "execution_count": 89,
   "metadata": {},
   "outputs": [
    {
     "data": {
      "application/vnd.plotly.v1+json": {
       "config": {
        "plotlyServerURL": "https://plot.ly"
       },
       "data": [
        {
         "marker": {
          "color": [
           0,
           1,
           2,
           3
          ],
          "coloraxis": "coloraxis",
          "line": {
           "color": "black",
           "width": 2
          }
         },
         "type": "bar",
         "x": [
          "175",
          "134",
          "Гимназия №1",
          "672"
         ],
         "y": [
          435,
          125,
          796,
          367
         ]
        }
       ],
       "layout": {
        "template": {
         "data": {
          "bar": [
           {
            "error_x": {
             "color": "#2a3f5f"
            },
            "error_y": {
             "color": "#2a3f5f"
            },
            "marker": {
             "line": {
              "color": "#E5ECF6",
              "width": 0.5
             },
             "pattern": {
              "fillmode": "overlay",
              "size": 10,
              "solidity": 0.2
             }
            },
            "type": "bar"
           }
          ],
          "barpolar": [
           {
            "marker": {
             "line": {
              "color": "#E5ECF6",
              "width": 0.5
             },
             "pattern": {
              "fillmode": "overlay",
              "size": 10,
              "solidity": 0.2
             }
            },
            "type": "barpolar"
           }
          ],
          "carpet": [
           {
            "aaxis": {
             "endlinecolor": "#2a3f5f",
             "gridcolor": "white",
             "linecolor": "white",
             "minorgridcolor": "white",
             "startlinecolor": "#2a3f5f"
            },
            "baxis": {
             "endlinecolor": "#2a3f5f",
             "gridcolor": "white",
             "linecolor": "white",
             "minorgridcolor": "white",
             "startlinecolor": "#2a3f5f"
            },
            "type": "carpet"
           }
          ],
          "choropleth": [
           {
            "colorbar": {
             "outlinewidth": 0,
             "ticks": ""
            },
            "type": "choropleth"
           }
          ],
          "contour": [
           {
            "colorbar": {
             "outlinewidth": 0,
             "ticks": ""
            },
            "colorscale": [
             [
              0,
              "#0d0887"
             ],
             [
              0.1111111111111111,
              "#46039f"
             ],
             [
              0.2222222222222222,
              "#7201a8"
             ],
             [
              0.3333333333333333,
              "#9c179e"
             ],
             [
              0.4444444444444444,
              "#bd3786"
             ],
             [
              0.5555555555555556,
              "#d8576b"
             ],
             [
              0.6666666666666666,
              "#ed7953"
             ],
             [
              0.7777777777777778,
              "#fb9f3a"
             ],
             [
              0.8888888888888888,
              "#fdca26"
             ],
             [
              1,
              "#f0f921"
             ]
            ],
            "type": "contour"
           }
          ],
          "contourcarpet": [
           {
            "colorbar": {
             "outlinewidth": 0,
             "ticks": ""
            },
            "type": "contourcarpet"
           }
          ],
          "heatmap": [
           {
            "colorbar": {
             "outlinewidth": 0,
             "ticks": ""
            },
            "colorscale": [
             [
              0,
              "#0d0887"
             ],
             [
              0.1111111111111111,
              "#46039f"
             ],
             [
              0.2222222222222222,
              "#7201a8"
             ],
             [
              0.3333333333333333,
              "#9c179e"
             ],
             [
              0.4444444444444444,
              "#bd3786"
             ],
             [
              0.5555555555555556,
              "#d8576b"
             ],
             [
              0.6666666666666666,
              "#ed7953"
             ],
             [
              0.7777777777777778,
              "#fb9f3a"
             ],
             [
              0.8888888888888888,
              "#fdca26"
             ],
             [
              1,
              "#f0f921"
             ]
            ],
            "type": "heatmap"
           }
          ],
          "heatmapgl": [
           {
            "colorbar": {
             "outlinewidth": 0,
             "ticks": ""
            },
            "colorscale": [
             [
              0,
              "#0d0887"
             ],
             [
              0.1111111111111111,
              "#46039f"
             ],
             [
              0.2222222222222222,
              "#7201a8"
             ],
             [
              0.3333333333333333,
              "#9c179e"
             ],
             [
              0.4444444444444444,
              "#bd3786"
             ],
             [
              0.5555555555555556,
              "#d8576b"
             ],
             [
              0.6666666666666666,
              "#ed7953"
             ],
             [
              0.7777777777777778,
              "#fb9f3a"
             ],
             [
              0.8888888888888888,
              "#fdca26"
             ],
             [
              1,
              "#f0f921"
             ]
            ],
            "type": "heatmapgl"
           }
          ],
          "histogram": [
           {
            "marker": {
             "pattern": {
              "fillmode": "overlay",
              "size": 10,
              "solidity": 0.2
             }
            },
            "type": "histogram"
           }
          ],
          "histogram2d": [
           {
            "colorbar": {
             "outlinewidth": 0,
             "ticks": ""
            },
            "colorscale": [
             [
              0,
              "#0d0887"
             ],
             [
              0.1111111111111111,
              "#46039f"
             ],
             [
              0.2222222222222222,
              "#7201a8"
             ],
             [
              0.3333333333333333,
              "#9c179e"
             ],
             [
              0.4444444444444444,
              "#bd3786"
             ],
             [
              0.5555555555555556,
              "#d8576b"
             ],
             [
              0.6666666666666666,
              "#ed7953"
             ],
             [
              0.7777777777777778,
              "#fb9f3a"
             ],
             [
              0.8888888888888888,
              "#fdca26"
             ],
             [
              1,
              "#f0f921"
             ]
            ],
            "type": "histogram2d"
           }
          ],
          "histogram2dcontour": [
           {
            "colorbar": {
             "outlinewidth": 0,
             "ticks": ""
            },
            "colorscale": [
             [
              0,
              "#0d0887"
             ],
             [
              0.1111111111111111,
              "#46039f"
             ],
             [
              0.2222222222222222,
              "#7201a8"
             ],
             [
              0.3333333333333333,
              "#9c179e"
             ],
             [
              0.4444444444444444,
              "#bd3786"
             ],
             [
              0.5555555555555556,
              "#d8576b"
             ],
             [
              0.6666666666666666,
              "#ed7953"
             ],
             [
              0.7777777777777778,
              "#fb9f3a"
             ],
             [
              0.8888888888888888,
              "#fdca26"
             ],
             [
              1,
              "#f0f921"
             ]
            ],
            "type": "histogram2dcontour"
           }
          ],
          "mesh3d": [
           {
            "colorbar": {
             "outlinewidth": 0,
             "ticks": ""
            },
            "type": "mesh3d"
           }
          ],
          "parcoords": [
           {
            "line": {
             "colorbar": {
              "outlinewidth": 0,
              "ticks": ""
             }
            },
            "type": "parcoords"
           }
          ],
          "pie": [
           {
            "automargin": true,
            "type": "pie"
           }
          ],
          "scatter": [
           {
            "fillpattern": {
             "fillmode": "overlay",
             "size": 10,
             "solidity": 0.2
            },
            "type": "scatter"
           }
          ],
          "scatter3d": [
           {
            "line": {
             "colorbar": {
              "outlinewidth": 0,
              "ticks": ""
             }
            },
            "marker": {
             "colorbar": {
              "outlinewidth": 0,
              "ticks": ""
             }
            },
            "type": "scatter3d"
           }
          ],
          "scattercarpet": [
           {
            "marker": {
             "colorbar": {
              "outlinewidth": 0,
              "ticks": ""
             }
            },
            "type": "scattercarpet"
           }
          ],
          "scattergeo": [
           {
            "marker": {
             "colorbar": {
              "outlinewidth": 0,
              "ticks": ""
             }
            },
            "type": "scattergeo"
           }
          ],
          "scattergl": [
           {
            "marker": {
             "colorbar": {
              "outlinewidth": 0,
              "ticks": ""
             }
            },
            "type": "scattergl"
           }
          ],
          "scattermapbox": [
           {
            "marker": {
             "colorbar": {
              "outlinewidth": 0,
              "ticks": ""
             }
            },
            "type": "scattermapbox"
           }
          ],
          "scatterpolar": [
           {
            "marker": {
             "colorbar": {
              "outlinewidth": 0,
              "ticks": ""
             }
            },
            "type": "scatterpolar"
           }
          ],
          "scatterpolargl": [
           {
            "marker": {
             "colorbar": {
              "outlinewidth": 0,
              "ticks": ""
             }
            },
            "type": "scatterpolargl"
           }
          ],
          "scatterternary": [
           {
            "marker": {
             "colorbar": {
              "outlinewidth": 0,
              "ticks": ""
             }
            },
            "type": "scatterternary"
           }
          ],
          "surface": [
           {
            "colorbar": {
             "outlinewidth": 0,
             "ticks": ""
            },
            "colorscale": [
             [
              0,
              "#0d0887"
             ],
             [
              0.1111111111111111,
              "#46039f"
             ],
             [
              0.2222222222222222,
              "#7201a8"
             ],
             [
              0.3333333333333333,
              "#9c179e"
             ],
             [
              0.4444444444444444,
              "#bd3786"
             ],
             [
              0.5555555555555556,
              "#d8576b"
             ],
             [
              0.6666666666666666,
              "#ed7953"
             ],
             [
              0.7777777777777778,
              "#fb9f3a"
             ],
             [
              0.8888888888888888,
              "#fdca26"
             ],
             [
              1,
              "#f0f921"
             ]
            ],
            "type": "surface"
           }
          ],
          "table": [
           {
            "cells": {
             "fill": {
              "color": "#EBF0F8"
             },
             "line": {
              "color": "white"
             }
            },
            "header": {
             "fill": {
              "color": "#C8D4E3"
             },
             "line": {
              "color": "white"
             }
            },
            "type": "table"
           }
          ]
         },
         "layout": {
          "annotationdefaults": {
           "arrowcolor": "#2a3f5f",
           "arrowhead": 0,
           "arrowwidth": 1
          },
          "autotypenumbers": "strict",
          "coloraxis": {
           "colorbar": {
            "outlinewidth": 0,
            "ticks": ""
           }
          },
          "colorscale": {
           "diverging": [
            [
             0,
             "#8e0152"
            ],
            [
             0.1,
             "#c51b7d"
            ],
            [
             0.2,
             "#de77ae"
            ],
            [
             0.3,
             "#f1b6da"
            ],
            [
             0.4,
             "#fde0ef"
            ],
            [
             0.5,
             "#f7f7f7"
            ],
            [
             0.6,
             "#e6f5d0"
            ],
            [
             0.7,
             "#b8e186"
            ],
            [
             0.8,
             "#7fbc41"
            ],
            [
             0.9,
             "#4d9221"
            ],
            [
             1,
             "#276419"
            ]
           ],
           "sequential": [
            [
             0,
             "#0d0887"
            ],
            [
             0.1111111111111111,
             "#46039f"
            ],
            [
             0.2222222222222222,
             "#7201a8"
            ],
            [
             0.3333333333333333,
             "#9c179e"
            ],
            [
             0.4444444444444444,
             "#bd3786"
            ],
            [
             0.5555555555555556,
             "#d8576b"
            ],
            [
             0.6666666666666666,
             "#ed7953"
            ],
            [
             0.7777777777777778,
             "#fb9f3a"
            ],
            [
             0.8888888888888888,
             "#fdca26"
            ],
            [
             1,
             "#f0f921"
            ]
           ],
           "sequentialminus": [
            [
             0,
             "#0d0887"
            ],
            [
             0.1111111111111111,
             "#46039f"
            ],
            [
             0.2222222222222222,
             "#7201a8"
            ],
            [
             0.3333333333333333,
             "#9c179e"
            ],
            [
             0.4444444444444444,
             "#bd3786"
            ],
            [
             0.5555555555555556,
             "#d8576b"
            ],
            [
             0.6666666666666666,
             "#ed7953"
            ],
            [
             0.7777777777777778,
             "#fb9f3a"
            ],
            [
             0.8888888888888888,
             "#fdca26"
            ],
            [
             1,
             "#f0f921"
            ]
           ]
          },
          "colorway": [
           "#636efa",
           "#EF553B",
           "#00cc96",
           "#ab63fa",
           "#FFA15A",
           "#19d3f3",
           "#FF6692",
           "#B6E880",
           "#FF97FF",
           "#FECB52"
          ],
          "font": {
           "color": "#2a3f5f"
          },
          "geo": {
           "bgcolor": "white",
           "lakecolor": "white",
           "landcolor": "#E5ECF6",
           "showlakes": true,
           "showland": true,
           "subunitcolor": "white"
          },
          "hoverlabel": {
           "align": "left"
          },
          "hovermode": "closest",
          "mapbox": {
           "style": "light"
          },
          "paper_bgcolor": "white",
          "plot_bgcolor": "#E5ECF6",
          "polar": {
           "angularaxis": {
            "gridcolor": "white",
            "linecolor": "white",
            "ticks": ""
           },
           "bgcolor": "#E5ECF6",
           "radialaxis": {
            "gridcolor": "white",
            "linecolor": "white",
            "ticks": ""
           }
          },
          "scene": {
           "xaxis": {
            "backgroundcolor": "#E5ECF6",
            "gridcolor": "white",
            "gridwidth": 2,
            "linecolor": "white",
            "showbackground": true,
            "ticks": "",
            "zerolinecolor": "white"
           },
           "yaxis": {
            "backgroundcolor": "#E5ECF6",
            "gridcolor": "white",
            "gridwidth": 2,
            "linecolor": "white",
            "showbackground": true,
            "ticks": "",
            "zerolinecolor": "white"
           },
           "zaxis": {
            "backgroundcolor": "#E5ECF6",
            "gridcolor": "white",
            "gridwidth": 2,
            "linecolor": "white",
            "showbackground": true,
            "ticks": "",
            "zerolinecolor": "white"
           }
          },
          "shapedefaults": {
           "line": {
            "color": "#2a3f5f"
           }
          },
          "ternary": {
           "aaxis": {
            "gridcolor": "white",
            "linecolor": "white",
            "ticks": ""
           },
           "baxis": {
            "gridcolor": "white",
            "linecolor": "white",
            "ticks": ""
           },
           "bgcolor": "#E5ECF6",
           "caxis": {
            "gridcolor": "white",
            "linecolor": "white",
            "ticks": ""
           }
          },
          "title": {
           "x": 0.05
          },
          "xaxis": {
           "automargin": true,
           "gridcolor": "white",
           "linecolor": "white",
           "ticks": "",
           "title": {
            "standoff": 15
           },
           "zerolinecolor": "white",
           "zerolinewidth": 2
          },
          "yaxis": {
           "automargin": true,
           "gridcolor": "white",
           "linecolor": "white",
           "ticks": "",
           "title": {
            "standoff": 15
           },
           "zerolinecolor": "white",
           "zerolinewidth": 2
          }
         }
        },
        "title": {
         "text": "Количество учеников в школах"
        },
        "xaxis": {
         "title": {
          "text": "Номер школы"
         }
        },
        "yaxis": {
         "title": {
          "text": "Ученики"
         }
        }
       }
      }
     },
     "metadata": {},
     "output_type": "display_data"
    }
   ],
   "source": [
    "fig = go.Figure()\n",
    "fig.add_trace(go.Bar(x=sch, y=child,\n",
    "                    marker=dict(color=list(range(len(sch))),  coloraxis='coloraxis', line=dict(color='black', width=2))))\n",
    "\n",
    "fig.update_layout(\n",
    "    title=\"Количество учеников в школах\",\n",
    "    xaxis_title=\"Номер школы\",\n",
    "    yaxis_title=\"Ученики\",\n",
    ")\n",
    "fig.show()"
   ]
  },
  {
   "cell_type": "markdown",
   "metadata": {},
   "source": [
    "Отобразить заголовок диаграммы, разместив его по центру сверху, с \n",
    "20 размером текста"
   ]
  },
  {
   "cell_type": "code",
   "execution_count": 122,
   "metadata": {},
   "outputs": [
    {
     "data": {
      "application/vnd.plotly.v1+json": {
       "config": {
        "plotlyServerURL": "https://plot.ly"
       },
       "data": [
        {
         "marker": {
          "color": [
           0,
           1,
           2,
           3
          ],
          "coloraxis": "coloraxis",
          "line": {
           "color": "black",
           "width": 2
          }
         },
         "type": "bar",
         "x": [
          "175",
          "134",
          "Гимназия №1",
          "672"
         ],
         "y": [
          435,
          125,
          796,
          367
         ]
        }
       ],
       "layout": {
        "margin": {
         "b": 0,
         "l": 0,
         "r": 0,
         "t": 30
        },
        "template": {
         "data": {
          "bar": [
           {
            "error_x": {
             "color": "#2a3f5f"
            },
            "error_y": {
             "color": "#2a3f5f"
            },
            "marker": {
             "line": {
              "color": "#E5ECF6",
              "width": 0.5
             },
             "pattern": {
              "fillmode": "overlay",
              "size": 10,
              "solidity": 0.2
             }
            },
            "type": "bar"
           }
          ],
          "barpolar": [
           {
            "marker": {
             "line": {
              "color": "#E5ECF6",
              "width": 0.5
             },
             "pattern": {
              "fillmode": "overlay",
              "size": 10,
              "solidity": 0.2
             }
            },
            "type": "barpolar"
           }
          ],
          "carpet": [
           {
            "aaxis": {
             "endlinecolor": "#2a3f5f",
             "gridcolor": "white",
             "linecolor": "white",
             "minorgridcolor": "white",
             "startlinecolor": "#2a3f5f"
            },
            "baxis": {
             "endlinecolor": "#2a3f5f",
             "gridcolor": "white",
             "linecolor": "white",
             "minorgridcolor": "white",
             "startlinecolor": "#2a3f5f"
            },
            "type": "carpet"
           }
          ],
          "choropleth": [
           {
            "colorbar": {
             "outlinewidth": 0,
             "ticks": ""
            },
            "type": "choropleth"
           }
          ],
          "contour": [
           {
            "colorbar": {
             "outlinewidth": 0,
             "ticks": ""
            },
            "colorscale": [
             [
              0,
              "#0d0887"
             ],
             [
              0.1111111111111111,
              "#46039f"
             ],
             [
              0.2222222222222222,
              "#7201a8"
             ],
             [
              0.3333333333333333,
              "#9c179e"
             ],
             [
              0.4444444444444444,
              "#bd3786"
             ],
             [
              0.5555555555555556,
              "#d8576b"
             ],
             [
              0.6666666666666666,
              "#ed7953"
             ],
             [
              0.7777777777777778,
              "#fb9f3a"
             ],
             [
              0.8888888888888888,
              "#fdca26"
             ],
             [
              1,
              "#f0f921"
             ]
            ],
            "type": "contour"
           }
          ],
          "contourcarpet": [
           {
            "colorbar": {
             "outlinewidth": 0,
             "ticks": ""
            },
            "type": "contourcarpet"
           }
          ],
          "heatmap": [
           {
            "colorbar": {
             "outlinewidth": 0,
             "ticks": ""
            },
            "colorscale": [
             [
              0,
              "#0d0887"
             ],
             [
              0.1111111111111111,
              "#46039f"
             ],
             [
              0.2222222222222222,
              "#7201a8"
             ],
             [
              0.3333333333333333,
              "#9c179e"
             ],
             [
              0.4444444444444444,
              "#bd3786"
             ],
             [
              0.5555555555555556,
              "#d8576b"
             ],
             [
              0.6666666666666666,
              "#ed7953"
             ],
             [
              0.7777777777777778,
              "#fb9f3a"
             ],
             [
              0.8888888888888888,
              "#fdca26"
             ],
             [
              1,
              "#f0f921"
             ]
            ],
            "type": "heatmap"
           }
          ],
          "heatmapgl": [
           {
            "colorbar": {
             "outlinewidth": 0,
             "ticks": ""
            },
            "colorscale": [
             [
              0,
              "#0d0887"
             ],
             [
              0.1111111111111111,
              "#46039f"
             ],
             [
              0.2222222222222222,
              "#7201a8"
             ],
             [
              0.3333333333333333,
              "#9c179e"
             ],
             [
              0.4444444444444444,
              "#bd3786"
             ],
             [
              0.5555555555555556,
              "#d8576b"
             ],
             [
              0.6666666666666666,
              "#ed7953"
             ],
             [
              0.7777777777777778,
              "#fb9f3a"
             ],
             [
              0.8888888888888888,
              "#fdca26"
             ],
             [
              1,
              "#f0f921"
             ]
            ],
            "type": "heatmapgl"
           }
          ],
          "histogram": [
           {
            "marker": {
             "pattern": {
              "fillmode": "overlay",
              "size": 10,
              "solidity": 0.2
             }
            },
            "type": "histogram"
           }
          ],
          "histogram2d": [
           {
            "colorbar": {
             "outlinewidth": 0,
             "ticks": ""
            },
            "colorscale": [
             [
              0,
              "#0d0887"
             ],
             [
              0.1111111111111111,
              "#46039f"
             ],
             [
              0.2222222222222222,
              "#7201a8"
             ],
             [
              0.3333333333333333,
              "#9c179e"
             ],
             [
              0.4444444444444444,
              "#bd3786"
             ],
             [
              0.5555555555555556,
              "#d8576b"
             ],
             [
              0.6666666666666666,
              "#ed7953"
             ],
             [
              0.7777777777777778,
              "#fb9f3a"
             ],
             [
              0.8888888888888888,
              "#fdca26"
             ],
             [
              1,
              "#f0f921"
             ]
            ],
            "type": "histogram2d"
           }
          ],
          "histogram2dcontour": [
           {
            "colorbar": {
             "outlinewidth": 0,
             "ticks": ""
            },
            "colorscale": [
             [
              0,
              "#0d0887"
             ],
             [
              0.1111111111111111,
              "#46039f"
             ],
             [
              0.2222222222222222,
              "#7201a8"
             ],
             [
              0.3333333333333333,
              "#9c179e"
             ],
             [
              0.4444444444444444,
              "#bd3786"
             ],
             [
              0.5555555555555556,
              "#d8576b"
             ],
             [
              0.6666666666666666,
              "#ed7953"
             ],
             [
              0.7777777777777778,
              "#fb9f3a"
             ],
             [
              0.8888888888888888,
              "#fdca26"
             ],
             [
              1,
              "#f0f921"
             ]
            ],
            "type": "histogram2dcontour"
           }
          ],
          "mesh3d": [
           {
            "colorbar": {
             "outlinewidth": 0,
             "ticks": ""
            },
            "type": "mesh3d"
           }
          ],
          "parcoords": [
           {
            "line": {
             "colorbar": {
              "outlinewidth": 0,
              "ticks": ""
             }
            },
            "type": "parcoords"
           }
          ],
          "pie": [
           {
            "automargin": true,
            "type": "pie"
           }
          ],
          "scatter": [
           {
            "fillpattern": {
             "fillmode": "overlay",
             "size": 10,
             "solidity": 0.2
            },
            "type": "scatter"
           }
          ],
          "scatter3d": [
           {
            "line": {
             "colorbar": {
              "outlinewidth": 0,
              "ticks": ""
             }
            },
            "marker": {
             "colorbar": {
              "outlinewidth": 0,
              "ticks": ""
             }
            },
            "type": "scatter3d"
           }
          ],
          "scattercarpet": [
           {
            "marker": {
             "colorbar": {
              "outlinewidth": 0,
              "ticks": ""
             }
            },
            "type": "scattercarpet"
           }
          ],
          "scattergeo": [
           {
            "marker": {
             "colorbar": {
              "outlinewidth": 0,
              "ticks": ""
             }
            },
            "type": "scattergeo"
           }
          ],
          "scattergl": [
           {
            "marker": {
             "colorbar": {
              "outlinewidth": 0,
              "ticks": ""
             }
            },
            "type": "scattergl"
           }
          ],
          "scattermapbox": [
           {
            "marker": {
             "colorbar": {
              "outlinewidth": 0,
              "ticks": ""
             }
            },
            "type": "scattermapbox"
           }
          ],
          "scatterpolar": [
           {
            "marker": {
             "colorbar": {
              "outlinewidth": 0,
              "ticks": ""
             }
            },
            "type": "scatterpolar"
           }
          ],
          "scatterpolargl": [
           {
            "marker": {
             "colorbar": {
              "outlinewidth": 0,
              "ticks": ""
             }
            },
            "type": "scatterpolargl"
           }
          ],
          "scatterternary": [
           {
            "marker": {
             "colorbar": {
              "outlinewidth": 0,
              "ticks": ""
             }
            },
            "type": "scatterternary"
           }
          ],
          "surface": [
           {
            "colorbar": {
             "outlinewidth": 0,
             "ticks": ""
            },
            "colorscale": [
             [
              0,
              "#0d0887"
             ],
             [
              0.1111111111111111,
              "#46039f"
             ],
             [
              0.2222222222222222,
              "#7201a8"
             ],
             [
              0.3333333333333333,
              "#9c179e"
             ],
             [
              0.4444444444444444,
              "#bd3786"
             ],
             [
              0.5555555555555556,
              "#d8576b"
             ],
             [
              0.6666666666666666,
              "#ed7953"
             ],
             [
              0.7777777777777778,
              "#fb9f3a"
             ],
             [
              0.8888888888888888,
              "#fdca26"
             ],
             [
              1,
              "#f0f921"
             ]
            ],
            "type": "surface"
           }
          ],
          "table": [
           {
            "cells": {
             "fill": {
              "color": "#EBF0F8"
             },
             "line": {
              "color": "white"
             }
            },
            "header": {
             "fill": {
              "color": "#C8D4E3"
             },
             "line": {
              "color": "white"
             }
            },
            "type": "table"
           }
          ]
         },
         "layout": {
          "annotationdefaults": {
           "arrowcolor": "#2a3f5f",
           "arrowhead": 0,
           "arrowwidth": 1
          },
          "autotypenumbers": "strict",
          "coloraxis": {
           "colorbar": {
            "outlinewidth": 0,
            "ticks": ""
           }
          },
          "colorscale": {
           "diverging": [
            [
             0,
             "#8e0152"
            ],
            [
             0.1,
             "#c51b7d"
            ],
            [
             0.2,
             "#de77ae"
            ],
            [
             0.3,
             "#f1b6da"
            ],
            [
             0.4,
             "#fde0ef"
            ],
            [
             0.5,
             "#f7f7f7"
            ],
            [
             0.6,
             "#e6f5d0"
            ],
            [
             0.7,
             "#b8e186"
            ],
            [
             0.8,
             "#7fbc41"
            ],
            [
             0.9,
             "#4d9221"
            ],
            [
             1,
             "#276419"
            ]
           ],
           "sequential": [
            [
             0,
             "#0d0887"
            ],
            [
             0.1111111111111111,
             "#46039f"
            ],
            [
             0.2222222222222222,
             "#7201a8"
            ],
            [
             0.3333333333333333,
             "#9c179e"
            ],
            [
             0.4444444444444444,
             "#bd3786"
            ],
            [
             0.5555555555555556,
             "#d8576b"
            ],
            [
             0.6666666666666666,
             "#ed7953"
            ],
            [
             0.7777777777777778,
             "#fb9f3a"
            ],
            [
             0.8888888888888888,
             "#fdca26"
            ],
            [
             1,
             "#f0f921"
            ]
           ],
           "sequentialminus": [
            [
             0,
             "#0d0887"
            ],
            [
             0.1111111111111111,
             "#46039f"
            ],
            [
             0.2222222222222222,
             "#7201a8"
            ],
            [
             0.3333333333333333,
             "#9c179e"
            ],
            [
             0.4444444444444444,
             "#bd3786"
            ],
            [
             0.5555555555555556,
             "#d8576b"
            ],
            [
             0.6666666666666666,
             "#ed7953"
            ],
            [
             0.7777777777777778,
             "#fb9f3a"
            ],
            [
             0.8888888888888888,
             "#fdca26"
            ],
            [
             1,
             "#f0f921"
            ]
           ]
          },
          "colorway": [
           "#636efa",
           "#EF553B",
           "#00cc96",
           "#ab63fa",
           "#FFA15A",
           "#19d3f3",
           "#FF6692",
           "#B6E880",
           "#FF97FF",
           "#FECB52"
          ],
          "font": {
           "color": "#2a3f5f"
          },
          "geo": {
           "bgcolor": "white",
           "lakecolor": "white",
           "landcolor": "#E5ECF6",
           "showlakes": true,
           "showland": true,
           "subunitcolor": "white"
          },
          "hoverlabel": {
           "align": "left"
          },
          "hovermode": "closest",
          "mapbox": {
           "style": "light"
          },
          "paper_bgcolor": "white",
          "plot_bgcolor": "#E5ECF6",
          "polar": {
           "angularaxis": {
            "gridcolor": "white",
            "linecolor": "white",
            "ticks": ""
           },
           "bgcolor": "#E5ECF6",
           "radialaxis": {
            "gridcolor": "white",
            "linecolor": "white",
            "ticks": ""
           }
          },
          "scene": {
           "xaxis": {
            "backgroundcolor": "#E5ECF6",
            "gridcolor": "white",
            "gridwidth": 2,
            "linecolor": "white",
            "showbackground": true,
            "ticks": "",
            "zerolinecolor": "white"
           },
           "yaxis": {
            "backgroundcolor": "#E5ECF6",
            "gridcolor": "white",
            "gridwidth": 2,
            "linecolor": "white",
            "showbackground": true,
            "ticks": "",
            "zerolinecolor": "white"
           },
           "zaxis": {
            "backgroundcolor": "#E5ECF6",
            "gridcolor": "white",
            "gridwidth": 2,
            "linecolor": "white",
            "showbackground": true,
            "ticks": "",
            "zerolinecolor": "white"
           }
          },
          "shapedefaults": {
           "line": {
            "color": "#2a3f5f"
           }
          },
          "ternary": {
           "aaxis": {
            "gridcolor": "white",
            "linecolor": "white",
            "ticks": ""
           },
           "baxis": {
            "gridcolor": "white",
            "linecolor": "white",
            "ticks": ""
           },
           "bgcolor": "#E5ECF6",
           "caxis": {
            "gridcolor": "white",
            "linecolor": "white",
            "ticks": ""
           }
          },
          "title": {
           "x": 0.05
          },
          "xaxis": {
           "automargin": true,
           "gridcolor": "white",
           "linecolor": "white",
           "ticks": "",
           "title": {
            "standoff": 15
           },
           "zerolinecolor": "white",
           "zerolinewidth": 2
          },
          "yaxis": {
           "automargin": true,
           "gridcolor": "white",
           "linecolor": "white",
           "ticks": "",
           "title": {
            "standoff": 15
           },
           "zerolinecolor": "white",
           "zerolinewidth": 2
          }
         }
        },
        "title": {
         "text": "Количество учеников в школах",
         "x": 0.5
        },
        "xaxis": {
         "tickangle": -45,
         "tickfont": {
          "size": 14
         },
         "title": {
          "text": "Номер школы"
         }
        },
        "yaxis": {
         "tickfont": {
          "size": 14
         },
         "title": {
          "text": "Ученики"
         }
        }
       }
      }
     },
     "metadata": {},
     "output_type": "display_data"
    }
   ],
   "source": [
    "fig.update_layout(\n",
    "    title=\"Количество учеников в школах\", title_font_size=20, title_x=0.5,\n",
    "    xaxis_title=\"Номер школы\",\n",
    "    yaxis_title=\"Ученики\",\n",
    ")\n",
    "fig.show()"
   ]
  },
  {
   "cell_type": "markdown",
   "metadata": {},
   "source": [
    "Добавить подписи для осей X и Y с размером текста, равным 16. Для \n",
    "оси абсцисс развернуть метки так, чтобы они читались  под углом, \n",
    "равным 315"
   ]
  },
  {
   "cell_type": "code",
   "execution_count": 123,
   "metadata": {},
   "outputs": [
    {
     "data": {
      "application/vnd.plotly.v1+json": {
       "config": {
        "plotlyServerURL": "https://plot.ly"
       },
       "data": [
        {
         "marker": {
          "color": [
           0,
           1,
           2,
           3
          ],
          "coloraxis": "coloraxis",
          "line": {
           "color": "black",
           "width": 2
          }
         },
         "type": "bar",
         "x": [
          "175",
          "134",
          "Гимназия №1",
          "672"
         ],
         "y": [
          435,
          125,
          796,
          367
         ]
        }
       ],
       "layout": {
        "margin": {
         "b": 0,
         "l": 0,
         "r": 0,
         "t": 30
        },
        "template": {
         "data": {
          "bar": [
           {
            "error_x": {
             "color": "#2a3f5f"
            },
            "error_y": {
             "color": "#2a3f5f"
            },
            "marker": {
             "line": {
              "color": "#E5ECF6",
              "width": 0.5
             },
             "pattern": {
              "fillmode": "overlay",
              "size": 10,
              "solidity": 0.2
             }
            },
            "type": "bar"
           }
          ],
          "barpolar": [
           {
            "marker": {
             "line": {
              "color": "#E5ECF6",
              "width": 0.5
             },
             "pattern": {
              "fillmode": "overlay",
              "size": 10,
              "solidity": 0.2
             }
            },
            "type": "barpolar"
           }
          ],
          "carpet": [
           {
            "aaxis": {
             "endlinecolor": "#2a3f5f",
             "gridcolor": "white",
             "linecolor": "white",
             "minorgridcolor": "white",
             "startlinecolor": "#2a3f5f"
            },
            "baxis": {
             "endlinecolor": "#2a3f5f",
             "gridcolor": "white",
             "linecolor": "white",
             "minorgridcolor": "white",
             "startlinecolor": "#2a3f5f"
            },
            "type": "carpet"
           }
          ],
          "choropleth": [
           {
            "colorbar": {
             "outlinewidth": 0,
             "ticks": ""
            },
            "type": "choropleth"
           }
          ],
          "contour": [
           {
            "colorbar": {
             "outlinewidth": 0,
             "ticks": ""
            },
            "colorscale": [
             [
              0,
              "#0d0887"
             ],
             [
              0.1111111111111111,
              "#46039f"
             ],
             [
              0.2222222222222222,
              "#7201a8"
             ],
             [
              0.3333333333333333,
              "#9c179e"
             ],
             [
              0.4444444444444444,
              "#bd3786"
             ],
             [
              0.5555555555555556,
              "#d8576b"
             ],
             [
              0.6666666666666666,
              "#ed7953"
             ],
             [
              0.7777777777777778,
              "#fb9f3a"
             ],
             [
              0.8888888888888888,
              "#fdca26"
             ],
             [
              1,
              "#f0f921"
             ]
            ],
            "type": "contour"
           }
          ],
          "contourcarpet": [
           {
            "colorbar": {
             "outlinewidth": 0,
             "ticks": ""
            },
            "type": "contourcarpet"
           }
          ],
          "heatmap": [
           {
            "colorbar": {
             "outlinewidth": 0,
             "ticks": ""
            },
            "colorscale": [
             [
              0,
              "#0d0887"
             ],
             [
              0.1111111111111111,
              "#46039f"
             ],
             [
              0.2222222222222222,
              "#7201a8"
             ],
             [
              0.3333333333333333,
              "#9c179e"
             ],
             [
              0.4444444444444444,
              "#bd3786"
             ],
             [
              0.5555555555555556,
              "#d8576b"
             ],
             [
              0.6666666666666666,
              "#ed7953"
             ],
             [
              0.7777777777777778,
              "#fb9f3a"
             ],
             [
              0.8888888888888888,
              "#fdca26"
             ],
             [
              1,
              "#f0f921"
             ]
            ],
            "type": "heatmap"
           }
          ],
          "heatmapgl": [
           {
            "colorbar": {
             "outlinewidth": 0,
             "ticks": ""
            },
            "colorscale": [
             [
              0,
              "#0d0887"
             ],
             [
              0.1111111111111111,
              "#46039f"
             ],
             [
              0.2222222222222222,
              "#7201a8"
             ],
             [
              0.3333333333333333,
              "#9c179e"
             ],
             [
              0.4444444444444444,
              "#bd3786"
             ],
             [
              0.5555555555555556,
              "#d8576b"
             ],
             [
              0.6666666666666666,
              "#ed7953"
             ],
             [
              0.7777777777777778,
              "#fb9f3a"
             ],
             [
              0.8888888888888888,
              "#fdca26"
             ],
             [
              1,
              "#f0f921"
             ]
            ],
            "type": "heatmapgl"
           }
          ],
          "histogram": [
           {
            "marker": {
             "pattern": {
              "fillmode": "overlay",
              "size": 10,
              "solidity": 0.2
             }
            },
            "type": "histogram"
           }
          ],
          "histogram2d": [
           {
            "colorbar": {
             "outlinewidth": 0,
             "ticks": ""
            },
            "colorscale": [
             [
              0,
              "#0d0887"
             ],
             [
              0.1111111111111111,
              "#46039f"
             ],
             [
              0.2222222222222222,
              "#7201a8"
             ],
             [
              0.3333333333333333,
              "#9c179e"
             ],
             [
              0.4444444444444444,
              "#bd3786"
             ],
             [
              0.5555555555555556,
              "#d8576b"
             ],
             [
              0.6666666666666666,
              "#ed7953"
             ],
             [
              0.7777777777777778,
              "#fb9f3a"
             ],
             [
              0.8888888888888888,
              "#fdca26"
             ],
             [
              1,
              "#f0f921"
             ]
            ],
            "type": "histogram2d"
           }
          ],
          "histogram2dcontour": [
           {
            "colorbar": {
             "outlinewidth": 0,
             "ticks": ""
            },
            "colorscale": [
             [
              0,
              "#0d0887"
             ],
             [
              0.1111111111111111,
              "#46039f"
             ],
             [
              0.2222222222222222,
              "#7201a8"
             ],
             [
              0.3333333333333333,
              "#9c179e"
             ],
             [
              0.4444444444444444,
              "#bd3786"
             ],
             [
              0.5555555555555556,
              "#d8576b"
             ],
             [
              0.6666666666666666,
              "#ed7953"
             ],
             [
              0.7777777777777778,
              "#fb9f3a"
             ],
             [
              0.8888888888888888,
              "#fdca26"
             ],
             [
              1,
              "#f0f921"
             ]
            ],
            "type": "histogram2dcontour"
           }
          ],
          "mesh3d": [
           {
            "colorbar": {
             "outlinewidth": 0,
             "ticks": ""
            },
            "type": "mesh3d"
           }
          ],
          "parcoords": [
           {
            "line": {
             "colorbar": {
              "outlinewidth": 0,
              "ticks": ""
             }
            },
            "type": "parcoords"
           }
          ],
          "pie": [
           {
            "automargin": true,
            "type": "pie"
           }
          ],
          "scatter": [
           {
            "fillpattern": {
             "fillmode": "overlay",
             "size": 10,
             "solidity": 0.2
            },
            "type": "scatter"
           }
          ],
          "scatter3d": [
           {
            "line": {
             "colorbar": {
              "outlinewidth": 0,
              "ticks": ""
             }
            },
            "marker": {
             "colorbar": {
              "outlinewidth": 0,
              "ticks": ""
             }
            },
            "type": "scatter3d"
           }
          ],
          "scattercarpet": [
           {
            "marker": {
             "colorbar": {
              "outlinewidth": 0,
              "ticks": ""
             }
            },
            "type": "scattercarpet"
           }
          ],
          "scattergeo": [
           {
            "marker": {
             "colorbar": {
              "outlinewidth": 0,
              "ticks": ""
             }
            },
            "type": "scattergeo"
           }
          ],
          "scattergl": [
           {
            "marker": {
             "colorbar": {
              "outlinewidth": 0,
              "ticks": ""
             }
            },
            "type": "scattergl"
           }
          ],
          "scattermapbox": [
           {
            "marker": {
             "colorbar": {
              "outlinewidth": 0,
              "ticks": ""
             }
            },
            "type": "scattermapbox"
           }
          ],
          "scatterpolar": [
           {
            "marker": {
             "colorbar": {
              "outlinewidth": 0,
              "ticks": ""
             }
            },
            "type": "scatterpolar"
           }
          ],
          "scatterpolargl": [
           {
            "marker": {
             "colorbar": {
              "outlinewidth": 0,
              "ticks": ""
             }
            },
            "type": "scatterpolargl"
           }
          ],
          "scatterternary": [
           {
            "marker": {
             "colorbar": {
              "outlinewidth": 0,
              "ticks": ""
             }
            },
            "type": "scatterternary"
           }
          ],
          "surface": [
           {
            "colorbar": {
             "outlinewidth": 0,
             "ticks": ""
            },
            "colorscale": [
             [
              0,
              "#0d0887"
             ],
             [
              0.1111111111111111,
              "#46039f"
             ],
             [
              0.2222222222222222,
              "#7201a8"
             ],
             [
              0.3333333333333333,
              "#9c179e"
             ],
             [
              0.4444444444444444,
              "#bd3786"
             ],
             [
              0.5555555555555556,
              "#d8576b"
             ],
             [
              0.6666666666666666,
              "#ed7953"
             ],
             [
              0.7777777777777778,
              "#fb9f3a"
             ],
             [
              0.8888888888888888,
              "#fdca26"
             ],
             [
              1,
              "#f0f921"
             ]
            ],
            "type": "surface"
           }
          ],
          "table": [
           {
            "cells": {
             "fill": {
              "color": "#EBF0F8"
             },
             "line": {
              "color": "white"
             }
            },
            "header": {
             "fill": {
              "color": "#C8D4E3"
             },
             "line": {
              "color": "white"
             }
            },
            "type": "table"
           }
          ]
         },
         "layout": {
          "annotationdefaults": {
           "arrowcolor": "#2a3f5f",
           "arrowhead": 0,
           "arrowwidth": 1
          },
          "autotypenumbers": "strict",
          "coloraxis": {
           "colorbar": {
            "outlinewidth": 0,
            "ticks": ""
           }
          },
          "colorscale": {
           "diverging": [
            [
             0,
             "#8e0152"
            ],
            [
             0.1,
             "#c51b7d"
            ],
            [
             0.2,
             "#de77ae"
            ],
            [
             0.3,
             "#f1b6da"
            ],
            [
             0.4,
             "#fde0ef"
            ],
            [
             0.5,
             "#f7f7f7"
            ],
            [
             0.6,
             "#e6f5d0"
            ],
            [
             0.7,
             "#b8e186"
            ],
            [
             0.8,
             "#7fbc41"
            ],
            [
             0.9,
             "#4d9221"
            ],
            [
             1,
             "#276419"
            ]
           ],
           "sequential": [
            [
             0,
             "#0d0887"
            ],
            [
             0.1111111111111111,
             "#46039f"
            ],
            [
             0.2222222222222222,
             "#7201a8"
            ],
            [
             0.3333333333333333,
             "#9c179e"
            ],
            [
             0.4444444444444444,
             "#bd3786"
            ],
            [
             0.5555555555555556,
             "#d8576b"
            ],
            [
             0.6666666666666666,
             "#ed7953"
            ],
            [
             0.7777777777777778,
             "#fb9f3a"
            ],
            [
             0.8888888888888888,
             "#fdca26"
            ],
            [
             1,
             "#f0f921"
            ]
           ],
           "sequentialminus": [
            [
             0,
             "#0d0887"
            ],
            [
             0.1111111111111111,
             "#46039f"
            ],
            [
             0.2222222222222222,
             "#7201a8"
            ],
            [
             0.3333333333333333,
             "#9c179e"
            ],
            [
             0.4444444444444444,
             "#bd3786"
            ],
            [
             0.5555555555555556,
             "#d8576b"
            ],
            [
             0.6666666666666666,
             "#ed7953"
            ],
            [
             0.7777777777777778,
             "#fb9f3a"
            ],
            [
             0.8888888888888888,
             "#fdca26"
            ],
            [
             1,
             "#f0f921"
            ]
           ]
          },
          "colorway": [
           "#636efa",
           "#EF553B",
           "#00cc96",
           "#ab63fa",
           "#FFA15A",
           "#19d3f3",
           "#FF6692",
           "#B6E880",
           "#FF97FF",
           "#FECB52"
          ],
          "font": {
           "color": "#2a3f5f"
          },
          "geo": {
           "bgcolor": "white",
           "lakecolor": "white",
           "landcolor": "#E5ECF6",
           "showlakes": true,
           "showland": true,
           "subunitcolor": "white"
          },
          "hoverlabel": {
           "align": "left"
          },
          "hovermode": "closest",
          "mapbox": {
           "style": "light"
          },
          "paper_bgcolor": "white",
          "plot_bgcolor": "#E5ECF6",
          "polar": {
           "angularaxis": {
            "gridcolor": "white",
            "linecolor": "white",
            "ticks": ""
           },
           "bgcolor": "#E5ECF6",
           "radialaxis": {
            "gridcolor": "white",
            "linecolor": "white",
            "ticks": ""
           }
          },
          "scene": {
           "xaxis": {
            "backgroundcolor": "#E5ECF6",
            "gridcolor": "white",
            "gridwidth": 2,
            "linecolor": "white",
            "showbackground": true,
            "ticks": "",
            "zerolinecolor": "white"
           },
           "yaxis": {
            "backgroundcolor": "#E5ECF6",
            "gridcolor": "white",
            "gridwidth": 2,
            "linecolor": "white",
            "showbackground": true,
            "ticks": "",
            "zerolinecolor": "white"
           },
           "zaxis": {
            "backgroundcolor": "#E5ECF6",
            "gridcolor": "white",
            "gridwidth": 2,
            "linecolor": "white",
            "showbackground": true,
            "ticks": "",
            "zerolinecolor": "white"
           }
          },
          "shapedefaults": {
           "line": {
            "color": "#2a3f5f"
           }
          },
          "ternary": {
           "aaxis": {
            "gridcolor": "white",
            "linecolor": "white",
            "ticks": ""
           },
           "baxis": {
            "gridcolor": "white",
            "linecolor": "white",
            "ticks": ""
           },
           "bgcolor": "#E5ECF6",
           "caxis": {
            "gridcolor": "white",
            "linecolor": "white",
            "ticks": ""
           }
          },
          "title": {
           "x": 0.05
          },
          "xaxis": {
           "automargin": true,
           "gridcolor": "white",
           "linecolor": "white",
           "ticks": "",
           "title": {
            "standoff": 15
           },
           "zerolinecolor": "white",
           "zerolinewidth": 2
          },
          "yaxis": {
           "automargin": true,
           "gridcolor": "white",
           "linecolor": "white",
           "ticks": "",
           "title": {
            "standoff": 15
           },
           "zerolinecolor": "white",
           "zerolinewidth": 2
          }
         }
        },
        "title": {
         "font": {
          "size": 20
         },
         "text": "Количество учеников в школах"
        },
        "xaxis": {
         "tickangle": -45,
         "tickfont": {
          "size": 14
         },
         "title": {
          "font": {
           "size": 16
          },
          "text": "Номер школы"
         }
        },
        "yaxis": {
         "tickfont": {
          "size": 14
         },
         "title": {
          "font": {
           "size": 16
          },
          "text": "Ученики"
         }
        }
       }
      }
     },
     "metadata": {},
     "output_type": "display_data"
    }
   ],
   "source": [
    "fig.update_layout(\n",
    "    title=\"Количество учеников в школах\", title_font_size=20, title_x=0.5,\n",
    "    xaxis_title=\"Номер школы\", xaxis_title_font_size=16,\n",
    "    yaxis_title=\"Ученики\", yaxis_title_font_size=16,\n",
    ")\n",
    "\n",
    "fig.update_xaxes(tickangle=315)\n",
    "\n",
    "fig.show()"
   ]
  },
  {
   "cell_type": "markdown",
   "metadata": {},
   "source": [
    "Размер текста меток осей сделать равным 14"
   ]
  },
  {
   "cell_type": "code",
   "execution_count": 124,
   "metadata": {},
   "outputs": [
    {
     "data": {
      "application/vnd.plotly.v1+json": {
       "config": {
        "plotlyServerURL": "https://plot.ly"
       },
       "data": [
        {
         "marker": {
          "color": [
           0,
           1,
           2,
           3
          ],
          "coloraxis": "coloraxis",
          "line": {
           "color": "black",
           "width": 2
          }
         },
         "type": "bar",
         "x": [
          "175",
          "134",
          "Гимназия №1",
          "672"
         ],
         "y": [
          435,
          125,
          796,
          367
         ]
        }
       ],
       "layout": {
        "margin": {
         "b": 0,
         "l": 0,
         "r": 0,
         "t": 30
        },
        "template": {
         "data": {
          "bar": [
           {
            "error_x": {
             "color": "#2a3f5f"
            },
            "error_y": {
             "color": "#2a3f5f"
            },
            "marker": {
             "line": {
              "color": "#E5ECF6",
              "width": 0.5
             },
             "pattern": {
              "fillmode": "overlay",
              "size": 10,
              "solidity": 0.2
             }
            },
            "type": "bar"
           }
          ],
          "barpolar": [
           {
            "marker": {
             "line": {
              "color": "#E5ECF6",
              "width": 0.5
             },
             "pattern": {
              "fillmode": "overlay",
              "size": 10,
              "solidity": 0.2
             }
            },
            "type": "barpolar"
           }
          ],
          "carpet": [
           {
            "aaxis": {
             "endlinecolor": "#2a3f5f",
             "gridcolor": "white",
             "linecolor": "white",
             "minorgridcolor": "white",
             "startlinecolor": "#2a3f5f"
            },
            "baxis": {
             "endlinecolor": "#2a3f5f",
             "gridcolor": "white",
             "linecolor": "white",
             "minorgridcolor": "white",
             "startlinecolor": "#2a3f5f"
            },
            "type": "carpet"
           }
          ],
          "choropleth": [
           {
            "colorbar": {
             "outlinewidth": 0,
             "ticks": ""
            },
            "type": "choropleth"
           }
          ],
          "contour": [
           {
            "colorbar": {
             "outlinewidth": 0,
             "ticks": ""
            },
            "colorscale": [
             [
              0,
              "#0d0887"
             ],
             [
              0.1111111111111111,
              "#46039f"
             ],
             [
              0.2222222222222222,
              "#7201a8"
             ],
             [
              0.3333333333333333,
              "#9c179e"
             ],
             [
              0.4444444444444444,
              "#bd3786"
             ],
             [
              0.5555555555555556,
              "#d8576b"
             ],
             [
              0.6666666666666666,
              "#ed7953"
             ],
             [
              0.7777777777777778,
              "#fb9f3a"
             ],
             [
              0.8888888888888888,
              "#fdca26"
             ],
             [
              1,
              "#f0f921"
             ]
            ],
            "type": "contour"
           }
          ],
          "contourcarpet": [
           {
            "colorbar": {
             "outlinewidth": 0,
             "ticks": ""
            },
            "type": "contourcarpet"
           }
          ],
          "heatmap": [
           {
            "colorbar": {
             "outlinewidth": 0,
             "ticks": ""
            },
            "colorscale": [
             [
              0,
              "#0d0887"
             ],
             [
              0.1111111111111111,
              "#46039f"
             ],
             [
              0.2222222222222222,
              "#7201a8"
             ],
             [
              0.3333333333333333,
              "#9c179e"
             ],
             [
              0.4444444444444444,
              "#bd3786"
             ],
             [
              0.5555555555555556,
              "#d8576b"
             ],
             [
              0.6666666666666666,
              "#ed7953"
             ],
             [
              0.7777777777777778,
              "#fb9f3a"
             ],
             [
              0.8888888888888888,
              "#fdca26"
             ],
             [
              1,
              "#f0f921"
             ]
            ],
            "type": "heatmap"
           }
          ],
          "heatmapgl": [
           {
            "colorbar": {
             "outlinewidth": 0,
             "ticks": ""
            },
            "colorscale": [
             [
              0,
              "#0d0887"
             ],
             [
              0.1111111111111111,
              "#46039f"
             ],
             [
              0.2222222222222222,
              "#7201a8"
             ],
             [
              0.3333333333333333,
              "#9c179e"
             ],
             [
              0.4444444444444444,
              "#bd3786"
             ],
             [
              0.5555555555555556,
              "#d8576b"
             ],
             [
              0.6666666666666666,
              "#ed7953"
             ],
             [
              0.7777777777777778,
              "#fb9f3a"
             ],
             [
              0.8888888888888888,
              "#fdca26"
             ],
             [
              1,
              "#f0f921"
             ]
            ],
            "type": "heatmapgl"
           }
          ],
          "histogram": [
           {
            "marker": {
             "pattern": {
              "fillmode": "overlay",
              "size": 10,
              "solidity": 0.2
             }
            },
            "type": "histogram"
           }
          ],
          "histogram2d": [
           {
            "colorbar": {
             "outlinewidth": 0,
             "ticks": ""
            },
            "colorscale": [
             [
              0,
              "#0d0887"
             ],
             [
              0.1111111111111111,
              "#46039f"
             ],
             [
              0.2222222222222222,
              "#7201a8"
             ],
             [
              0.3333333333333333,
              "#9c179e"
             ],
             [
              0.4444444444444444,
              "#bd3786"
             ],
             [
              0.5555555555555556,
              "#d8576b"
             ],
             [
              0.6666666666666666,
              "#ed7953"
             ],
             [
              0.7777777777777778,
              "#fb9f3a"
             ],
             [
              0.8888888888888888,
              "#fdca26"
             ],
             [
              1,
              "#f0f921"
             ]
            ],
            "type": "histogram2d"
           }
          ],
          "histogram2dcontour": [
           {
            "colorbar": {
             "outlinewidth": 0,
             "ticks": ""
            },
            "colorscale": [
             [
              0,
              "#0d0887"
             ],
             [
              0.1111111111111111,
              "#46039f"
             ],
             [
              0.2222222222222222,
              "#7201a8"
             ],
             [
              0.3333333333333333,
              "#9c179e"
             ],
             [
              0.4444444444444444,
              "#bd3786"
             ],
             [
              0.5555555555555556,
              "#d8576b"
             ],
             [
              0.6666666666666666,
              "#ed7953"
             ],
             [
              0.7777777777777778,
              "#fb9f3a"
             ],
             [
              0.8888888888888888,
              "#fdca26"
             ],
             [
              1,
              "#f0f921"
             ]
            ],
            "type": "histogram2dcontour"
           }
          ],
          "mesh3d": [
           {
            "colorbar": {
             "outlinewidth": 0,
             "ticks": ""
            },
            "type": "mesh3d"
           }
          ],
          "parcoords": [
           {
            "line": {
             "colorbar": {
              "outlinewidth": 0,
              "ticks": ""
             }
            },
            "type": "parcoords"
           }
          ],
          "pie": [
           {
            "automargin": true,
            "type": "pie"
           }
          ],
          "scatter": [
           {
            "fillpattern": {
             "fillmode": "overlay",
             "size": 10,
             "solidity": 0.2
            },
            "type": "scatter"
           }
          ],
          "scatter3d": [
           {
            "line": {
             "colorbar": {
              "outlinewidth": 0,
              "ticks": ""
             }
            },
            "marker": {
             "colorbar": {
              "outlinewidth": 0,
              "ticks": ""
             }
            },
            "type": "scatter3d"
           }
          ],
          "scattercarpet": [
           {
            "marker": {
             "colorbar": {
              "outlinewidth": 0,
              "ticks": ""
             }
            },
            "type": "scattercarpet"
           }
          ],
          "scattergeo": [
           {
            "marker": {
             "colorbar": {
              "outlinewidth": 0,
              "ticks": ""
             }
            },
            "type": "scattergeo"
           }
          ],
          "scattergl": [
           {
            "marker": {
             "colorbar": {
              "outlinewidth": 0,
              "ticks": ""
             }
            },
            "type": "scattergl"
           }
          ],
          "scattermapbox": [
           {
            "marker": {
             "colorbar": {
              "outlinewidth": 0,
              "ticks": ""
             }
            },
            "type": "scattermapbox"
           }
          ],
          "scatterpolar": [
           {
            "marker": {
             "colorbar": {
              "outlinewidth": 0,
              "ticks": ""
             }
            },
            "type": "scatterpolar"
           }
          ],
          "scatterpolargl": [
           {
            "marker": {
             "colorbar": {
              "outlinewidth": 0,
              "ticks": ""
             }
            },
            "type": "scatterpolargl"
           }
          ],
          "scatterternary": [
           {
            "marker": {
             "colorbar": {
              "outlinewidth": 0,
              "ticks": ""
             }
            },
            "type": "scatterternary"
           }
          ],
          "surface": [
           {
            "colorbar": {
             "outlinewidth": 0,
             "ticks": ""
            },
            "colorscale": [
             [
              0,
              "#0d0887"
             ],
             [
              0.1111111111111111,
              "#46039f"
             ],
             [
              0.2222222222222222,
              "#7201a8"
             ],
             [
              0.3333333333333333,
              "#9c179e"
             ],
             [
              0.4444444444444444,
              "#bd3786"
             ],
             [
              0.5555555555555556,
              "#d8576b"
             ],
             [
              0.6666666666666666,
              "#ed7953"
             ],
             [
              0.7777777777777778,
              "#fb9f3a"
             ],
             [
              0.8888888888888888,
              "#fdca26"
             ],
             [
              1,
              "#f0f921"
             ]
            ],
            "type": "surface"
           }
          ],
          "table": [
           {
            "cells": {
             "fill": {
              "color": "#EBF0F8"
             },
             "line": {
              "color": "white"
             }
            },
            "header": {
             "fill": {
              "color": "#C8D4E3"
             },
             "line": {
              "color": "white"
             }
            },
            "type": "table"
           }
          ]
         },
         "layout": {
          "annotationdefaults": {
           "arrowcolor": "#2a3f5f",
           "arrowhead": 0,
           "arrowwidth": 1
          },
          "autotypenumbers": "strict",
          "coloraxis": {
           "colorbar": {
            "outlinewidth": 0,
            "ticks": ""
           }
          },
          "colorscale": {
           "diverging": [
            [
             0,
             "#8e0152"
            ],
            [
             0.1,
             "#c51b7d"
            ],
            [
             0.2,
             "#de77ae"
            ],
            [
             0.3,
             "#f1b6da"
            ],
            [
             0.4,
             "#fde0ef"
            ],
            [
             0.5,
             "#f7f7f7"
            ],
            [
             0.6,
             "#e6f5d0"
            ],
            [
             0.7,
             "#b8e186"
            ],
            [
             0.8,
             "#7fbc41"
            ],
            [
             0.9,
             "#4d9221"
            ],
            [
             1,
             "#276419"
            ]
           ],
           "sequential": [
            [
             0,
             "#0d0887"
            ],
            [
             0.1111111111111111,
             "#46039f"
            ],
            [
             0.2222222222222222,
             "#7201a8"
            ],
            [
             0.3333333333333333,
             "#9c179e"
            ],
            [
             0.4444444444444444,
             "#bd3786"
            ],
            [
             0.5555555555555556,
             "#d8576b"
            ],
            [
             0.6666666666666666,
             "#ed7953"
            ],
            [
             0.7777777777777778,
             "#fb9f3a"
            ],
            [
             0.8888888888888888,
             "#fdca26"
            ],
            [
             1,
             "#f0f921"
            ]
           ],
           "sequentialminus": [
            [
             0,
             "#0d0887"
            ],
            [
             0.1111111111111111,
             "#46039f"
            ],
            [
             0.2222222222222222,
             "#7201a8"
            ],
            [
             0.3333333333333333,
             "#9c179e"
            ],
            [
             0.4444444444444444,
             "#bd3786"
            ],
            [
             0.5555555555555556,
             "#d8576b"
            ],
            [
             0.6666666666666666,
             "#ed7953"
            ],
            [
             0.7777777777777778,
             "#fb9f3a"
            ],
            [
             0.8888888888888888,
             "#fdca26"
            ],
            [
             1,
             "#f0f921"
            ]
           ]
          },
          "colorway": [
           "#636efa",
           "#EF553B",
           "#00cc96",
           "#ab63fa",
           "#FFA15A",
           "#19d3f3",
           "#FF6692",
           "#B6E880",
           "#FF97FF",
           "#FECB52"
          ],
          "font": {
           "color": "#2a3f5f"
          },
          "geo": {
           "bgcolor": "white",
           "lakecolor": "white",
           "landcolor": "#E5ECF6",
           "showlakes": true,
           "showland": true,
           "subunitcolor": "white"
          },
          "hoverlabel": {
           "align": "left"
          },
          "hovermode": "closest",
          "mapbox": {
           "style": "light"
          },
          "paper_bgcolor": "white",
          "plot_bgcolor": "#E5ECF6",
          "polar": {
           "angularaxis": {
            "gridcolor": "white",
            "linecolor": "white",
            "ticks": ""
           },
           "bgcolor": "#E5ECF6",
           "radialaxis": {
            "gridcolor": "white",
            "linecolor": "white",
            "ticks": ""
           }
          },
          "scene": {
           "xaxis": {
            "backgroundcolor": "#E5ECF6",
            "gridcolor": "white",
            "gridwidth": 2,
            "linecolor": "white",
            "showbackground": true,
            "ticks": "",
            "zerolinecolor": "white"
           },
           "yaxis": {
            "backgroundcolor": "#E5ECF6",
            "gridcolor": "white",
            "gridwidth": 2,
            "linecolor": "white",
            "showbackground": true,
            "ticks": "",
            "zerolinecolor": "white"
           },
           "zaxis": {
            "backgroundcolor": "#E5ECF6",
            "gridcolor": "white",
            "gridwidth": 2,
            "linecolor": "white",
            "showbackground": true,
            "ticks": "",
            "zerolinecolor": "white"
           }
          },
          "shapedefaults": {
           "line": {
            "color": "#2a3f5f"
           }
          },
          "ternary": {
           "aaxis": {
            "gridcolor": "white",
            "linecolor": "white",
            "ticks": ""
           },
           "baxis": {
            "gridcolor": "white",
            "linecolor": "white",
            "ticks": ""
           },
           "bgcolor": "#E5ECF6",
           "caxis": {
            "gridcolor": "white",
            "linecolor": "white",
            "ticks": ""
           }
          },
          "title": {
           "x": 0.05
          },
          "xaxis": {
           "automargin": true,
           "gridcolor": "white",
           "linecolor": "white",
           "ticks": "",
           "title": {
            "standoff": 15
           },
           "zerolinecolor": "white",
           "zerolinewidth": 2
          },
          "yaxis": {
           "automargin": true,
           "gridcolor": "white",
           "linecolor": "white",
           "ticks": "",
           "title": {
            "standoff": 15
           },
           "zerolinecolor": "white",
           "zerolinewidth": 2
          }
         }
        },
        "title": {
         "text": "Количество учеников в школах",
         "x": 0.5
        },
        "xaxis": {
         "tickangle": -45,
         "tickfont": {
          "size": 14
         },
         "title": {
          "text": "Номер школы"
         }
        },
        "yaxis": {
         "tickfont": {
          "size": 14
         },
         "title": {
          "text": "Ученики"
         }
        }
       }
      }
     },
     "metadata": {},
     "output_type": "display_data"
    }
   ],
   "source": [
    "fig.update_layout(\n",
    "    title=\"Количество учеников в школах\", title_font_size=20, title_x=0.5,\n",
    "    xaxis_title=\"Номер школы\", xaxis_title_font_size=16, xaxis_tickfont_size=14,\n",
    "    yaxis_title=\"Ученики\", yaxis_title_font_size=16, yaxis_tickfont_size=14,\n",
    ")\n",
    "\n",
    "fig.update_xaxes(tickangle=315)\n",
    "\n",
    "fig.show()"
   ]
  },
  {
   "cell_type": "markdown",
   "metadata": {},
   "source": [
    "Расположить  график  во  всю  ширину  рабочей  области  и  присвоить \n",
    "высоту, равную 700 пикселей"
   ]
  },
  {
   "cell_type": "code",
   "execution_count": 128,
   "metadata": {},
   "outputs": [
    {
     "data": {
      "application/vnd.plotly.v1+json": {
       "config": {
        "plotlyServerURL": "https://plot.ly"
       },
       "data": [
        {
         "marker": {
          "color": [
           0,
           1,
           2,
           3
          ],
          "coloraxis": "coloraxis",
          "line": {
           "color": "black",
           "width": 2
          }
         },
         "type": "bar",
         "x": [
          "175",
          "134",
          "Гимназия №1",
          "672"
         ],
         "y": [
          435,
          125,
          796,
          367
         ]
        }
       ],
       "layout": {
        "height": 700,
        "margin": {
         "b": 0,
         "l": 0,
         "r": 0,
         "t": 30
        },
        "template": {
         "data": {
          "bar": [
           {
            "error_x": {
             "color": "#2a3f5f"
            },
            "error_y": {
             "color": "#2a3f5f"
            },
            "marker": {
             "line": {
              "color": "#E5ECF6",
              "width": 0.5
             },
             "pattern": {
              "fillmode": "overlay",
              "size": 10,
              "solidity": 0.2
             }
            },
            "type": "bar"
           }
          ],
          "barpolar": [
           {
            "marker": {
             "line": {
              "color": "#E5ECF6",
              "width": 0.5
             },
             "pattern": {
              "fillmode": "overlay",
              "size": 10,
              "solidity": 0.2
             }
            },
            "type": "barpolar"
           }
          ],
          "carpet": [
           {
            "aaxis": {
             "endlinecolor": "#2a3f5f",
             "gridcolor": "white",
             "linecolor": "white",
             "minorgridcolor": "white",
             "startlinecolor": "#2a3f5f"
            },
            "baxis": {
             "endlinecolor": "#2a3f5f",
             "gridcolor": "white",
             "linecolor": "white",
             "minorgridcolor": "white",
             "startlinecolor": "#2a3f5f"
            },
            "type": "carpet"
           }
          ],
          "choropleth": [
           {
            "colorbar": {
             "outlinewidth": 0,
             "ticks": ""
            },
            "type": "choropleth"
           }
          ],
          "contour": [
           {
            "colorbar": {
             "outlinewidth": 0,
             "ticks": ""
            },
            "colorscale": [
             [
              0,
              "#0d0887"
             ],
             [
              0.1111111111111111,
              "#46039f"
             ],
             [
              0.2222222222222222,
              "#7201a8"
             ],
             [
              0.3333333333333333,
              "#9c179e"
             ],
             [
              0.4444444444444444,
              "#bd3786"
             ],
             [
              0.5555555555555556,
              "#d8576b"
             ],
             [
              0.6666666666666666,
              "#ed7953"
             ],
             [
              0.7777777777777778,
              "#fb9f3a"
             ],
             [
              0.8888888888888888,
              "#fdca26"
             ],
             [
              1,
              "#f0f921"
             ]
            ],
            "type": "contour"
           }
          ],
          "contourcarpet": [
           {
            "colorbar": {
             "outlinewidth": 0,
             "ticks": ""
            },
            "type": "contourcarpet"
           }
          ],
          "heatmap": [
           {
            "colorbar": {
             "outlinewidth": 0,
             "ticks": ""
            },
            "colorscale": [
             [
              0,
              "#0d0887"
             ],
             [
              0.1111111111111111,
              "#46039f"
             ],
             [
              0.2222222222222222,
              "#7201a8"
             ],
             [
              0.3333333333333333,
              "#9c179e"
             ],
             [
              0.4444444444444444,
              "#bd3786"
             ],
             [
              0.5555555555555556,
              "#d8576b"
             ],
             [
              0.6666666666666666,
              "#ed7953"
             ],
             [
              0.7777777777777778,
              "#fb9f3a"
             ],
             [
              0.8888888888888888,
              "#fdca26"
             ],
             [
              1,
              "#f0f921"
             ]
            ],
            "type": "heatmap"
           }
          ],
          "heatmapgl": [
           {
            "colorbar": {
             "outlinewidth": 0,
             "ticks": ""
            },
            "colorscale": [
             [
              0,
              "#0d0887"
             ],
             [
              0.1111111111111111,
              "#46039f"
             ],
             [
              0.2222222222222222,
              "#7201a8"
             ],
             [
              0.3333333333333333,
              "#9c179e"
             ],
             [
              0.4444444444444444,
              "#bd3786"
             ],
             [
              0.5555555555555556,
              "#d8576b"
             ],
             [
              0.6666666666666666,
              "#ed7953"
             ],
             [
              0.7777777777777778,
              "#fb9f3a"
             ],
             [
              0.8888888888888888,
              "#fdca26"
             ],
             [
              1,
              "#f0f921"
             ]
            ],
            "type": "heatmapgl"
           }
          ],
          "histogram": [
           {
            "marker": {
             "pattern": {
              "fillmode": "overlay",
              "size": 10,
              "solidity": 0.2
             }
            },
            "type": "histogram"
           }
          ],
          "histogram2d": [
           {
            "colorbar": {
             "outlinewidth": 0,
             "ticks": ""
            },
            "colorscale": [
             [
              0,
              "#0d0887"
             ],
             [
              0.1111111111111111,
              "#46039f"
             ],
             [
              0.2222222222222222,
              "#7201a8"
             ],
             [
              0.3333333333333333,
              "#9c179e"
             ],
             [
              0.4444444444444444,
              "#bd3786"
             ],
             [
              0.5555555555555556,
              "#d8576b"
             ],
             [
              0.6666666666666666,
              "#ed7953"
             ],
             [
              0.7777777777777778,
              "#fb9f3a"
             ],
             [
              0.8888888888888888,
              "#fdca26"
             ],
             [
              1,
              "#f0f921"
             ]
            ],
            "type": "histogram2d"
           }
          ],
          "histogram2dcontour": [
           {
            "colorbar": {
             "outlinewidth": 0,
             "ticks": ""
            },
            "colorscale": [
             [
              0,
              "#0d0887"
             ],
             [
              0.1111111111111111,
              "#46039f"
             ],
             [
              0.2222222222222222,
              "#7201a8"
             ],
             [
              0.3333333333333333,
              "#9c179e"
             ],
             [
              0.4444444444444444,
              "#bd3786"
             ],
             [
              0.5555555555555556,
              "#d8576b"
             ],
             [
              0.6666666666666666,
              "#ed7953"
             ],
             [
              0.7777777777777778,
              "#fb9f3a"
             ],
             [
              0.8888888888888888,
              "#fdca26"
             ],
             [
              1,
              "#f0f921"
             ]
            ],
            "type": "histogram2dcontour"
           }
          ],
          "mesh3d": [
           {
            "colorbar": {
             "outlinewidth": 0,
             "ticks": ""
            },
            "type": "mesh3d"
           }
          ],
          "parcoords": [
           {
            "line": {
             "colorbar": {
              "outlinewidth": 0,
              "ticks": ""
             }
            },
            "type": "parcoords"
           }
          ],
          "pie": [
           {
            "automargin": true,
            "type": "pie"
           }
          ],
          "scatter": [
           {
            "fillpattern": {
             "fillmode": "overlay",
             "size": 10,
             "solidity": 0.2
            },
            "type": "scatter"
           }
          ],
          "scatter3d": [
           {
            "line": {
             "colorbar": {
              "outlinewidth": 0,
              "ticks": ""
             }
            },
            "marker": {
             "colorbar": {
              "outlinewidth": 0,
              "ticks": ""
             }
            },
            "type": "scatter3d"
           }
          ],
          "scattercarpet": [
           {
            "marker": {
             "colorbar": {
              "outlinewidth": 0,
              "ticks": ""
             }
            },
            "type": "scattercarpet"
           }
          ],
          "scattergeo": [
           {
            "marker": {
             "colorbar": {
              "outlinewidth": 0,
              "ticks": ""
             }
            },
            "type": "scattergeo"
           }
          ],
          "scattergl": [
           {
            "marker": {
             "colorbar": {
              "outlinewidth": 0,
              "ticks": ""
             }
            },
            "type": "scattergl"
           }
          ],
          "scattermapbox": [
           {
            "marker": {
             "colorbar": {
              "outlinewidth": 0,
              "ticks": ""
             }
            },
            "type": "scattermapbox"
           }
          ],
          "scatterpolar": [
           {
            "marker": {
             "colorbar": {
              "outlinewidth": 0,
              "ticks": ""
             }
            },
            "type": "scatterpolar"
           }
          ],
          "scatterpolargl": [
           {
            "marker": {
             "colorbar": {
              "outlinewidth": 0,
              "ticks": ""
             }
            },
            "type": "scatterpolargl"
           }
          ],
          "scatterternary": [
           {
            "marker": {
             "colorbar": {
              "outlinewidth": 0,
              "ticks": ""
             }
            },
            "type": "scatterternary"
           }
          ],
          "surface": [
           {
            "colorbar": {
             "outlinewidth": 0,
             "ticks": ""
            },
            "colorscale": [
             [
              0,
              "#0d0887"
             ],
             [
              0.1111111111111111,
              "#46039f"
             ],
             [
              0.2222222222222222,
              "#7201a8"
             ],
             [
              0.3333333333333333,
              "#9c179e"
             ],
             [
              0.4444444444444444,
              "#bd3786"
             ],
             [
              0.5555555555555556,
              "#d8576b"
             ],
             [
              0.6666666666666666,
              "#ed7953"
             ],
             [
              0.7777777777777778,
              "#fb9f3a"
             ],
             [
              0.8888888888888888,
              "#fdca26"
             ],
             [
              1,
              "#f0f921"
             ]
            ],
            "type": "surface"
           }
          ],
          "table": [
           {
            "cells": {
             "fill": {
              "color": "#EBF0F8"
             },
             "line": {
              "color": "white"
             }
            },
            "header": {
             "fill": {
              "color": "#C8D4E3"
             },
             "line": {
              "color": "white"
             }
            },
            "type": "table"
           }
          ]
         },
         "layout": {
          "annotationdefaults": {
           "arrowcolor": "#2a3f5f",
           "arrowhead": 0,
           "arrowwidth": 1
          },
          "autotypenumbers": "strict",
          "coloraxis": {
           "colorbar": {
            "outlinewidth": 0,
            "ticks": ""
           }
          },
          "colorscale": {
           "diverging": [
            [
             0,
             "#8e0152"
            ],
            [
             0.1,
             "#c51b7d"
            ],
            [
             0.2,
             "#de77ae"
            ],
            [
             0.3,
             "#f1b6da"
            ],
            [
             0.4,
             "#fde0ef"
            ],
            [
             0.5,
             "#f7f7f7"
            ],
            [
             0.6,
             "#e6f5d0"
            ],
            [
             0.7,
             "#b8e186"
            ],
            [
             0.8,
             "#7fbc41"
            ],
            [
             0.9,
             "#4d9221"
            ],
            [
             1,
             "#276419"
            ]
           ],
           "sequential": [
            [
             0,
             "#0d0887"
            ],
            [
             0.1111111111111111,
             "#46039f"
            ],
            [
             0.2222222222222222,
             "#7201a8"
            ],
            [
             0.3333333333333333,
             "#9c179e"
            ],
            [
             0.4444444444444444,
             "#bd3786"
            ],
            [
             0.5555555555555556,
             "#d8576b"
            ],
            [
             0.6666666666666666,
             "#ed7953"
            ],
            [
             0.7777777777777778,
             "#fb9f3a"
            ],
            [
             0.8888888888888888,
             "#fdca26"
            ],
            [
             1,
             "#f0f921"
            ]
           ],
           "sequentialminus": [
            [
             0,
             "#0d0887"
            ],
            [
             0.1111111111111111,
             "#46039f"
            ],
            [
             0.2222222222222222,
             "#7201a8"
            ],
            [
             0.3333333333333333,
             "#9c179e"
            ],
            [
             0.4444444444444444,
             "#bd3786"
            ],
            [
             0.5555555555555556,
             "#d8576b"
            ],
            [
             0.6666666666666666,
             "#ed7953"
            ],
            [
             0.7777777777777778,
             "#fb9f3a"
            ],
            [
             0.8888888888888888,
             "#fdca26"
            ],
            [
             1,
             "#f0f921"
            ]
           ]
          },
          "colorway": [
           "#636efa",
           "#EF553B",
           "#00cc96",
           "#ab63fa",
           "#FFA15A",
           "#19d3f3",
           "#FF6692",
           "#B6E880",
           "#FF97FF",
           "#FECB52"
          ],
          "font": {
           "color": "#2a3f5f"
          },
          "geo": {
           "bgcolor": "white",
           "lakecolor": "white",
           "landcolor": "#E5ECF6",
           "showlakes": true,
           "showland": true,
           "subunitcolor": "white"
          },
          "hoverlabel": {
           "align": "left"
          },
          "hovermode": "closest",
          "mapbox": {
           "style": "light"
          },
          "paper_bgcolor": "white",
          "plot_bgcolor": "#E5ECF6",
          "polar": {
           "angularaxis": {
            "gridcolor": "white",
            "linecolor": "white",
            "ticks": ""
           },
           "bgcolor": "#E5ECF6",
           "radialaxis": {
            "gridcolor": "white",
            "linecolor": "white",
            "ticks": ""
           }
          },
          "scene": {
           "xaxis": {
            "backgroundcolor": "#E5ECF6",
            "gridcolor": "white",
            "gridwidth": 2,
            "linecolor": "white",
            "showbackground": true,
            "ticks": "",
            "zerolinecolor": "white"
           },
           "yaxis": {
            "backgroundcolor": "#E5ECF6",
            "gridcolor": "white",
            "gridwidth": 2,
            "linecolor": "white",
            "showbackground": true,
            "ticks": "",
            "zerolinecolor": "white"
           },
           "zaxis": {
            "backgroundcolor": "#E5ECF6",
            "gridcolor": "white",
            "gridwidth": 2,
            "linecolor": "white",
            "showbackground": true,
            "ticks": "",
            "zerolinecolor": "white"
           }
          },
          "shapedefaults": {
           "line": {
            "color": "#2a3f5f"
           }
          },
          "ternary": {
           "aaxis": {
            "gridcolor": "white",
            "linecolor": "white",
            "ticks": ""
           },
           "baxis": {
            "gridcolor": "white",
            "linecolor": "white",
            "ticks": ""
           },
           "bgcolor": "#E5ECF6",
           "caxis": {
            "gridcolor": "white",
            "linecolor": "white",
            "ticks": ""
           }
          },
          "title": {
           "x": 0.05
          },
          "xaxis": {
           "automargin": true,
           "gridcolor": "white",
           "linecolor": "white",
           "ticks": "",
           "title": {
            "standoff": 15
           },
           "zerolinecolor": "white",
           "zerolinewidth": 2
          },
          "yaxis": {
           "automargin": true,
           "gridcolor": "white",
           "linecolor": "white",
           "ticks": "",
           "title": {
            "standoff": 15
           },
           "zerolinecolor": "white",
           "zerolinewidth": 2
          }
         }
        },
        "title": {
         "text": "Количество учеников в школах",
         "x": 0.5
        },
        "xaxis": {
         "tickangle": -45,
         "tickfont": {
          "size": 14
         },
         "title": {
          "text": "Номер школы"
         }
        },
        "yaxis": {
         "tickfont": {
          "size": 14
         },
         "title": {
          "text": "Ученики"
         }
        }
       }
      }
     },
     "metadata": {},
     "output_type": "display_data"
    }
   ],
   "source": [
    "fig.update_layout(\n",
    "    title=\"Количество учеников в школах\", title_font_size=20, title_x=0.5,\n",
    "    xaxis_title=\"Номер школы\", xaxis_title_font_size=16, xaxis_tickfont_size=14,\n",
    "    yaxis_title=\"Ученики\", yaxis_title_font_size=16, yaxis_tickfont_size=14,\n",
    "    margin=dict(l=0, r=0, t=30, b=0),\n",
    "    height=700\n",
    ")\n",
    "\n",
    "fig.update_xaxes(tickangle=315)\n",
    "\n",
    "fig.show()"
   ]
  },
  {
   "cell_type": "markdown",
   "metadata": {},
   "source": [
    "Добавить сетку на график, сделать её цвет 'ivory' и толщину равную \n",
    "2. (Можно сделать это при настройке осей с помощью gridwidth=2, \n",
    "gridcolor='ivory')"
   ]
  },
  {
   "cell_type": "code",
   "execution_count": 145,
   "metadata": {},
   "outputs": [
    {
     "data": {
      "application/vnd.plotly.v1+json": {
       "config": {
        "plotlyServerURL": "https://plot.ly"
       },
       "data": [
        {
         "marker": {
          "color": [
           0,
           1,
           2,
           3
          ],
          "coloraxis": "coloraxis",
          "line": {
           "color": "black",
           "width": 2
          }
         },
         "type": "bar",
         "x": [
          "175",
          "134",
          "Гимназия №1",
          "672"
         ],
         "y": [
          435,
          125,
          796,
          367
         ]
        }
       ],
       "layout": {
        "height": 700,
        "margin": {
         "b": 0,
         "l": 0,
         "r": 0,
         "t": 30
        },
        "template": {
         "data": {
          "bar": [
           {
            "error_x": {
             "color": "#2a3f5f"
            },
            "error_y": {
             "color": "#2a3f5f"
            },
            "marker": {
             "line": {
              "color": "#E5ECF6",
              "width": 0.5
             },
             "pattern": {
              "fillmode": "overlay",
              "size": 10,
              "solidity": 0.2
             }
            },
            "type": "bar"
           }
          ],
          "barpolar": [
           {
            "marker": {
             "line": {
              "color": "#E5ECF6",
              "width": 0.5
             },
             "pattern": {
              "fillmode": "overlay",
              "size": 10,
              "solidity": 0.2
             }
            },
            "type": "barpolar"
           }
          ],
          "carpet": [
           {
            "aaxis": {
             "endlinecolor": "#2a3f5f",
             "gridcolor": "white",
             "linecolor": "white",
             "minorgridcolor": "white",
             "startlinecolor": "#2a3f5f"
            },
            "baxis": {
             "endlinecolor": "#2a3f5f",
             "gridcolor": "white",
             "linecolor": "white",
             "minorgridcolor": "white",
             "startlinecolor": "#2a3f5f"
            },
            "type": "carpet"
           }
          ],
          "choropleth": [
           {
            "colorbar": {
             "outlinewidth": 0,
             "ticks": ""
            },
            "type": "choropleth"
           }
          ],
          "contour": [
           {
            "colorbar": {
             "outlinewidth": 0,
             "ticks": ""
            },
            "colorscale": [
             [
              0,
              "#0d0887"
             ],
             [
              0.1111111111111111,
              "#46039f"
             ],
             [
              0.2222222222222222,
              "#7201a8"
             ],
             [
              0.3333333333333333,
              "#9c179e"
             ],
             [
              0.4444444444444444,
              "#bd3786"
             ],
             [
              0.5555555555555556,
              "#d8576b"
             ],
             [
              0.6666666666666666,
              "#ed7953"
             ],
             [
              0.7777777777777778,
              "#fb9f3a"
             ],
             [
              0.8888888888888888,
              "#fdca26"
             ],
             [
              1,
              "#f0f921"
             ]
            ],
            "type": "contour"
           }
          ],
          "contourcarpet": [
           {
            "colorbar": {
             "outlinewidth": 0,
             "ticks": ""
            },
            "type": "contourcarpet"
           }
          ],
          "heatmap": [
           {
            "colorbar": {
             "outlinewidth": 0,
             "ticks": ""
            },
            "colorscale": [
             [
              0,
              "#0d0887"
             ],
             [
              0.1111111111111111,
              "#46039f"
             ],
             [
              0.2222222222222222,
              "#7201a8"
             ],
             [
              0.3333333333333333,
              "#9c179e"
             ],
             [
              0.4444444444444444,
              "#bd3786"
             ],
             [
              0.5555555555555556,
              "#d8576b"
             ],
             [
              0.6666666666666666,
              "#ed7953"
             ],
             [
              0.7777777777777778,
              "#fb9f3a"
             ],
             [
              0.8888888888888888,
              "#fdca26"
             ],
             [
              1,
              "#f0f921"
             ]
            ],
            "type": "heatmap"
           }
          ],
          "heatmapgl": [
           {
            "colorbar": {
             "outlinewidth": 0,
             "ticks": ""
            },
            "colorscale": [
             [
              0,
              "#0d0887"
             ],
             [
              0.1111111111111111,
              "#46039f"
             ],
             [
              0.2222222222222222,
              "#7201a8"
             ],
             [
              0.3333333333333333,
              "#9c179e"
             ],
             [
              0.4444444444444444,
              "#bd3786"
             ],
             [
              0.5555555555555556,
              "#d8576b"
             ],
             [
              0.6666666666666666,
              "#ed7953"
             ],
             [
              0.7777777777777778,
              "#fb9f3a"
             ],
             [
              0.8888888888888888,
              "#fdca26"
             ],
             [
              1,
              "#f0f921"
             ]
            ],
            "type": "heatmapgl"
           }
          ],
          "histogram": [
           {
            "marker": {
             "pattern": {
              "fillmode": "overlay",
              "size": 10,
              "solidity": 0.2
             }
            },
            "type": "histogram"
           }
          ],
          "histogram2d": [
           {
            "colorbar": {
             "outlinewidth": 0,
             "ticks": ""
            },
            "colorscale": [
             [
              0,
              "#0d0887"
             ],
             [
              0.1111111111111111,
              "#46039f"
             ],
             [
              0.2222222222222222,
              "#7201a8"
             ],
             [
              0.3333333333333333,
              "#9c179e"
             ],
             [
              0.4444444444444444,
              "#bd3786"
             ],
             [
              0.5555555555555556,
              "#d8576b"
             ],
             [
              0.6666666666666666,
              "#ed7953"
             ],
             [
              0.7777777777777778,
              "#fb9f3a"
             ],
             [
              0.8888888888888888,
              "#fdca26"
             ],
             [
              1,
              "#f0f921"
             ]
            ],
            "type": "histogram2d"
           }
          ],
          "histogram2dcontour": [
           {
            "colorbar": {
             "outlinewidth": 0,
             "ticks": ""
            },
            "colorscale": [
             [
              0,
              "#0d0887"
             ],
             [
              0.1111111111111111,
              "#46039f"
             ],
             [
              0.2222222222222222,
              "#7201a8"
             ],
             [
              0.3333333333333333,
              "#9c179e"
             ],
             [
              0.4444444444444444,
              "#bd3786"
             ],
             [
              0.5555555555555556,
              "#d8576b"
             ],
             [
              0.6666666666666666,
              "#ed7953"
             ],
             [
              0.7777777777777778,
              "#fb9f3a"
             ],
             [
              0.8888888888888888,
              "#fdca26"
             ],
             [
              1,
              "#f0f921"
             ]
            ],
            "type": "histogram2dcontour"
           }
          ],
          "mesh3d": [
           {
            "colorbar": {
             "outlinewidth": 0,
             "ticks": ""
            },
            "type": "mesh3d"
           }
          ],
          "parcoords": [
           {
            "line": {
             "colorbar": {
              "outlinewidth": 0,
              "ticks": ""
             }
            },
            "type": "parcoords"
           }
          ],
          "pie": [
           {
            "automargin": true,
            "type": "pie"
           }
          ],
          "scatter": [
           {
            "fillpattern": {
             "fillmode": "overlay",
             "size": 10,
             "solidity": 0.2
            },
            "type": "scatter"
           }
          ],
          "scatter3d": [
           {
            "line": {
             "colorbar": {
              "outlinewidth": 0,
              "ticks": ""
             }
            },
            "marker": {
             "colorbar": {
              "outlinewidth": 0,
              "ticks": ""
             }
            },
            "type": "scatter3d"
           }
          ],
          "scattercarpet": [
           {
            "marker": {
             "colorbar": {
              "outlinewidth": 0,
              "ticks": ""
             }
            },
            "type": "scattercarpet"
           }
          ],
          "scattergeo": [
           {
            "marker": {
             "colorbar": {
              "outlinewidth": 0,
              "ticks": ""
             }
            },
            "type": "scattergeo"
           }
          ],
          "scattergl": [
           {
            "marker": {
             "colorbar": {
              "outlinewidth": 0,
              "ticks": ""
             }
            },
            "type": "scattergl"
           }
          ],
          "scattermapbox": [
           {
            "marker": {
             "colorbar": {
              "outlinewidth": 0,
              "ticks": ""
             }
            },
            "type": "scattermapbox"
           }
          ],
          "scatterpolar": [
           {
            "marker": {
             "colorbar": {
              "outlinewidth": 0,
              "ticks": ""
             }
            },
            "type": "scatterpolar"
           }
          ],
          "scatterpolargl": [
           {
            "marker": {
             "colorbar": {
              "outlinewidth": 0,
              "ticks": ""
             }
            },
            "type": "scatterpolargl"
           }
          ],
          "scatterternary": [
           {
            "marker": {
             "colorbar": {
              "outlinewidth": 0,
              "ticks": ""
             }
            },
            "type": "scatterternary"
           }
          ],
          "surface": [
           {
            "colorbar": {
             "outlinewidth": 0,
             "ticks": ""
            },
            "colorscale": [
             [
              0,
              "#0d0887"
             ],
             [
              0.1111111111111111,
              "#46039f"
             ],
             [
              0.2222222222222222,
              "#7201a8"
             ],
             [
              0.3333333333333333,
              "#9c179e"
             ],
             [
              0.4444444444444444,
              "#bd3786"
             ],
             [
              0.5555555555555556,
              "#d8576b"
             ],
             [
              0.6666666666666666,
              "#ed7953"
             ],
             [
              0.7777777777777778,
              "#fb9f3a"
             ],
             [
              0.8888888888888888,
              "#fdca26"
             ],
             [
              1,
              "#f0f921"
             ]
            ],
            "type": "surface"
           }
          ],
          "table": [
           {
            "cells": {
             "fill": {
              "color": "#EBF0F8"
             },
             "line": {
              "color": "white"
             }
            },
            "header": {
             "fill": {
              "color": "#C8D4E3"
             },
             "line": {
              "color": "white"
             }
            },
            "type": "table"
           }
          ]
         },
         "layout": {
          "annotationdefaults": {
           "arrowcolor": "#2a3f5f",
           "arrowhead": 0,
           "arrowwidth": 1
          },
          "autotypenumbers": "strict",
          "coloraxis": {
           "colorbar": {
            "outlinewidth": 0,
            "ticks": ""
           }
          },
          "colorscale": {
           "diverging": [
            [
             0,
             "#8e0152"
            ],
            [
             0.1,
             "#c51b7d"
            ],
            [
             0.2,
             "#de77ae"
            ],
            [
             0.3,
             "#f1b6da"
            ],
            [
             0.4,
             "#fde0ef"
            ],
            [
             0.5,
             "#f7f7f7"
            ],
            [
             0.6,
             "#e6f5d0"
            ],
            [
             0.7,
             "#b8e186"
            ],
            [
             0.8,
             "#7fbc41"
            ],
            [
             0.9,
             "#4d9221"
            ],
            [
             1,
             "#276419"
            ]
           ],
           "sequential": [
            [
             0,
             "#0d0887"
            ],
            [
             0.1111111111111111,
             "#46039f"
            ],
            [
             0.2222222222222222,
             "#7201a8"
            ],
            [
             0.3333333333333333,
             "#9c179e"
            ],
            [
             0.4444444444444444,
             "#bd3786"
            ],
            [
             0.5555555555555556,
             "#d8576b"
            ],
            [
             0.6666666666666666,
             "#ed7953"
            ],
            [
             0.7777777777777778,
             "#fb9f3a"
            ],
            [
             0.8888888888888888,
             "#fdca26"
            ],
            [
             1,
             "#f0f921"
            ]
           ],
           "sequentialminus": [
            [
             0,
             "#0d0887"
            ],
            [
             0.1111111111111111,
             "#46039f"
            ],
            [
             0.2222222222222222,
             "#7201a8"
            ],
            [
             0.3333333333333333,
             "#9c179e"
            ],
            [
             0.4444444444444444,
             "#bd3786"
            ],
            [
             0.5555555555555556,
             "#d8576b"
            ],
            [
             0.6666666666666666,
             "#ed7953"
            ],
            [
             0.7777777777777778,
             "#fb9f3a"
            ],
            [
             0.8888888888888888,
             "#fdca26"
            ],
            [
             1,
             "#f0f921"
            ]
           ]
          },
          "colorway": [
           "#636efa",
           "#EF553B",
           "#00cc96",
           "#ab63fa",
           "#FFA15A",
           "#19d3f3",
           "#FF6692",
           "#B6E880",
           "#FF97FF",
           "#FECB52"
          ],
          "font": {
           "color": "#2a3f5f"
          },
          "geo": {
           "bgcolor": "white",
           "lakecolor": "white",
           "landcolor": "#E5ECF6",
           "showlakes": true,
           "showland": true,
           "subunitcolor": "white"
          },
          "hoverlabel": {
           "align": "left"
          },
          "hovermode": "closest",
          "mapbox": {
           "style": "light"
          },
          "paper_bgcolor": "white",
          "plot_bgcolor": "#E5ECF6",
          "polar": {
           "angularaxis": {
            "gridcolor": "white",
            "linecolor": "white",
            "ticks": ""
           },
           "bgcolor": "#E5ECF6",
           "radialaxis": {
            "gridcolor": "white",
            "linecolor": "white",
            "ticks": ""
           }
          },
          "scene": {
           "xaxis": {
            "backgroundcolor": "#E5ECF6",
            "gridcolor": "white",
            "gridwidth": 2,
            "linecolor": "white",
            "showbackground": true,
            "ticks": "",
            "zerolinecolor": "white"
           },
           "yaxis": {
            "backgroundcolor": "#E5ECF6",
            "gridcolor": "white",
            "gridwidth": 2,
            "linecolor": "white",
            "showbackground": true,
            "ticks": "",
            "zerolinecolor": "white"
           },
           "zaxis": {
            "backgroundcolor": "#E5ECF6",
            "gridcolor": "white",
            "gridwidth": 2,
            "linecolor": "white",
            "showbackground": true,
            "ticks": "",
            "zerolinecolor": "white"
           }
          },
          "shapedefaults": {
           "line": {
            "color": "#2a3f5f"
           }
          },
          "ternary": {
           "aaxis": {
            "gridcolor": "white",
            "linecolor": "white",
            "ticks": ""
           },
           "baxis": {
            "gridcolor": "white",
            "linecolor": "white",
            "ticks": ""
           },
           "bgcolor": "#E5ECF6",
           "caxis": {
            "gridcolor": "white",
            "linecolor": "white",
            "ticks": ""
           }
          },
          "title": {
           "x": 0.05
          },
          "xaxis": {
           "automargin": true,
           "gridcolor": "white",
           "linecolor": "white",
           "ticks": "",
           "title": {
            "standoff": 15
           },
           "zerolinecolor": "white",
           "zerolinewidth": 2
          },
          "yaxis": {
           "automargin": true,
           "gridcolor": "white",
           "linecolor": "white",
           "ticks": "",
           "title": {
            "standoff": 15
           },
           "zerolinecolor": "white",
           "zerolinewidth": 2
          }
         }
        },
        "title": {
         "font": {
          "size": 20
         },
         "text": "Количество учеников в школах",
         "x": 0.5
        },
        "xaxis": {
         "gridcolor": "ivory",
         "gridwidth": 2,
         "showgrid": true,
         "tickangle": -45,
         "tickfont": {
          "size": 14
         },
         "title": {
          "font": {
           "size": 16
          },
          "text": "Номер школы"
         }
        },
        "yaxis": {
         "gridcolor": "ivory",
         "gridwidth": 2,
         "showgrid": true,
         "tickfont": {
          "size": 14
         },
         "title": {
          "font": {
           "size": 16
          },
          "text": "Ученики"
         }
        }
       }
      }
     },
     "metadata": {},
     "output_type": "display_data"
    }
   ],
   "source": [
    "# import matplotlib as plt\n",
    "\n",
    "fig = go.Figure()\n",
    "fig.add_trace(go.Bar(x=sch, y=child,\n",
    "                    marker=dict(color=list(range(len(sch))),  coloraxis='coloraxis', line=dict(color='black', width=2))))\n",
    "\n",
    "\n",
    "fig.update_layout(\n",
    "    title=\"Количество учеников в школах\", title_font_size=20, title_x=0.5,\n",
    "    xaxis_title=\"Номер школы\", xaxis_title_font_size=16, xaxis_tickfont_size=14,\n",
    "    yaxis_title=\"Ученики\", yaxis_title_font_size=16, yaxis_tickfont_size=14,\n",
    "    margin=dict(l=0, r=0, t=30, b=0),\n",
    "    height=700\n",
    ")\n",
    "\n",
    "fig. update_xaxes(showgrid=True, gridwidth=2, gridcolor='ivory', tickangle=315)\n",
    "fig. update_yaxes(showgrid=True, gridwidth=2, gridcolor='ivory')\n",
    "\n",
    "fig.show()"
   ]
  },
  {
   "cell_type": "markdown",
   "metadata": {},
   "source": [
    "Убрать лишние отступы по краям"
   ]
  },
  {
   "cell_type": "code",
   "execution_count": 147,
   "metadata": {},
   "outputs": [
    {
     "data": {
      "application/vnd.plotly.v1+json": {
       "config": {
        "plotlyServerURL": "https://plot.ly"
       },
       "data": [
        {
         "marker": {
          "color": [
           0,
           1,
           2,
           3
          ],
          "coloraxis": "coloraxis",
          "line": {
           "color": "black",
           "width": 2
          }
         },
         "type": "bar",
         "x": [
          "175",
          "134",
          "Гимназия №1",
          "672"
         ],
         "y": [
          435,
          125,
          796,
          367
         ]
        }
       ],
       "layout": {
        "height": 700,
        "margin": {
         "b": 0,
         "l": 0,
         "r": 0,
         "t": 30
        },
        "template": {
         "data": {
          "bar": [
           {
            "error_x": {
             "color": "#2a3f5f"
            },
            "error_y": {
             "color": "#2a3f5f"
            },
            "marker": {
             "line": {
              "color": "#E5ECF6",
              "width": 0.5
             },
             "pattern": {
              "fillmode": "overlay",
              "size": 10,
              "solidity": 0.2
             }
            },
            "type": "bar"
           }
          ],
          "barpolar": [
           {
            "marker": {
             "line": {
              "color": "#E5ECF6",
              "width": 0.5
             },
             "pattern": {
              "fillmode": "overlay",
              "size": 10,
              "solidity": 0.2
             }
            },
            "type": "barpolar"
           }
          ],
          "carpet": [
           {
            "aaxis": {
             "endlinecolor": "#2a3f5f",
             "gridcolor": "white",
             "linecolor": "white",
             "minorgridcolor": "white",
             "startlinecolor": "#2a3f5f"
            },
            "baxis": {
             "endlinecolor": "#2a3f5f",
             "gridcolor": "white",
             "linecolor": "white",
             "minorgridcolor": "white",
             "startlinecolor": "#2a3f5f"
            },
            "type": "carpet"
           }
          ],
          "choropleth": [
           {
            "colorbar": {
             "outlinewidth": 0,
             "ticks": ""
            },
            "type": "choropleth"
           }
          ],
          "contour": [
           {
            "colorbar": {
             "outlinewidth": 0,
             "ticks": ""
            },
            "colorscale": [
             [
              0,
              "#0d0887"
             ],
             [
              0.1111111111111111,
              "#46039f"
             ],
             [
              0.2222222222222222,
              "#7201a8"
             ],
             [
              0.3333333333333333,
              "#9c179e"
             ],
             [
              0.4444444444444444,
              "#bd3786"
             ],
             [
              0.5555555555555556,
              "#d8576b"
             ],
             [
              0.6666666666666666,
              "#ed7953"
             ],
             [
              0.7777777777777778,
              "#fb9f3a"
             ],
             [
              0.8888888888888888,
              "#fdca26"
             ],
             [
              1,
              "#f0f921"
             ]
            ],
            "type": "contour"
           }
          ],
          "contourcarpet": [
           {
            "colorbar": {
             "outlinewidth": 0,
             "ticks": ""
            },
            "type": "contourcarpet"
           }
          ],
          "heatmap": [
           {
            "colorbar": {
             "outlinewidth": 0,
             "ticks": ""
            },
            "colorscale": [
             [
              0,
              "#0d0887"
             ],
             [
              0.1111111111111111,
              "#46039f"
             ],
             [
              0.2222222222222222,
              "#7201a8"
             ],
             [
              0.3333333333333333,
              "#9c179e"
             ],
             [
              0.4444444444444444,
              "#bd3786"
             ],
             [
              0.5555555555555556,
              "#d8576b"
             ],
             [
              0.6666666666666666,
              "#ed7953"
             ],
             [
              0.7777777777777778,
              "#fb9f3a"
             ],
             [
              0.8888888888888888,
              "#fdca26"
             ],
             [
              1,
              "#f0f921"
             ]
            ],
            "type": "heatmap"
           }
          ],
          "heatmapgl": [
           {
            "colorbar": {
             "outlinewidth": 0,
             "ticks": ""
            },
            "colorscale": [
             [
              0,
              "#0d0887"
             ],
             [
              0.1111111111111111,
              "#46039f"
             ],
             [
              0.2222222222222222,
              "#7201a8"
             ],
             [
              0.3333333333333333,
              "#9c179e"
             ],
             [
              0.4444444444444444,
              "#bd3786"
             ],
             [
              0.5555555555555556,
              "#d8576b"
             ],
             [
              0.6666666666666666,
              "#ed7953"
             ],
             [
              0.7777777777777778,
              "#fb9f3a"
             ],
             [
              0.8888888888888888,
              "#fdca26"
             ],
             [
              1,
              "#f0f921"
             ]
            ],
            "type": "heatmapgl"
           }
          ],
          "histogram": [
           {
            "marker": {
             "pattern": {
              "fillmode": "overlay",
              "size": 10,
              "solidity": 0.2
             }
            },
            "type": "histogram"
           }
          ],
          "histogram2d": [
           {
            "colorbar": {
             "outlinewidth": 0,
             "ticks": ""
            },
            "colorscale": [
             [
              0,
              "#0d0887"
             ],
             [
              0.1111111111111111,
              "#46039f"
             ],
             [
              0.2222222222222222,
              "#7201a8"
             ],
             [
              0.3333333333333333,
              "#9c179e"
             ],
             [
              0.4444444444444444,
              "#bd3786"
             ],
             [
              0.5555555555555556,
              "#d8576b"
             ],
             [
              0.6666666666666666,
              "#ed7953"
             ],
             [
              0.7777777777777778,
              "#fb9f3a"
             ],
             [
              0.8888888888888888,
              "#fdca26"
             ],
             [
              1,
              "#f0f921"
             ]
            ],
            "type": "histogram2d"
           }
          ],
          "histogram2dcontour": [
           {
            "colorbar": {
             "outlinewidth": 0,
             "ticks": ""
            },
            "colorscale": [
             [
              0,
              "#0d0887"
             ],
             [
              0.1111111111111111,
              "#46039f"
             ],
             [
              0.2222222222222222,
              "#7201a8"
             ],
             [
              0.3333333333333333,
              "#9c179e"
             ],
             [
              0.4444444444444444,
              "#bd3786"
             ],
             [
              0.5555555555555556,
              "#d8576b"
             ],
             [
              0.6666666666666666,
              "#ed7953"
             ],
             [
              0.7777777777777778,
              "#fb9f3a"
             ],
             [
              0.8888888888888888,
              "#fdca26"
             ],
             [
              1,
              "#f0f921"
             ]
            ],
            "type": "histogram2dcontour"
           }
          ],
          "mesh3d": [
           {
            "colorbar": {
             "outlinewidth": 0,
             "ticks": ""
            },
            "type": "mesh3d"
           }
          ],
          "parcoords": [
           {
            "line": {
             "colorbar": {
              "outlinewidth": 0,
              "ticks": ""
             }
            },
            "type": "parcoords"
           }
          ],
          "pie": [
           {
            "automargin": true,
            "type": "pie"
           }
          ],
          "scatter": [
           {
            "fillpattern": {
             "fillmode": "overlay",
             "size": 10,
             "solidity": 0.2
            },
            "type": "scatter"
           }
          ],
          "scatter3d": [
           {
            "line": {
             "colorbar": {
              "outlinewidth": 0,
              "ticks": ""
             }
            },
            "marker": {
             "colorbar": {
              "outlinewidth": 0,
              "ticks": ""
             }
            },
            "type": "scatter3d"
           }
          ],
          "scattercarpet": [
           {
            "marker": {
             "colorbar": {
              "outlinewidth": 0,
              "ticks": ""
             }
            },
            "type": "scattercarpet"
           }
          ],
          "scattergeo": [
           {
            "marker": {
             "colorbar": {
              "outlinewidth": 0,
              "ticks": ""
             }
            },
            "type": "scattergeo"
           }
          ],
          "scattergl": [
           {
            "marker": {
             "colorbar": {
              "outlinewidth": 0,
              "ticks": ""
             }
            },
            "type": "scattergl"
           }
          ],
          "scattermapbox": [
           {
            "marker": {
             "colorbar": {
              "outlinewidth": 0,
              "ticks": ""
             }
            },
            "type": "scattermapbox"
           }
          ],
          "scatterpolar": [
           {
            "marker": {
             "colorbar": {
              "outlinewidth": 0,
              "ticks": ""
             }
            },
            "type": "scatterpolar"
           }
          ],
          "scatterpolargl": [
           {
            "marker": {
             "colorbar": {
              "outlinewidth": 0,
              "ticks": ""
             }
            },
            "type": "scatterpolargl"
           }
          ],
          "scatterternary": [
           {
            "marker": {
             "colorbar": {
              "outlinewidth": 0,
              "ticks": ""
             }
            },
            "type": "scatterternary"
           }
          ],
          "surface": [
           {
            "colorbar": {
             "outlinewidth": 0,
             "ticks": ""
            },
            "colorscale": [
             [
              0,
              "#0d0887"
             ],
             [
              0.1111111111111111,
              "#46039f"
             ],
             [
              0.2222222222222222,
              "#7201a8"
             ],
             [
              0.3333333333333333,
              "#9c179e"
             ],
             [
              0.4444444444444444,
              "#bd3786"
             ],
             [
              0.5555555555555556,
              "#d8576b"
             ],
             [
              0.6666666666666666,
              "#ed7953"
             ],
             [
              0.7777777777777778,
              "#fb9f3a"
             ],
             [
              0.8888888888888888,
              "#fdca26"
             ],
             [
              1,
              "#f0f921"
             ]
            ],
            "type": "surface"
           }
          ],
          "table": [
           {
            "cells": {
             "fill": {
              "color": "#EBF0F8"
             },
             "line": {
              "color": "white"
             }
            },
            "header": {
             "fill": {
              "color": "#C8D4E3"
             },
             "line": {
              "color": "white"
             }
            },
            "type": "table"
           }
          ]
         },
         "layout": {
          "annotationdefaults": {
           "arrowcolor": "#2a3f5f",
           "arrowhead": 0,
           "arrowwidth": 1
          },
          "autotypenumbers": "strict",
          "coloraxis": {
           "colorbar": {
            "outlinewidth": 0,
            "ticks": ""
           }
          },
          "colorscale": {
           "diverging": [
            [
             0,
             "#8e0152"
            ],
            [
             0.1,
             "#c51b7d"
            ],
            [
             0.2,
             "#de77ae"
            ],
            [
             0.3,
             "#f1b6da"
            ],
            [
             0.4,
             "#fde0ef"
            ],
            [
             0.5,
             "#f7f7f7"
            ],
            [
             0.6,
             "#e6f5d0"
            ],
            [
             0.7,
             "#b8e186"
            ],
            [
             0.8,
             "#7fbc41"
            ],
            [
             0.9,
             "#4d9221"
            ],
            [
             1,
             "#276419"
            ]
           ],
           "sequential": [
            [
             0,
             "#0d0887"
            ],
            [
             0.1111111111111111,
             "#46039f"
            ],
            [
             0.2222222222222222,
             "#7201a8"
            ],
            [
             0.3333333333333333,
             "#9c179e"
            ],
            [
             0.4444444444444444,
             "#bd3786"
            ],
            [
             0.5555555555555556,
             "#d8576b"
            ],
            [
             0.6666666666666666,
             "#ed7953"
            ],
            [
             0.7777777777777778,
             "#fb9f3a"
            ],
            [
             0.8888888888888888,
             "#fdca26"
            ],
            [
             1,
             "#f0f921"
            ]
           ],
           "sequentialminus": [
            [
             0,
             "#0d0887"
            ],
            [
             0.1111111111111111,
             "#46039f"
            ],
            [
             0.2222222222222222,
             "#7201a8"
            ],
            [
             0.3333333333333333,
             "#9c179e"
            ],
            [
             0.4444444444444444,
             "#bd3786"
            ],
            [
             0.5555555555555556,
             "#d8576b"
            ],
            [
             0.6666666666666666,
             "#ed7953"
            ],
            [
             0.7777777777777778,
             "#fb9f3a"
            ],
            [
             0.8888888888888888,
             "#fdca26"
            ],
            [
             1,
             "#f0f921"
            ]
           ]
          },
          "colorway": [
           "#636efa",
           "#EF553B",
           "#00cc96",
           "#ab63fa",
           "#FFA15A",
           "#19d3f3",
           "#FF6692",
           "#B6E880",
           "#FF97FF",
           "#FECB52"
          ],
          "font": {
           "color": "#2a3f5f"
          },
          "geo": {
           "bgcolor": "white",
           "lakecolor": "white",
           "landcolor": "#E5ECF6",
           "showlakes": true,
           "showland": true,
           "subunitcolor": "white"
          },
          "hoverlabel": {
           "align": "left"
          },
          "hovermode": "closest",
          "mapbox": {
           "style": "light"
          },
          "paper_bgcolor": "white",
          "plot_bgcolor": "#E5ECF6",
          "polar": {
           "angularaxis": {
            "gridcolor": "white",
            "linecolor": "white",
            "ticks": ""
           },
           "bgcolor": "#E5ECF6",
           "radialaxis": {
            "gridcolor": "white",
            "linecolor": "white",
            "ticks": ""
           }
          },
          "scene": {
           "xaxis": {
            "backgroundcolor": "#E5ECF6",
            "gridcolor": "white",
            "gridwidth": 2,
            "linecolor": "white",
            "showbackground": true,
            "ticks": "",
            "zerolinecolor": "white"
           },
           "yaxis": {
            "backgroundcolor": "#E5ECF6",
            "gridcolor": "white",
            "gridwidth": 2,
            "linecolor": "white",
            "showbackground": true,
            "ticks": "",
            "zerolinecolor": "white"
           },
           "zaxis": {
            "backgroundcolor": "#E5ECF6",
            "gridcolor": "white",
            "gridwidth": 2,
            "linecolor": "white",
            "showbackground": true,
            "ticks": "",
            "zerolinecolor": "white"
           }
          },
          "shapedefaults": {
           "line": {
            "color": "#2a3f5f"
           }
          },
          "ternary": {
           "aaxis": {
            "gridcolor": "white",
            "linecolor": "white",
            "ticks": ""
           },
           "baxis": {
            "gridcolor": "white",
            "linecolor": "white",
            "ticks": ""
           },
           "bgcolor": "#E5ECF6",
           "caxis": {
            "gridcolor": "white",
            "linecolor": "white",
            "ticks": ""
           }
          },
          "title": {
           "x": 0.05
          },
          "xaxis": {
           "automargin": true,
           "gridcolor": "white",
           "linecolor": "white",
           "ticks": "",
           "title": {
            "standoff": 15
           },
           "zerolinecolor": "white",
           "zerolinewidth": 2
          },
          "yaxis": {
           "automargin": true,
           "gridcolor": "white",
           "linecolor": "white",
           "ticks": "",
           "title": {
            "standoff": 15
           },
           "zerolinecolor": "white",
           "zerolinewidth": 2
          }
         }
        },
        "title": {
         "font": {
          "size": 20
         },
         "text": "Количество учеников в школах",
         "x": 0.5
        },
        "xaxis": {
         "gridcolor": "ivory",
         "gridwidth": 2,
         "showgrid": true,
         "tickangle": -45,
         "tickfont": {
          "size": 14
         },
         "title": {
          "font": {
           "size": 16
          },
          "text": "Номер школы"
         }
        },
        "yaxis": {
         "gridcolor": "ivory",
         "gridwidth": 2,
         "showgrid": true,
         "tickfont": {
          "size": 14
         },
         "title": {
          "font": {
           "size": 16
          },
          "text": "Ученики"
         }
        }
       }
      }
     },
     "metadata": {},
     "output_type": "display_data"
    }
   ],
   "source": [
    "# import matplotlib as plt\n",
    "\n",
    "fig = go.Figure()\n",
    "fig.add_trace(go.Bar(x=sch, y=child,\n",
    "                    marker=dict(color=list(range(len(sch))),  coloraxis='coloraxis', line=dict(color='black', width=2))))\n",
    "\n",
    "\n",
    "fig.update_layout(\n",
    "    title=\"Количество учеников в школах\", title_font_size=20, title_x=0.5,\n",
    "    xaxis_title=\"Номер школы\", xaxis_title_font_size=16, xaxis_tickfont_size=14,\n",
    "    yaxis_title=\"Ученики\", yaxis_title_font_size=16, yaxis_tickfont_size=14,\n",
    "    margin=dict(l=0, r=0, t=30, b=0), #отступы по бокам убраны с самого начала\n",
    "    height=700\n",
    ")\n",
    "\n",
    "fig. update_xaxes(showgrid=True, gridwidth=2, gridcolor='ivory', tickangle=315)\n",
    "fig. update_yaxes(showgrid=True, gridwidth=2, gridcolor='ivory')\n",
    "\n",
    "fig.show()"
   ]
  },
  {
   "cell_type": "markdown",
   "metadata": {},
   "source": [
    "Построить круговую диаграмму (go.Pie), использовав данные и стиль \n",
    "оформления  из предыдущего графика. Сделать так, чтобы границы \n",
    "каждой доли были выделены чёрной линией с толщиной, равной 2 и \n",
    "категории круговой диаграммы были читаемы (к примеру, объединить \n",
    "часть объектов)"
   ]
  },
  {
   "cell_type": "code",
   "execution_count": 187,
   "metadata": {},
   "outputs": [
    {
     "data": {
      "application/vnd.plotly.v1+json": {
       "config": {
        "plotlyServerURL": "https://plot.ly"
       },
       "data": [
        {
         "hoverinfo": "label",
         "insidetextorientation": "radial",
         "labels": [
          "175",
          "134",
          "Гимназия №1",
          "672"
         ],
         "marker": {
          "colors": [
           0,
           1,
           2,
           3
          ],
          "line": {
           "color": "black",
           "width": 2
          }
         },
         "textfont": {
          "size": 20
         },
         "textinfo": "value",
         "type": "pie",
         "values": [
          435,
          125,
          796,
          367
         ]
        }
       ],
       "layout": {
        "height": 700,
        "margin": {
         "b": 1,
         "l": 1,
         "r": 1,
         "t": 30
        },
        "template": {
         "data": {
          "bar": [
           {
            "error_x": {
             "color": "#2a3f5f"
            },
            "error_y": {
             "color": "#2a3f5f"
            },
            "marker": {
             "line": {
              "color": "#E5ECF6",
              "width": 0.5
             },
             "pattern": {
              "fillmode": "overlay",
              "size": 10,
              "solidity": 0.2
             }
            },
            "type": "bar"
           }
          ],
          "barpolar": [
           {
            "marker": {
             "line": {
              "color": "#E5ECF6",
              "width": 0.5
             },
             "pattern": {
              "fillmode": "overlay",
              "size": 10,
              "solidity": 0.2
             }
            },
            "type": "barpolar"
           }
          ],
          "carpet": [
           {
            "aaxis": {
             "endlinecolor": "#2a3f5f",
             "gridcolor": "white",
             "linecolor": "white",
             "minorgridcolor": "white",
             "startlinecolor": "#2a3f5f"
            },
            "baxis": {
             "endlinecolor": "#2a3f5f",
             "gridcolor": "white",
             "linecolor": "white",
             "minorgridcolor": "white",
             "startlinecolor": "#2a3f5f"
            },
            "type": "carpet"
           }
          ],
          "choropleth": [
           {
            "colorbar": {
             "outlinewidth": 0,
             "ticks": ""
            },
            "type": "choropleth"
           }
          ],
          "contour": [
           {
            "colorbar": {
             "outlinewidth": 0,
             "ticks": ""
            },
            "colorscale": [
             [
              0,
              "#0d0887"
             ],
             [
              0.1111111111111111,
              "#46039f"
             ],
             [
              0.2222222222222222,
              "#7201a8"
             ],
             [
              0.3333333333333333,
              "#9c179e"
             ],
             [
              0.4444444444444444,
              "#bd3786"
             ],
             [
              0.5555555555555556,
              "#d8576b"
             ],
             [
              0.6666666666666666,
              "#ed7953"
             ],
             [
              0.7777777777777778,
              "#fb9f3a"
             ],
             [
              0.8888888888888888,
              "#fdca26"
             ],
             [
              1,
              "#f0f921"
             ]
            ],
            "type": "contour"
           }
          ],
          "contourcarpet": [
           {
            "colorbar": {
             "outlinewidth": 0,
             "ticks": ""
            },
            "type": "contourcarpet"
           }
          ],
          "heatmap": [
           {
            "colorbar": {
             "outlinewidth": 0,
             "ticks": ""
            },
            "colorscale": [
             [
              0,
              "#0d0887"
             ],
             [
              0.1111111111111111,
              "#46039f"
             ],
             [
              0.2222222222222222,
              "#7201a8"
             ],
             [
              0.3333333333333333,
              "#9c179e"
             ],
             [
              0.4444444444444444,
              "#bd3786"
             ],
             [
              0.5555555555555556,
              "#d8576b"
             ],
             [
              0.6666666666666666,
              "#ed7953"
             ],
             [
              0.7777777777777778,
              "#fb9f3a"
             ],
             [
              0.8888888888888888,
              "#fdca26"
             ],
             [
              1,
              "#f0f921"
             ]
            ],
            "type": "heatmap"
           }
          ],
          "heatmapgl": [
           {
            "colorbar": {
             "outlinewidth": 0,
             "ticks": ""
            },
            "colorscale": [
             [
              0,
              "#0d0887"
             ],
             [
              0.1111111111111111,
              "#46039f"
             ],
             [
              0.2222222222222222,
              "#7201a8"
             ],
             [
              0.3333333333333333,
              "#9c179e"
             ],
             [
              0.4444444444444444,
              "#bd3786"
             ],
             [
              0.5555555555555556,
              "#d8576b"
             ],
             [
              0.6666666666666666,
              "#ed7953"
             ],
             [
              0.7777777777777778,
              "#fb9f3a"
             ],
             [
              0.8888888888888888,
              "#fdca26"
             ],
             [
              1,
              "#f0f921"
             ]
            ],
            "type": "heatmapgl"
           }
          ],
          "histogram": [
           {
            "marker": {
             "pattern": {
              "fillmode": "overlay",
              "size": 10,
              "solidity": 0.2
             }
            },
            "type": "histogram"
           }
          ],
          "histogram2d": [
           {
            "colorbar": {
             "outlinewidth": 0,
             "ticks": ""
            },
            "colorscale": [
             [
              0,
              "#0d0887"
             ],
             [
              0.1111111111111111,
              "#46039f"
             ],
             [
              0.2222222222222222,
              "#7201a8"
             ],
             [
              0.3333333333333333,
              "#9c179e"
             ],
             [
              0.4444444444444444,
              "#bd3786"
             ],
             [
              0.5555555555555556,
              "#d8576b"
             ],
             [
              0.6666666666666666,
              "#ed7953"
             ],
             [
              0.7777777777777778,
              "#fb9f3a"
             ],
             [
              0.8888888888888888,
              "#fdca26"
             ],
             [
              1,
              "#f0f921"
             ]
            ],
            "type": "histogram2d"
           }
          ],
          "histogram2dcontour": [
           {
            "colorbar": {
             "outlinewidth": 0,
             "ticks": ""
            },
            "colorscale": [
             [
              0,
              "#0d0887"
             ],
             [
              0.1111111111111111,
              "#46039f"
             ],
             [
              0.2222222222222222,
              "#7201a8"
             ],
             [
              0.3333333333333333,
              "#9c179e"
             ],
             [
              0.4444444444444444,
              "#bd3786"
             ],
             [
              0.5555555555555556,
              "#d8576b"
             ],
             [
              0.6666666666666666,
              "#ed7953"
             ],
             [
              0.7777777777777778,
              "#fb9f3a"
             ],
             [
              0.8888888888888888,
              "#fdca26"
             ],
             [
              1,
              "#f0f921"
             ]
            ],
            "type": "histogram2dcontour"
           }
          ],
          "mesh3d": [
           {
            "colorbar": {
             "outlinewidth": 0,
             "ticks": ""
            },
            "type": "mesh3d"
           }
          ],
          "parcoords": [
           {
            "line": {
             "colorbar": {
              "outlinewidth": 0,
              "ticks": ""
             }
            },
            "type": "parcoords"
           }
          ],
          "pie": [
           {
            "automargin": true,
            "type": "pie"
           }
          ],
          "scatter": [
           {
            "fillpattern": {
             "fillmode": "overlay",
             "size": 10,
             "solidity": 0.2
            },
            "type": "scatter"
           }
          ],
          "scatter3d": [
           {
            "line": {
             "colorbar": {
              "outlinewidth": 0,
              "ticks": ""
             }
            },
            "marker": {
             "colorbar": {
              "outlinewidth": 0,
              "ticks": ""
             }
            },
            "type": "scatter3d"
           }
          ],
          "scattercarpet": [
           {
            "marker": {
             "colorbar": {
              "outlinewidth": 0,
              "ticks": ""
             }
            },
            "type": "scattercarpet"
           }
          ],
          "scattergeo": [
           {
            "marker": {
             "colorbar": {
              "outlinewidth": 0,
              "ticks": ""
             }
            },
            "type": "scattergeo"
           }
          ],
          "scattergl": [
           {
            "marker": {
             "colorbar": {
              "outlinewidth": 0,
              "ticks": ""
             }
            },
            "type": "scattergl"
           }
          ],
          "scattermapbox": [
           {
            "marker": {
             "colorbar": {
              "outlinewidth": 0,
              "ticks": ""
             }
            },
            "type": "scattermapbox"
           }
          ],
          "scatterpolar": [
           {
            "marker": {
             "colorbar": {
              "outlinewidth": 0,
              "ticks": ""
             }
            },
            "type": "scatterpolar"
           }
          ],
          "scatterpolargl": [
           {
            "marker": {
             "colorbar": {
              "outlinewidth": 0,
              "ticks": ""
             }
            },
            "type": "scatterpolargl"
           }
          ],
          "scatterternary": [
           {
            "marker": {
             "colorbar": {
              "outlinewidth": 0,
              "ticks": ""
             }
            },
            "type": "scatterternary"
           }
          ],
          "surface": [
           {
            "colorbar": {
             "outlinewidth": 0,
             "ticks": ""
            },
            "colorscale": [
             [
              0,
              "#0d0887"
             ],
             [
              0.1111111111111111,
              "#46039f"
             ],
             [
              0.2222222222222222,
              "#7201a8"
             ],
             [
              0.3333333333333333,
              "#9c179e"
             ],
             [
              0.4444444444444444,
              "#bd3786"
             ],
             [
              0.5555555555555556,
              "#d8576b"
             ],
             [
              0.6666666666666666,
              "#ed7953"
             ],
             [
              0.7777777777777778,
              "#fb9f3a"
             ],
             [
              0.8888888888888888,
              "#fdca26"
             ],
             [
              1,
              "#f0f921"
             ]
            ],
            "type": "surface"
           }
          ],
          "table": [
           {
            "cells": {
             "fill": {
              "color": "#EBF0F8"
             },
             "line": {
              "color": "white"
             }
            },
            "header": {
             "fill": {
              "color": "#C8D4E3"
             },
             "line": {
              "color": "white"
             }
            },
            "type": "table"
           }
          ]
         },
         "layout": {
          "annotationdefaults": {
           "arrowcolor": "#2a3f5f",
           "arrowhead": 0,
           "arrowwidth": 1
          },
          "autotypenumbers": "strict",
          "coloraxis": {
           "colorbar": {
            "outlinewidth": 0,
            "ticks": ""
           }
          },
          "colorscale": {
           "diverging": [
            [
             0,
             "#8e0152"
            ],
            [
             0.1,
             "#c51b7d"
            ],
            [
             0.2,
             "#de77ae"
            ],
            [
             0.3,
             "#f1b6da"
            ],
            [
             0.4,
             "#fde0ef"
            ],
            [
             0.5,
             "#f7f7f7"
            ],
            [
             0.6,
             "#e6f5d0"
            ],
            [
             0.7,
             "#b8e186"
            ],
            [
             0.8,
             "#7fbc41"
            ],
            [
             0.9,
             "#4d9221"
            ],
            [
             1,
             "#276419"
            ]
           ],
           "sequential": [
            [
             0,
             "#0d0887"
            ],
            [
             0.1111111111111111,
             "#46039f"
            ],
            [
             0.2222222222222222,
             "#7201a8"
            ],
            [
             0.3333333333333333,
             "#9c179e"
            ],
            [
             0.4444444444444444,
             "#bd3786"
            ],
            [
             0.5555555555555556,
             "#d8576b"
            ],
            [
             0.6666666666666666,
             "#ed7953"
            ],
            [
             0.7777777777777778,
             "#fb9f3a"
            ],
            [
             0.8888888888888888,
             "#fdca26"
            ],
            [
             1,
             "#f0f921"
            ]
           ],
           "sequentialminus": [
            [
             0,
             "#0d0887"
            ],
            [
             0.1111111111111111,
             "#46039f"
            ],
            [
             0.2222222222222222,
             "#7201a8"
            ],
            [
             0.3333333333333333,
             "#9c179e"
            ],
            [
             0.4444444444444444,
             "#bd3786"
            ],
            [
             0.5555555555555556,
             "#d8576b"
            ],
            [
             0.6666666666666666,
             "#ed7953"
            ],
            [
             0.7777777777777778,
             "#fb9f3a"
            ],
            [
             0.8888888888888888,
             "#fdca26"
            ],
            [
             1,
             "#f0f921"
            ]
           ]
          },
          "colorway": [
           "#636efa",
           "#EF553B",
           "#00cc96",
           "#ab63fa",
           "#FFA15A",
           "#19d3f3",
           "#FF6692",
           "#B6E880",
           "#FF97FF",
           "#FECB52"
          ],
          "font": {
           "color": "#2a3f5f"
          },
          "geo": {
           "bgcolor": "white",
           "lakecolor": "white",
           "landcolor": "#E5ECF6",
           "showlakes": true,
           "showland": true,
           "subunitcolor": "white"
          },
          "hoverlabel": {
           "align": "left"
          },
          "hovermode": "closest",
          "mapbox": {
           "style": "light"
          },
          "paper_bgcolor": "white",
          "plot_bgcolor": "#E5ECF6",
          "polar": {
           "angularaxis": {
            "gridcolor": "white",
            "linecolor": "white",
            "ticks": ""
           },
           "bgcolor": "#E5ECF6",
           "radialaxis": {
            "gridcolor": "white",
            "linecolor": "white",
            "ticks": ""
           }
          },
          "scene": {
           "xaxis": {
            "backgroundcolor": "#E5ECF6",
            "gridcolor": "white",
            "gridwidth": 2,
            "linecolor": "white",
            "showbackground": true,
            "ticks": "",
            "zerolinecolor": "white"
           },
           "yaxis": {
            "backgroundcolor": "#E5ECF6",
            "gridcolor": "white",
            "gridwidth": 2,
            "linecolor": "white",
            "showbackground": true,
            "ticks": "",
            "zerolinecolor": "white"
           },
           "zaxis": {
            "backgroundcolor": "#E5ECF6",
            "gridcolor": "white",
            "gridwidth": 2,
            "linecolor": "white",
            "showbackground": true,
            "ticks": "",
            "zerolinecolor": "white"
           }
          },
          "shapedefaults": {
           "line": {
            "color": "#2a3f5f"
           }
          },
          "ternary": {
           "aaxis": {
            "gridcolor": "white",
            "linecolor": "white",
            "ticks": ""
           },
           "baxis": {
            "gridcolor": "white",
            "linecolor": "white",
            "ticks": ""
           },
           "bgcolor": "#E5ECF6",
           "caxis": {
            "gridcolor": "white",
            "linecolor": "white",
            "ticks": ""
           }
          },
          "title": {
           "x": 0.05
          },
          "xaxis": {
           "automargin": true,
           "gridcolor": "white",
           "linecolor": "white",
           "ticks": "",
           "title": {
            "standoff": 15
           },
           "zerolinecolor": "white",
           "zerolinewidth": 2
          },
          "yaxis": {
           "automargin": true,
           "gridcolor": "white",
           "linecolor": "white",
           "ticks": "",
           "title": {
            "standoff": 15
           },
           "zerolinecolor": "white",
           "zerolinewidth": 2
          }
         }
        },
        "title": {
         "font": {
          "size": 20
         },
         "text": "Количество учеников в школах",
         "x": 0.5
        }
       }
      }
     },
     "metadata": {},
     "output_type": "display_data"
    }
   ],
   "source": [
    "fig = go.Figure(data=[go.Pie(labels=sch, values=child)])\n",
    "\n",
    "fig.update_traces(hoverinfo='label', textinfo='value', textfont_size=20,\n",
    "                marker=dict(colors=list(range(len(sch))), \n",
    "                line=dict(color='black',\n",
    "                width=2, \n",
    "                )),\n",
    "                insidetextorientation='radial')\n",
    "\n",
    "fig.update_layout(\n",
    "    title=\"Количество учеников в школах\", title_font_size=20, title_x=0.5,\n",
    "    margin=dict(l=1, r=1, t=30, b=1),\n",
    "    height=700\n",
    ")\n",
    "\n",
    "fig.show()"
   ]
  },
  {
   "cell_type": "markdown",
   "metadata": {},
   "source": [
    "Построить линейные графики, взять один из параметров и определить \n",
    "зависимость между другими несколькими (от 2 до 5) показателями с \n",
    "использованием библиотеки matplotlib. Сделать вывод"
   ]
  },
  {
   "cell_type": "code",
   "execution_count": 7,
   "metadata": {},
   "outputs": [
    {
     "data": {
      "image/png": "[encoded data removed]",
      "text/plain": [
       "<Figure size 640x480 with 1 Axes>"
      ]
     },
     "metadata": {},
     "output_type": "display_data"
    }
   ],
   "source": [
    "import matplotlib as mpl\n",
    "import matplotlib.pyplot as plt\n",
    "import pandas as pd\n",
    "import numpy as np\n",
    "\n",
    "fig = plt.figure()\n",
    "plt.grid(True)\n",
    "\n",
    "data = pd.read_csv('commodity_futures.csv', sep=',')\n",
    "\n",
    "plt.title(\"Динамика цен\")\n",
    "plt.xlabel(\"Дата\", fontsize=12)\n",
    "plt.ylabel(\"Цена\", fontsize=12)\n",
    "plt.xticks(np.arange(start =0, stop=len(data), step=100), rotation = 17, size =10)\n",
    "\n",
    "plt.plot(data['Date'],\n",
    "        data['GOLD'],\n",
    "        marker='.',\n",
    "        color=\"red\",\n",
    "        linewidth=1.5,\n",
    "        markersize=1.5,\n",
    "        label='ЗОЛОТО'\n",
    "        )\n",
    "\n",
    "plt.plot(data['Date'],\n",
    "        data['LOW SULPHUR GAS OIL'],\n",
    "        marker='.',\n",
    "        color=\"green\",\n",
    "        linewidth=1.5,\n",
    "        markersize=1.5,\n",
    "        label = 'ГАЗОЙЛЬ С НИЗКИМ СОДЕРЖАНИЕМ СЕРЫ'\n",
    "        )\n",
    "plt.legend(loc='upper center')\n",
    "\n",
    "plt.show()"
   ]
  },
  {
   "cell_type": "markdown",
   "metadata": {},
   "source": [
    "Сделать график с линиями и маркерами, цвет линии 'crimson', цвет \n",
    "точек 'white', цвет границ точек 'black', толщина границ точек равна 2."
   ]
  },
  {
   "cell_type": "code",
   "execution_count": 17,
   "metadata": {},
   "outputs": [
    {
     "data": {
      "image/png": "[encoded data removed]",
      "text/plain": [
       "<Figure size 640x480 with 1 Axes>"
      ]
     },
     "metadata": {},
     "output_type": "display_data"
    }
   ],
   "source": [
    "import matplotlib.pyplot as plt\n",
    "import pandas as pd\n",
    "import numpy as np\n",
    "\n",
    "fig = plt.figure()\n",
    "plt.grid(True)\n",
    "\n",
    "data = pd.read_csv('commodity_futures.csv', sep=',')\n",
    "\n",
    "plt.title(\"Динамика цен\")\n",
    "plt.xlabel(\"Дата\", fontsize=12)\n",
    "plt.ylabel(\"Цена\", fontsize=12)\n",
    "plt.xticks(np.arange(start =0, stop=len(data), step=100), rotation = 17, size =10)\n",
    "\n",
    "plt.plot(data['Date'],\n",
    "        data['GOLD'],\n",
    "        marker='^',\n",
    "        color=\"crimson\",\n",
    "        linewidth=1.5,\n",
    "        markersize=1.5,\n",
    "        label='ЗОЛОТО'\n",
    "        )\n",
    "plt.legend(loc='upper center')\n",
    "\n",
    "plt.show()"
   ]
  },
  {
   "cell_type": "markdown",
   "metadata": {},
   "source": [
    "Добавить  сетку  на  график,  сделать  её  цвет  'mistyrose'  и  толщину \n",
    "равную  2.  (Можно  сделать  это  при  настройке  осей  с  помощью \n",
    "linewidth=2, color='mistyrose')"
   ]
  },
  {
   "cell_type": "code",
   "execution_count": 2,
   "metadata": {},
   "outputs": [
    {
     "data": {
      "image/png": "[encoded data removed]",
      "text/plain": [
       "<Figure size 640x480 with 1 Axes>"
      ]
     },
     "metadata": {},
     "output_type": "display_data"
    }
   ],
   "source": [
    "import matplotlib.pyplot as plt\n",
    "import pandas as pd\n",
    "import numpy as np\n",
    "\n",
    "fig = plt.figure()\n",
    "plt.grid(True, color='mistyrose', linewidth=2)\n",
    "\n",
    "data = pd.read_csv('commodity_futures.csv', sep=',')\n",
    "\n",
    "plt.title(\"Динамика цен\")\n",
    "plt.xlabel(\"Дата\", fontsize=12)\n",
    "plt.ylabel(\"Цена\", fontsize=12)\n",
    "plt.xticks(np.arange(start =0, stop=len(data), step=100), rotation = 17, size =10)\n",
    "\n",
    "plt.plot(data['Date'],\n",
    "        data['GOLD'],\n",
    "        marker='2',\n",
    "        color=\"crimson\",\n",
    "        linewidth=1.5,\n",
    "        markersize=1.5,\n",
    "        label='ЗОЛОТО'\n",
    "        )\n",
    "plt.legend(loc='upper center')\n",
    "\n",
    "plt.show()"
   ]
  },
  {
   "cell_type": "markdown",
   "metadata": {},
   "source": [
    "Выполнить  визуализацию  многомерных  данных,  используя  t-SNE. \n",
    "Необходимо использовать набор данных MNIST или fashion MNIST \n",
    "(можно использовать и другие готовые наборы данных, где можно \n",
    "наблюдать  разделение  объектов  по  кластерам).  Рассмотреть \n",
    "результаты визуализации для разных значений перплексии."
   ]
  },
  {
   "cell_type": "code",
   "execution_count": 8,
   "metadata": {},
   "outputs": [
    {
     "data": {
      "image/png": "[encoded data removed]",
      "text/plain": [
       "<Figure size 1200x600 with 10 Axes>"
      ]
     },
     "metadata": {},
     "output_type": "display_data"
    },
    {
     "data": {
      "application/vnd.plotly.v1+json": {
       "config": {
        "plotlyServerURL": "https://plot.ly"
       },
       "data": [
        {
         "hovertemplate": "color=0<br>Dimension 1=%{x}<br>Dimension 2=%{y}<extra></extra>",
         "legendgroup": "0",
         "marker": {
          "color": "#636efa",
          "opacity": 1,
          "size": 3,
          "symbol": "circle"
         },
         "mode": "markers",
         "name": "0",
         "showlegend": true,
         "type": "scattergl",
         "x": [
          -3.5325043201446533,
          -1.2840373516082764,
          6.845709800720215,
          -5.597424030303955,
          4.776905536651611,
          -3.1854376792907715,
          5.21479606628418,
          8.094766616821289,
          7.774672985076904,
          5.262974262237549,
          6.090548992156982,
          9.498564720153809,
          7.795872211456299,
          2.7038228511810303,
          4.756418228149414,
          9.120598793029785,
          3.563669204711914,
          -0.11663014441728592,
          6.355896949768066,
          8.993863105773926,
          8.236090660095215,
          7.487502574920654,
          7.4912848472595215,
          9.082132339477539,
          6.64969539642334,
          7.455618381500244,
          -0.660001814365387,
          7.620062828063965,
          -1.9331492185592651,
          -5.988933086395264,
          -7.226292610168457,
          -3.2470407485961914,
          -2.3251640796661377,
          -2.320164680480957,
          -0.6202337741851807,
          -1.3655858039855957,
          -1.5605071783065796,
          3.8301093578338623,
          3.6134250164031982,
          8.84714126586914,
          7.007661819458008,
          7.193688869476318,
          3.815026044845581,
          8.924560546875,
          5.523144721984863,
          6.169025421142578,
          0.35772907733917236,
          0.6008155345916748,
          -0.43186476826667786,
          7.251510143280029,
          10.272862434387207,
          -0.7232300043106079,
          -1.207448124885559,
          -3.240018129348755,
          -2.5897274017333984,
          -1.344645619392395,
          0.2209513932466507,
          1.9214190244674683,
          5.696395397186279,
          -2.7835934162139893,
          2.728935718536377,
          0.8713591694831848,
          -1.6304914951324463,
          -3.2652242183685303,
          -1.318274974822998,
          2.250580072402954,
          -8.466649055480957,
          2.87666654586792,
          -1.597131609916687,
          6.688474655151367,
          4.481436252593994,
          -5.982573509216309,
          8.149778366088867,
          4.3396501541137695,
          2.356428861618042,
          0.0657205730676651,
          5.201349258422852,
          1.1941167116165161,
          -6.133965492248535,
          3.4597890377044678,
          -6.079061031341553,
          -2.499574661254883,
          -2.138608694076538,
          1.081603765487671,
          0.07856258749961853,
          -4.481276988983154,
          5.407103061676025,
          6.201061248779297,
          0.35483038425445557,
          -3.1708548069000244,
          1.428247332572937,
          -0.9756748080253601,
          -0.6023209691047668,
          1.9366376399993896,
          -1.4624203443527222,
          0.09883170574903488,
          -1.465864896774292,
          -6.149378299713135,
          2.6232025623321533,
          -1.095496416091919,
          -1.9846488237380981,
          -4.054524898529053,
          4.726005554199219,
          1.1184327602386475,
          1.3201545476913452,
          5.250458717346191,
          0.13311320543289185,
          0.1599513590335846,
          4.72509765625,
          1.4712847471237183,
          4.957184791564941,
          5.585352420806885,
          -4.249584197998047,
          1.0388164520263672,
          0.18600831925868988,
          -4.7666449546813965,
          -2.3963656425476074,
          -7.56260347366333,
          -6.559317111968994,
          -6.606380462646484,
          -6.690966606140137,
          -7.222070217132568,
          -8.06020736694336,
          -8.237812995910645,
          -7.157842636108398,
          1.583816647529602,
          -9.00179672241211,
          0.9093713760375977,
          3.0314056873321533,
          3.7911345958709717,
          6.687754154205322,
          7.372082710266113,
          4.660282611846924,
          4.964293956756592,
          -4.977114200592041,
          -2.9303300380706787,
          -4.151276111602783,
          4.841293811798096,
          3.8289449214935303,
          7.597719192504883,
          -0.46525734663009644,
          4.481650352478027,
          -3.7224068641662598,
          3.4563636779785156,
          3.283716917037964,
          2.0188608169555664,
          2.174743413925171,
          6.4742960929870605,
          7.785319805145264,
          6.951028823852539,
          1.439254641532898,
          3.202116012573242,
          0.2055562436580658,
          5.44509744644165,
          6.132835388183594,
          4.909417152404785,
          9.27880573272705,
          2.856816053390503,
          9.570422172546387,
          -4.570359230041504,
          10.4011812210083,
          9.680500030517578,
          3.810698986053467,
          6.505060195922852,
          -2.745832681655884,
          5.097811698913574,
          5.619859218597412,
          9.866433143615723,
          -3.1068968772888184,
          3.665766954421997,
          8.618077278137207,
          -3.9780991077423096,
          3.456807851791382,
          8.403840065002441,
          -0.8493446111679077,
          9.606852531433105,
          10.721860885620117,
          3.0929811000823975
         ],
         "xaxis": "x",
         "y": [
          -84.95154571533203,
          -81.5039291381836,
          -79.90288543701172,
          -79.29292297363281,
          -77.2947006225586,
          -88.7633285522461,
          -86.17557525634766,
          -79.70526123046875,
          -81.43793487548828,
          -90.94918060302734,
          -88.52362060546875,
          -82.44151306152344,
          -81.18870544433594,
          -86.6352767944336,
          -76.20160675048828,
          -83.47327423095703,
          -77.93993377685547,
          -78.35694885253906,
          -89.6005859375,
          -79.55886840820312,
          -80.58536529541016,
          -83.97625732421875,
          -78.75862884521484,
          -82.20860290527344,
          -88.02413940429688,
          -82.73385620117188,
          -82.43814086914062,
          -86.47484588623047,
          -85.21956634521484,
          -86.34087371826172,
          -86.27498626708984,
          -88.82974243164062,
          -88.00808715820312,
          -87.00910186767578,
          -84.02206420898438,
          -81.83908081054688,
          -84.2071304321289,
          -85.74539947509766,
          -87.8697509765625,
          -88.9318618774414,
          -87.52973937988281,
          -83.75028228759766,
          -76.12922668457031,
          -88.27758026123047,
          -88.0870590209961,
          -85.12752532958984,
          -89.97118377685547,
          -77.8873291015625,
          -88.17327117919922,
          -89.16866302490234,
          -86.27085876464844,
          -86.49986267089844,
          -78.964111328125,
          -91.06764221191406,
          -78.412109375,
          -78.48208618164062,
          -91.88624572753906,
          -85.15872955322266,
          -93.03131866455078,
          -81.4653549194336,
          -82.01954650878906,
          -87.13770294189453,
          -77.81177520751953,
          -77.71255493164062,
          -79.45886993408203,
          -79.85293579101562,
          -82.77081298828125,
          -79.56087493896484,
          -83.5312271118164,
          -87.1834487915039,
          -80.432861328125,
          -84.24054718017578,
          -78.3370590209961,
          -79.87814331054688,
          -77.50106048583984,
          -84.0407485961914,
          -82.41327667236328,
          -78.95655822753906,
          -89.02642059326172,
          -93.33915710449219,
          -87.08731079101562,
          -87.51318359375,
          -86.31428527832031,
          -81.36381530761719,
          -81.47504425048828,
          -79.6501235961914,
          -79.35247039794922,
          -77.42196655273438,
          -88.88772583007812,
          -85.12448120117188,
          -83.43151092529297,
          -91.91486358642578,
          -91.34214782714844,
          -86.90262603759766,
          -90.48255157470703,
          -89.37999725341797,
          -91.1690673828125,
          -89.10479736328125,
          -91.08197021484375,
          -89.5915756225586,
          -92.40888214111328,
          -84.25603485107422,
          -87.2716293334961,
          -94.15874481201172,
          -91.07007598876953,
          -85.32500457763672,
          -95.76902770996094,
          -95.69051361083984,
          -93.85767364501953,
          -87.56611633300781,
          -94.18251037597656,
          -93.1567153930664,
          -83.38029479980469,
          -92.29959106445312,
          -86.10261535644531,
          -84.5280532836914,
          -83.94510650634766,
          -82.96775817871094,
          -80.32422637939453,
          -79.3193588256836,
          -80.12678527832031,
          -82.29376220703125,
          -83.80943298339844,
          -82.9159927368164,
          -82.70030212402344,
          -82.10591125488281,
          -83.1402359008789,
          -94.20354461669922,
          -82.8154296875,
          -84.15318298339844,
          -92.09810638427734,
          -76.9878158569336,
          -81.98320770263672,
          -81.65727233886719,
          -79.37723541259766,
          -82.526123046875,
          -84.8917007446289,
          -83.47904205322266,
          -83.11094665527344,
          -76.9353256225586,
          -90.67788696289062,
          -89.14077758789062,
          -90.39089965820312,
          -89.84807586669922,
          -88.99315643310547,
          -88.9722900390625,
          -89.23318481445312,
          -92.230224609375,
          -90.63619995117188,
          -91.77745819091797,
          -89.0101547241211,
          -90.07450866699219,
          -88.42243194580078,
          -80.71267700195312,
          -81.09695434570312,
          -78.63910675048828,
          -76.38128662109375,
          -84.27526092529297,
          -77.7090835571289,
          -82.43419647216797,
          -80.60247039794922,
          -78.2702407836914,
          -93.24591827392578,
          -78.74288940429688,
          -82.14949035644531,
          -88.74793243408203,
          -87.03002166748047,
          -87.19003295898438,
          -85.8741226196289,
          -79.13912200927734,
          -86.29759216308594,
          -86.57015991210938,
          -75.49091339111328,
          -86.47213745117188,
          -85.2681884765625,
          -87.25548553466797,
          -81.30712890625,
          -77.78897094726562
         ],
         "yaxis": "y"
        },
        {
         "hovertemplate": "color=1<br>Dimension 1=%{x}<br>Dimension 2=%{y}<extra></extra>",
         "legendgroup": "1",
         "marker": {
          "color": "#EF553B",
          "opacity": 1,
          "size": 3,
          "symbol": "circle"
         },
         "mode": "markers",
         "name": "1",
         "showlegend": true,
         "type": "scattergl",
         "x": [
          12.898351669311523,
          22.03036117553711,
          22.903032302856445,
          20.77030372619629,
          20.521347045898438,
          21.334808349609375,
          20.151382446289062,
          21.7506046295166,
          19.120058059692383,
          20.577619552612305,
          13.097906112670898,
          6.5952863693237305,
          22.679176330566406,
          26.815853118896484,
          23.573219299316406,
          24.9339542388916,
          24.69655418395996,
          25.360048294067383,
          24.1357421875,
          21.499414443969727,
          24.40738296508789,
          20.9574031829834,
          24.8154354095459,
          22.907550811767578,
          21.96807289123535,
          23.229537963867188,
          3.391939640045166,
          16.252546310424805,
          0.3735867440700531,
          4.249874591827393,
          1.6411491632461548,
          21.111303329467773,
          4.935612678527832,
          15.015865325927734,
          15.657466888427734,
          3.37668776512146,
          6.928403854370117,
          6.0097856521606445,
          4.169501304626465,
          26.893177032470703,
          22.27318000793457,
          23.321720123291016,
          23.99453353881836,
          21.837968826293945,
          -61.19520568847656,
          23.244661331176758,
          21.1701602935791,
          20.51716423034668,
          21.599416732788086,
          22.93453598022461,
          22.60006332397461,
          23.92304801940918,
          -63.36911392211914,
          -62.02055740356445,
          -63.17524719238281,
          -62.70037841796875,
          -64.6974868774414,
          -62.54220962524414,
          -64.55281066894531,
          -64.03056335449219,
          -64.2535171508789,
          -64.13105010986328,
          -63.91033172607422,
          -1.2328821420669556,
          -64.11528778076172,
          1.9323755502700806,
          3.289546251296997,
          3.7147905826568604,
          -2.269063711166382,
          -2.2368407249450684,
          3.403334379196167,
          1.6604969501495361,
          3.1842825412750244,
          2.105747699737549,
          2.9948642253875732,
          1.3607810735702515,
          1.467071771621704,
          1.523058295249939,
          6.711531639099121,
          5.897202014923096,
          4.055868148803711,
          -1.6240260601043701,
          0.7429655194282532,
          -60.56156539916992,
          -0.511271059513092,
          4.546403884887695,
          2.8774423599243164,
          4.9965715408325195,
          5.812638759613037,
          4.903379440307617,
          0.012552857398986816,
          -61.29702377319336,
          -60.70337677001953,
          -61.13895797729492,
          -63.563419342041016,
          -61.76811981201172,
          -61.591888427734375,
          -63.32026672363281,
          -62.12153244018555,
          -61.33841323852539,
          -62.37586975097656,
          -62.81074142456055,
          -62.69906997680664,
          -61.59241485595703,
          -1.9957033395767212,
          1.1412606239318848,
          6.422824382781982,
          -0.2478545606136322,
          6.330574035644531,
          2.814149856567383,
          6.900074005126953,
          5.682844161987305,
          6.186155319213867,
          -0.585082471370697,
          3.779794692993164,
          7.586726188659668,
          6.1097731590271,
          19.70236587524414,
          20.607994079589844,
          12.1474609375,
          1.687699794769287,
          14.206082344055176,
          8.70225715637207,
          5.580749988555908,
          6.27105188369751,
          13.46526050567627,
          5.4480767250061035,
          5.34930944442749,
          6.382723808288574,
          11.149551391601562,
          28.094640731811523,
          13.488922119140625,
          25.64885711669922,
          8.559623718261719,
          7.5098137855529785,
          24.789669036865234,
          5.496563911437988,
          20.37925910949707,
          6.713110446929932,
          7.229588985443115,
          7.547766208648682,
          7.488317489624023,
          8.493474960327148,
          27.324007034301758,
          27.8520450592041,
          25.5056095123291,
          27.196535110473633,
          27.90850830078125,
          28.504608154296875,
          28.55779457092285,
          29.031694412231445,
          27.803821563720703,
          25.508623123168945,
          27.874191284179688,
          28.362377166748047,
          28.69133758544922,
          9.9058837890625,
          6.766104698181152,
          6.523329257965088,
          8.331957817077637,
          8.657094955444336,
          7.29130220413208,
          7.46524715423584,
          8.593270301818848,
          9.412890434265137,
          8.800570487976074,
          7.544609069824219,
          7.763401985168457,
          8.24239730834961,
          -0.516611635684967,
          0.3236756920814514,
          3.5516107082366943,
          -0.9116958379745483,
          1.3989919424057007,
          2.9780328273773193,
          -0.25247880816459656,
          -2.1922495365142822,
          1.1042500734329224,
          -0.16455261409282684,
          2.293351173400879,
          -1.5879247188568115,
          -1.6334311962127686
         ],
         "xaxis": "x",
         "y": [
          17.804636001586914,
          20.475324630737305,
          18.597646713256836,
          19.771474838256836,
          17.875295639038086,
          18.293598175048828,
          16.56166648864746,
          17.851165771484375,
          19.06051254272461,
          19.956554412841797,
          17.721433639526367,
          15.061739921569824,
          21.831573486328125,
          20.91328239440918,
          21.787363052368164,
          22.272319793701172,
          20.095836639404297,
          21.586816787719727,
          19.04494285583496,
          21.6035099029541,
          20.454118728637695,
          22.7490234375,
          22.381336212158203,
          19.779991149902344,
          21.11183738708496,
          20.277355194091797,
          17.342330932617188,
          21.71257781982422,
          14.27335262298584,
          13.666184425354004,
          19.715087890625,
          22.418285369873047,
          16.349210739135742,
          21.70252799987793,
          21.781383514404297,
          18.891937255859375,
          18.067508697509766,
          21.269325256347656,
          11.255101203918457,
          18.1356201171875,
          15.571795463562012,
          17.19736671447754,
          18.117128372192383,
          15.538315773010254,
          42.56644821166992,
          18.164791107177734,
          15.53667163848877,
          15.08897876739502,
          19.028553009033203,
          16.391260147094727,
          15.73828411102295,
          17.47893714904785,
          41.273719787597656,
          43.02055740356445,
          43.364192962646484,
          43.79951477050781,
          43.466087341308594,
          44.232723236083984,
          42.90987014770508,
          43.91859436035156,
          42.70997619628906,
          44.44606018066406,
          41.585723876953125,
          13.1709566116333,
          40.05674362182617,
          16.222103118896484,
          13.177708625793457,
          12.637979507446289,
          17.80620765686035,
          17.652469635009766,
          21.42140007019043,
          11.879476547241211,
          21.701566696166992,
          10.244391441345215,
          10.351356506347656,
          12.683135032653809,
          11.458608627319336,
          16.755769729614258,
          20.387832641601562,
          22.577346801757812,
          20.852352142333984,
          14.507828712463379,
          15.554251670837402,
          44.384429931640625,
          19.518665313720703,
          12.752828598022461,
          17.0567626953125,
          17.19393539428711,
          16.78893280029297,
          19.302738189697266,
          19.935216903686523,
          44.19038772583008,
          43.91913986206055,
          44.892356872558594,
          39.70389938354492,
          41.24964904785156,
          42.0845832824707,
          40.303043365478516,
          41.49424743652344,
          44.0777473449707,
          41.901641845703125,
          40.480567932128906,
          40.162540435791016,
          42.66419982910156,
          16.22739601135254,
          18.63275146484375,
          18.68124008178711,
          16.665138244628906,
          16.739694595336914,
          11.254864692687988,
          19.181041717529297,
          14.233121871948242,
          19.322879791259766,
          18.13255500793457,
          18.981613159179688,
          15.169575691223145,
          15.845590591430664,
          17.10817527770996,
          17.266172409057617,
          13.431260108947754,
          18.68210792541504,
          14.444982528686523,
          19.865076065063477,
          14.757787704467773,
          19.902742385864258,
          13.879828453063965,
          15.75670337677002,
          15.411291122436523,
          11.377335548400879,
          12.170287132263184,
          16.407814025878906,
          14.24045181274414,
          22.562381744384766,
          19.13962173461914,
          20.270856857299805,
          17.372060775756836,
          20.04908561706543,
          16.91659927368164,
          22.62993621826172,
          21.15167999267578,
          18.92143440246582,
          16.714012145996094,
          16.728620529174805,
          16.939741134643555,
          18.113487243652344,
          18.289947509765625,
          20.243972778320312,
          20.302431106567383,
          18.4667911529541,
          18.54263687133789,
          19.14879608154297,
          16.88041114807129,
          18.423547744750977,
          19.299713134765625,
          20.063703536987305,
          17.819473266601562,
          18.63050079345703,
          13.335000991821289,
          12.443084716796875,
          21.11797523498535,
          17.589841842651367,
          12.909989356994629,
          17.650264739990234,
          18.271215438842773,
          20.408546447753906,
          21.020732879638672,
          19.587358474731445,
          21.278295516967773,
          21.626676559448242,
          12.202727317810059,
          14.01910400390625,
          13.565707206726074,
          12.883033752441406,
          15.525163650512695,
          14.410554885864258,
          16.428926467895508,
          14.914344787597656,
          21.838150024414062,
          18.04704475402832,
          13.777061462402344,
          15.029156684875488,
          15.542512893676758
         ],
         "yaxis": "y"
        },
        {
         "hovertemplate": "color=2<br>Dimension 1=%{x}<br>Dimension 2=%{y}<extra></extra>",
         "legendgroup": "2",
         "marker": {
          "color": "#00cc96",
          "opacity": 1,
          "size": 3,
          "symbol": "circle"
         },
         "mode": "markers",
         "name": "2",
         "showlegend": true,
         "type": "scattergl",
         "x": [
          -17.87837791442871,
          -46.697845458984375,
          -42.490394592285156,
          -19.297998428344727,
          -17.625181198120117,
          -17.4683837890625,
          -17.783334732055664,
          -16.990148544311523,
          -16.573625564575195,
          -41.597286224365234,
          -39.83015441894531,
          -18.639095306396484,
          -19.541980743408203,
          -39.19910430908203,
          -36.068443298339844,
          -36.27969741821289,
          -33.413795471191406,
          -35.7422981262207,
          -41.641021728515625,
          -44.54299545288086,
          -35.76620101928711,
          -34.49794387817383,
          -35.66301727294922,
          -41.71747589111328,
          -41.197486877441406,
          -33.081016540527344,
          -39.95085525512695,
          -40.259124755859375,
          -38.344581604003906,
          -38.354679107666016,
          -36.08373260498047,
          -39.7989387512207,
          -40.090354919433594,
          -39.046634674072266,
          -37.89344787597656,
          -36.983768463134766,
          -38.68098831176758,
          -37.711856842041016,
          -41.03281021118164,
          -45.622215270996094,
          -48.96870040893555,
          -45.873138427734375,
          -49.2621955871582,
          -46.318721771240234,
          -47.13212585449219,
          -49.171756744384766,
          -48.71808624267578,
          -44.21973419189453,
          -46.12485122680664,
          -43.82333755493164,
          -46.061676025390625,
          -19.076221466064453,
          -48.159122467041016,
          -43.224910736083984,
          -43.68085479736328,
          -43.357574462890625,
          -42.87089920043945,
          -44.66263961791992,
          -42.87672424316406,
          -44.998600006103516,
          -40.870853424072266,
          -42.42258834838867,
          -43.00722122192383,
          -40.3956298828125,
          -42.738311767578125,
          -33.287803649902344,
          -32.71284484863281,
          -35.065040588378906,
          -34.32599639892578,
          -33.57094192504883,
          -33.61698532104492,
          -33.84351348876953,
          -34.02261734008789,
          -32.57562255859375,
          -37.07396697998047,
          -33.64898681640625,
          -33.41300582885742,
          -34.042701721191406,
          -39.358795166015625,
          -41.034358978271484,
          -37.92239761352539,
          -35.11533737182617,
          -40.63880920410156,
          -37.270668029785156,
          -45.63887023925781,
          -38.39616775512695,
          -40.30687713623047,
          -36.8635139465332,
          -39.13588333129883,
          -35.93075180053711,
          -34.885868072509766,
          -41.45191192626953,
          -43.992347717285156,
          -43.029258728027344,
          -44.31252670288086,
          -47.7503547668457,
          -45.49661636352539,
          -47.10997009277344,
          -47.14078140258789,
          -44.1434211730957,
          -44.92388916015625,
          -48.19266128540039,
          -46.93757629394531,
          -41.963768005371094,
          -40.87472915649414,
          -46.624000549316406,
          -46.54405975341797,
          -46.47472381591797,
          -48.96015548706055,
          -47.78671646118164,
          -45.24433517456055,
          -46.489715576171875,
          -41.02495574951172,
          -48.129432678222656,
          -40.21490478515625,
          -41.75554275512695,
          -35.456947326660156,
          -37.98698425292969,
          -34.60039520263672,
          -38.16000747680664,
          -39.00288772583008,
          -38.242332458496094,
          -37.16794204711914,
          -37.3415412902832,
          -37.29325866699219,
          -37.92204284667969,
          -37.74653625488281,
          -46.36682891845703,
          -49.568904876708984,
          -47.352596282958984,
          -47.99420928955078,
          -49.016815185546875,
          -50.43629455566406,
          -48.38964080810547,
          -47.52766418457031,
          -50.52376174926758,
          -46.00203323364258,
          -48.56201171875,
          -47.456398010253906,
          -47.03746795654297,
          -45.228797912597656,
          -46.168426513671875,
          -45.47952651977539,
          -48.345340728759766,
          -46.06776809692383,
          -47.60438537597656,
          -47.79705810546875,
          -46.43942642211914,
          -47.44176483154297,
          -42.76723861694336,
          -47.272491455078125,
          -38.559181213378906,
          -47.83543014526367,
          -42.37278366088867,
          -51.29549026489258,
          -49.86592102050781,
          -50.89564895629883,
          -43.7702522277832,
          -51.027103424072266,
          -33.900325775146484,
          -51.2034912109375,
          -40.11223220825195,
          -44.800846099853516,
          -47.00837707519531,
          -44.869930267333984,
          -32.46223068237305,
          -35.9362678527832,
          -43.06113815307617,
          -45.006717681884766,
          -42.814414978027344,
          -46.91101837158203,
          -49.913787841796875,
          -34.984527587890625,
          -35.909446716308594,
          -48.46597671508789,
          -46.42569351196289,
          -47.513668060302734
         ],
         "xaxis": "x",
         "y": [
          23.826417922973633,
          37.347835540771484,
          38.26759338378906,
          24.8551025390625,
          24.944047927856445,
          25.207292556762695,
          24.007892608642578,
          24.93056297302246,
          25.31586456298828,
          46.304229736328125,
          37.52143096923828,
          24.954713821411133,
          24.980459213256836,
          46.53371047973633,
          44.66926574707031,
          35.01887130737305,
          43.84804153442383,
          44.15928268432617,
          48.798580169677734,
          46.65725326538086,
          35.02804183959961,
          43.873844146728516,
          45.309444427490234,
          49.433162689208984,
          49.6356315612793,
          44.14876174926758,
          41.904029846191406,
          42.209964752197266,
          42.88114929199219,
          46.14898681640625,
          43.066734313964844,
          41.17832565307617,
          43.460018157958984,
          41.24342727661133,
          44.71992874145508,
          42.879093170166016,
          42.078468322753906,
          44.81977844238281,
          43.95001220703125,
          38.00968933105469,
          37.466854095458984,
          42.60169219970703,
          38.04322814941406,
          39.89459991455078,
          39.13407897949219,
          36.87799072265625,
          39.42927932739258,
          42.97227096557617,
          45.82262420654297,
          43.67947006225586,
          43.28742218017578,
          23.85456657409668,
          32.45228958129883,
          32.52759552001953,
          32.530609130859375,
          34.897216796875,
          34.509334564208984,
          35.384944915771484,
          34.56273651123047,
          33.181549072265625,
          41.9099235534668,
          46.488372802734375,
          33.68238830566406,
          40.109806060791016,
          34.72815704345703,
          41.26547622680664,
          41.98153305053711,
          40.01877975463867,
          35.53153610229492,
          38.13325881958008,
          34.873844146728516,
          34.83157730102539,
          36.5499382019043,
          42.88164520263672,
          47.330406188964844,
          40.16292953491211,
          39.76601791381836,
          40.86585998535156,
          45.540245056152344,
          44.65726089477539,
          47.239070892333984,
          43.837711334228516,
          49.53169631958008,
          46.61394500732422,
          45.834529876708984,
          48.25419616699219,
          48.845184326171875,
          33.490352630615234,
          48.624053955078125,
          30.689128875732422,
          41.231571197509766,
          40.86290740966797,
          48.725372314453125,
          40.24435043334961,
          40.16817092895508,
          34.9234504699707,
          37.1305046081543,
          34.416709899902344,
          35.23534393310547,
          42.067447662353516,
          36.698143005371094,
          34.382389068603516,
          42.78942108154297,
          44.90335464477539,
          37.08238983154297,
          33.86259460449219,
          31.872928619384766,
          34.222564697265625,
          36.99632263183594,
          30.060914993286133,
          38.97289276123047,
          42.268497467041016,
          37.02030944824219,
          32.893150329589844,
          45.52693557739258,
          39.772953033447266,
          39.39883041381836,
          35.8030891418457,
          40.403987884521484,
          45.31904220581055,
          40.49663162231445,
          39.96180725097656,
          33.78419876098633,
          41.41609573364258,
          47.565521240234375,
          43.96780014038086,
          40.098392486572266,
          30.91404914855957,
          33.01567459106445,
          31.103240966796875,
          29.739179611206055,
          29.64111328125,
          30.27874755859375,
          30.29438591003418,
          38.22101974487305,
          29.44685173034668,
          34.95836639404297,
          31.19270896911621,
          33.97834014892578,
          32.70849609375,
          45.30949783325195,
          46.971553802490234,
          44.45989227294922,
          42.28369140625,
          44.69523239135742,
          44.10724639892578,
          44.86041259765625,
          44.37101745605469,
          43.957359313964844,
          49.38141632080078,
          41.98516845703125,
          35.35269546508789,
          44.784671783447266,
          37.9172477722168,
          30.980079650878906,
          36.42293167114258,
          29.020097732543945,
          40.02479934692383,
          29.66933250427246,
          41.71511459350586,
          30.773277282714844,
          46.11735534667969,
          47.07575607299805,
          30.068721771240234,
          41.44487380981445,
          40.75542449951172,
          37.39779281616211,
          49.145164489746094,
          44.83451461791992,
          48.75520706176758,
          47.24268341064453,
          42.76490783691406,
          38.94643783569336,
          37.48640441894531,
          42.57757568359375,
          43.45155334472656,
          46.12615203857422
         ],
         "yaxis": "y"
        },
        {
         "hovertemplate": "color=3<br>Dimension 1=%{x}<br>Dimension 2=%{y}<extra></extra>",
         "legendgroup": "3",
         "marker": {
          "color": "#ab63fa",
          "opacity": 1,
          "size": 3,
          "symbol": "circle"
         },
         "mode": "markers",
         "name": "3",
         "showlegend": true,
         "type": "scattergl",
         "x": [
          -45.60150909423828,
          -49.90252685546875,
          -49.566471099853516,
          -52.682804107666016,
          -47.96500015258789,
          -52.232791900634766,
          -52.40120315551758,
          -49.74773025512695,
          -51.393211364746094,
          -52.24204635620117,
          -49.07664489746094,
          -50.20033264160156,
          -38.938865661621094,
          -50.47285461425781,
          -52.99480438232422,
          -50.175540924072266,
          -48.25472640991211,
          -53.465328216552734,
          -52.60052490234375,
          -51.129600524902344,
          -51.317726135253906,
          -51.460975646972656,
          -52.01886749267578,
          -50.91029357910156,
          -51.125240325927734,
          -49.407188415527344,
          -45.00117874145508,
          -50.03102111816406,
          -51.181419372558594,
          -50.902549743652344,
          -44.484458923339844,
          -51.85600662231445,
          -49.47869873046875,
          -49.008644104003906,
          -50.311439514160156,
          -50.01123046875,
          -44.3717155456543,
          -43.76502990722656,
          -51.24913787841797,
          -46.89669418334961,
          -51.394935607910156,
          -43.920833587646484,
          -49.38900375366211,
          -44.7089958190918,
          -44.76686096191406,
          -43.12435531616211,
          -44.47655487060547,
          -42.7961311340332,
          -43.503448486328125,
          -43.07219696044922,
          -42.5209846496582,
          -43.463134765625,
          -41.97875213623047,
          -33.18195724487305,
          -34.11545944213867,
          -33.33057403564453,
          -34.207115173339844,
          -33.851585388183594,
          -38.10928726196289,
          -32.09220504760742,
          -33.5728645324707,
          -33.89438247680664,
          -32.862884521484375,
          -33.24312973022461,
          -34.52676773071289,
          -34.32524490356445,
          -51.83163833618164,
          -53.312744140625,
          -49.663570404052734,
          -56.32081604003906,
          -54.055763244628906,
          -52.238037109375,
          -54.775081634521484,
          -50.187992095947266,
          -53.03586959838867,
          -55.3111686706543,
          -42.51202392578125,
          -42.551517486572266,
          -49.008575439453125,
          -42.42121124267578,
          -45.79497146606445,
          -46.842918395996094,
          -45.75428771972656,
          -44.89699172973633,
          -44.840641021728516,
          -52.23155975341797,
          -51.410255432128906,
          -48.23198699951172,
          -44.93943786621094,
          -47.18641662597656,
          -46.023990631103516,
          -48.29936981201172,
          -50.425453186035156,
          -47.519474029541016,
          -45.75522232055664,
          -46.28591537475586,
          -47.65387725830078,
          -48.021888732910156,
          -50.72855758666992,
          -48.017791748046875,
          -50.95138931274414,
          -50.65046310424805,
          -49.7574577331543,
          -47.64098358154297,
          -48.06127166748047,
          -52.05373001098633,
          -52.52972412109375,
          -53.73453903198242,
          -55.121585845947266,
          -54.86134338378906,
          -54.22762680053711,
          -54.01604080200195,
          -54.75572967529297,
          -52.89036560058594,
          -52.962646484375,
          21.58788299560547,
          -53.74600601196289,
          -55.7261962890625,
          -53.19841003417969,
          -53.21697235107422,
          -55.38909149169922,
          -40.537254333496094,
          -55.747276306152344,
          -46.77696990966797,
          -48.49181365966797,
          -54.241729736328125,
          -48.01724624633789,
          -49.608421325683594,
          -52.461116790771484,
          -48.119991302490234,
          -48.009925842285156,
          -51.485504150390625,
          -54.341426849365234,
          -46.93644714355469,
          -51.4969482421875,
          -48.662315368652344,
          -53.920066833496094,
          -55.24623489379883,
          -54.38044357299805,
          -50.984588623046875,
          -46.62934112548828,
          -48.95570755004883,
          -53.865352630615234,
          -52.47662353515625,
          -44.28823471069336,
          -45.115901947021484,
          -44.45525360107422,
          -46.51682662963867,
          -44.695289611816406,
          -48.597007751464844,
          -45.75114059448242,
          -50.12498092651367,
          -46.85468673706055,
          -48.635719299316406,
          -46.47036361694336,
          -49.51089859008789,
          -46.45661544799805,
          -49.374629974365234,
          -55.0430793762207,
          -46.917789459228516,
          -39.542137145996094,
          -39.681636810302734,
          -39.034156799316406,
          3.0656144618988037,
          -40.001461029052734,
          -47.092315673828125,
          -50.171268463134766,
          -44.790374755859375,
          -48.957279205322266,
          -50.204734802246094,
          -41.421531677246094,
          -41.9308967590332,
          -11.855628967285156,
          -40.890132904052734,
          -42.77271270751953,
          -42.796478271484375,
          -40.60651779174805,
          -42.04890441894531,
          -43.302066802978516,
          -47.41224670410156,
          -48.32810974121094,
          -11.833390235900879,
          -46.45064163208008
         ],
         "xaxis": "x",
         "y": [
          -8.920373916625977,
          0.8850066661834717,
          8.233719825744629,
          2.478945016860962,
          3.3836703300476074,
          2.8858754634857178,
          3.7688724994659424,
          4.771105766296387,
          6.158313274383545,
          4.455133438110352,
          5.625342845916748,
          5.561699867248535,
          9.21595573425293,
          6.774322032928467,
          4.093342304229736,
          7.464254856109619,
          4.340415000915527,
          4.146913051605225,
          5.512824535369873,
          8.567143440246582,
          4.302820205688477,
          6.106379985809326,
          6.324985980987549,
          4.846701622009277,
          7.910872936248779,
          8.799030303955078,
          -9.05533504486084,
          -3.752415418624878,
          -9.084942817687988,
          -3.340296745300293,
          -5.698361396789551,
          -1.9543817043304443,
          -5.464550971984863,
          -4.8562846183776855,
          -3.655369758605957,
          -0.8668457865715027,
          -6.0546650886535645,
          -5.671100616455078,
          -9.61185359954834,
          1.3848636150360107,
          -0.9504460692405701,
          -11.836960792541504,
          -15.048467636108398,
          -12.79049301147461,
          -13.638947486877441,
          -12.383553504943848,
          -13.23188591003418,
          -11.576541900634766,
          -11.805145263671875,
          -11.035323143005371,
          -9.643065452575684,
          -9.828747749328613,
          -12.122969627380371,
          -5.966371059417725,
          -4.345345973968506,
          -3.320918321609497,
          -5.715847492218018,
          -6.784064769744873,
          -2.512211799621582,
          -4.96051549911499,
          -5.4750213623046875,
          -6.746765613555908,
          -4.466395854949951,
          -4.064352512359619,
          -5.201617240905762,
          -4.954181671142578,
          -3.297553777694702,
          -3.874802827835083,
          -2.9902231693267822,
          -0.7996751666069031,
          -3.0304365158081055,
          -2.980574607849121,
          -3.6178548336029053,
          -2.1655781269073486,
          -3.0237882137298584,
          -3.576080799102783,
          -7.025976657867432,
          -7.041904449462891,
          -3.0004842281341553,
          -5.802642345428467,
          -5.593151092529297,
          -5.336198806762695,
          -3.208883762359619,
          -2.7882630825042725,
          -2.434699058532715,
          0.49880072474479675,
          0.8572473526000977,
          -0.9971939325332642,
          -6.981145858764648,
          -6.534822940826416,
          -7.407271862030029,
          1.153367280960083,
          -12.471306800842285,
          -10.3035306930542,
          -10.731074333190918,
          -10.569263458251953,
          -8.684041976928711,
          -10.325460433959961,
          -13.820625305175781,
          -14.009459495544434,
          -14.48514461517334,
          -12.076058387756348,
          -14.790276527404785,
          -7.683289051055908,
          -13.850261688232422,
          -9.907788276672363,
          -10.43361759185791,
          -8.250365257263184,
          -1.4575556516647339,
          -7.06336784362793,
          -1.00899076461792,
          -5.8100433349609375,
          -6.986830234527588,
          -9.280940055847168,
          -9.415635108947754,
          56.001861572265625,
          -9.670276641845703,
          -7.506785869598389,
          -6.496750354766846,
          -0.5792147517204285,
          -9.798974990844727,
          9.57336139678955,
          -9.74448013305664,
          2.036686420440674,
          7.504214286804199,
          0.17392632365226746,
          5.659708023071289,
          3.6230461597442627,
          -7.183595657348633,
          -1.1414750814437866,
          5.901296615600586,
          -5.61324405670166,
          -0.6913859248161316,
          -11.924797058105469,
          -7.006362438201904,
          1.6674673557281494,
          -2.569293260574341,
          -5.196937561035156,
          -5.503445625305176,
          -6.879794597625732,
          3.345309257507324,
          -7.109866142272949,
          -4.029360294342041,
          -6.956196308135986,
          -9.131951332092285,
          -11.49542236328125,
          -7.825777530670166,
          -4.042195796966553,
          -10.768087387084961,
          -8.821922302246094,
          -11.379016876220703,
          -7.664919376373291,
          -8.557246208190918,
          -4.868215560913086,
          -3.8646597862243652,
          -8.880866050720215,
          -7.400671482086182,
          2.644549608230591,
          1.867530345916748,
          3.4672794342041016,
          8.303321838378906,
          8.080751419067383,
          9.089235305786133,
          50.92645263671875,
          7.391014575958252,
          4.421209335327148,
          3.0307114124298096,
          3.6145713329315186,
          2.2647314071655273,
          2.4875855445861816,
          -5.722549915313721,
          7.5904035568237305,
          -16.048795700073242,
          9.56857967376709,
          7.996551036834717,
          8.68451976776123,
          -5.708292007446289,
          8.398180961608887,
          7.177189826965332,
          2.511812686920166,
          -3.7614247798919678,
          -16.079769134521484,
          -0.6100087761878967
         ],
         "yaxis": "y"
        },
        {
         "hovertemplate": "color=4<br>Dimension 1=%{x}<br>Dimension 2=%{y}<extra></extra>",
         "legendgroup": "4",
         "marker": {
          "color": "#FFA15A",
          "opacity": 1,
          "size": 3,
          "symbol": "circle"
         },
         "mode": "markers",
         "name": "4",
         "showlegend": true,
         "type": "scattergl",
         "x": [
          53.647701263427734,
          55.965084075927734,
          51.92768859863281,
          57.131587982177734,
          56.56011199951172,
          57.75199890136719,
          55.31340789794922,
          52.87089920043945,
          52.995262145996094,
          59.444305419921875,
          58.31026077270508,
          55.46291732788086,
          57.7198600769043,
          43.11274719238281,
          43.756935119628906,
          45.93268585205078,
          44.6397819519043,
          47.337406158447266,
          45.66328048706055,
          44.5167121887207,
          44.86912155151367,
          45.796077728271484,
          45.19557189941406,
          45.18502426147461,
          43.9478759765625,
          58.37611389160156,
          58.84248733520508,
          61.3006591796875,
          60.12177658081055,
          60.429847717285156,
          62.20897674560547,
          59.197479248046875,
          61.10132598876953,
          57.13001251220703,
          61.789180755615234,
          59.167423248291016,
          61.3424186706543,
          57.44639587402344,
          47.23728561401367,
          67.7891845703125,
          47.62351989746094,
          48.12471008300781,
          48.887020111083984,
          48.06946563720703,
          51.09162139892578,
          49.04524612426758,
          47.83190155029297,
          50.09423065185547,
          49.01665115356445,
          50.78264236450195,
          46.91036605834961,
          66.16963958740234,
          64.8705062866211,
          67.2256851196289,
          65.49578857421875,
          63.69224166870117,
          65.20087432861328,
          66.93760681152344,
          66.27680969238281,
          66.93225860595703,
          68.84424591064453,
          63.18281936645508,
          66.87678527832031,
          66.6915054321289,
          46.4890022277832,
          46.23973083496094,
          49.768272399902344,
          47.199466705322266,
          47.35955810546875,
          47.02317428588867,
          47.11194610595703,
          67.06563568115234,
          60.54400634765625,
          68.99119567871094,
          60.01649856567383,
          68.505615234375,
          60.25429916381836,
          65.9149169921875,
          63.7157096862793,
          66.42953491210938,
          59.78271484375,
          63.71477127075195,
          65.46795654296875,
          57.81874465942383,
          66.51206970214844,
          62.1674919128418,
          66.00833892822266,
          58.4284782409668,
          65.82032012939453,
          61.20938491821289,
          55.81892013549805,
          55.688011169433594,
          52.671897888183594,
          54.64327621459961,
          52.33661651611328,
          52.67955017089844,
          60.502052307128906,
          52.277225494384766,
          54.260345458984375,
          55.25362014770508,
          53.673404693603516,
          53.12429428100586,
          56.048187255859375,
          54.02741622924805,
          53.45286178588867,
          54.741573333740234,
          52.896278381347656,
          55.589393615722656,
          57.905696868896484,
          54.83668899536133,
          56.06752014160156,
          57.37482833862305,
          56.88961410522461,
          54.934364318847656,
          57.391639709472656,
          56.055179595947266,
          58.31269073486328,
          56.88594436645508,
          64.63032531738281,
          55.99007034301758,
          60.62826919555664,
          57.30605697631836,
          57.54055404663086,
          58.164241790771484,
          61.110145568847656,
          60.19217300415039,
          59.000282287597656,
          57.30855941772461,
          59.98802947998047,
          60.865562438964844,
          60.907264709472656,
          61.11245346069336,
          60.49415969848633,
          60.009620666503906,
          61.39527893066406,
          61.80083465576172,
          60.02685546875,
          58.19745635986328,
          57.675697326660156,
          57.64455032348633,
          57.4136848449707,
          61.47262954711914,
          65.85176086425781,
          66.15154266357422,
          65.53914642333984,
          62.386077880859375,
          66.5306625366211,
          64.47342681884766,
          64.94634246826172,
          65.74954223632812,
          65.17267608642578,
          65.0377197265625,
          64.34605407714844,
          65.85875701904297,
          63.50747299194336,
          58.84151840209961,
          59.13523483276367,
          62.031253814697266,
          61.36905288696289,
          61.932987213134766,
          3.6196184158325195,
          3.7135026454925537,
          61.613399505615234,
          59.223819732666016,
          59.33462905883789,
          63.22351837158203,
          3.3804268836975098,
          60.65945816040039,
          53.50439453125,
          60.424617767333984,
          59.31611251831055,
          60.45417022705078,
          55.68739700317383,
          54.50318908691406,
          55.43863296508789,
          59.9175910949707,
          53.54914855957031,
          53.68868637084961,
          58.300357818603516,
          57.340003967285156,
          58.606895446777344
         ],
         "xaxis": "x",
         "y": [
          13.810975074768066,
          19.871246337890625,
          15.422659873962402,
          20.45556640625,
          16.466516494750977,
          25.574508666992188,
          28.92041778564453,
          15.73573112487793,
          15.292192459106445,
          26.171606063842773,
          25.112361907958984,
          28.70334815979004,
          20.624048233032227,
          14.304096221923828,
          13.285297393798828,
          14.0607328414917,
          11.882078170776367,
          12.105633735656738,
          10.570408821105957,
          12.72635269165039,
          13.168399810791016,
          10.636674880981445,
          14.000161170959473,
          14.997429847717285,
          13.355610847473145,
          24.751575469970703,
          22.6335506439209,
          24.543384552001953,
          18.132043838500977,
          22.421955108642578,
          23.707246780395508,
          22.427227020263672,
          16.190040588378906,
          26.883934020996094,
          12.853697776794434,
          20.66187858581543,
          22.913597106933594,
          20.37129020690918,
          10.97472858428955,
          21.372772216796875,
          13.029594421386719,
          15.471360206604004,
          12.317411422729492,
          13.074790954589844,
          15.529293060302734,
          11.863249778747559,
          13.904191970825195,
          15.403496742248535,
          13.845346450805664,
          15.312556266784668,
          10.812520980834961,
          24.743263244628906,
          26.63615608215332,
          19.820659637451172,
          23.163936614990234,
          22.274375915527344,
          26.04709815979004,
          25.11766815185547,
          22.9835205078125,
          23.490604400634766,
          19.60530662536621,
          22.022214889526367,
          25.601959228515625,
          24.5338191986084,
          14.42727279663086,
          13.554553985595703,
          16.35406494140625,
          16.23743438720703,
          17.086498260498047,
          13.622086524963379,
          14.141928672790527,
          24.06072425842285,
          31.353620529174805,
          19.579389572143555,
          30.662065505981445,
          18.425188064575195,
          30.91956329345703,
          16.18172836303711,
          17.817981719970703,
          18.755956649780273,
          15.940191268920898,
          19.55677032470703,
          18.184986114501953,
          12.964288711547852,
          17.049436569213867,
          11.435081481933594,
          18.45485496520996,
          16.049654006958008,
          16.302820205688477,
          12.1171293258667,
          14.735514640808105,
          14.171367645263672,
          19.273714065551758,
          22.69748878479004,
          20.331247329711914,
          19.148515701293945,
          9.341976165771484,
          20.42214584350586,
          12.726445198059082,
          15.296801567077637,
          23.113386154174805,
          24.92107391357422,
          25.146121978759766,
          24.70570182800293,
          24.32451820373535,
          23.7388858795166,
          23.310239791870117,
          25.161558151245117,
          28.406322479248047,
          24.677900314331055,
          26.34175682067871,
          23.65066909790039,
          18.31522560119629,
          24.61443519592285,
          22.165809631347656,
          26.688840866088867,
          21.287397384643555,
          13.287687301635742,
          22.651081085205078,
          13.891338348388672,
          12.487350463867188,
          19.406635284423828,
          17.263565063476562,
          18.086240768432617,
          15.937714576721191,
          14.437322616577148,
          19.449443817138672,
          16.2423038482666,
          26.187742233276367,
          10.718937873840332,
          10.141474723815918,
          10.009346961975098,
          11.258101463317871,
          10.844882011413574,
          14.26899528503418,
          14.523652076721191,
          10.538802146911621,
          19.04034996032715,
          14.432791709899902,
          14.772454261779785,
          15.275733947753906,
          14.314781188964844,
          25.190332412719727,
          19.945472717285156,
          21.844133377075195,
          19.152172088623047,
          20.547374725341797,
          20.694854736328125,
          19.53042221069336,
          22.158300399780273,
          21.6245059967041,
          20.123558044433594,
          26.010955810546875,
          20.55951499938965,
          19.03550910949707,
          23.64742660522461,
          24.496095657348633,
          25.911130905151367,
          22.56267738342285,
          26.54311180114746,
          41.83568572998047,
          41.873104095458984,
          21.88444709777832,
          23.1334171295166,
          23.81891441345215,
          26.61859893798828,
          41.77701187133789,
          23.363916397094727,
          11.816244125366211,
          17.751245498657227,
          17.55084991455078,
          19.096012115478516,
          18.136295318603516,
          12.563089370727539,
          12.593098640441895,
          13.405440330505371,
          16.45595932006836,
          13.839383125305176,
          11.908717155456543,
          13.11236572265625,
          16.453105926513672
         ],
         "yaxis": "y"
        },
        {
         "hovertemplate": "color=5<br>Dimension 1=%{x}<br>Dimension 2=%{y}<extra></extra>",
         "legendgroup": "5",
         "marker": {
          "color": "#19d3f3",
          "opacity": 1,
          "size": 3,
          "symbol": "circle"
         },
         "mode": "markers",
         "name": "5",
         "showlegend": true,
         "type": "scattergl",
         "x": [
          -36.11165237426758,
          4.982514381408691,
          9.310347557067871,
          -2.2848739624023438,
          -0.16731953620910645,
          -0.27078983187675476,
          0.508338987827301,
          -3.020590305328369,
          2.190068006515503,
          2.784101963043213,
          7.706642150878906,
          6.662959575653076,
          -1.0339223146438599,
          8.461750984191895,
          3.887000799179077,
          13.443748474121094,
          6.518850803375244,
          12.067679405212402,
          9.947324752807617,
          7.198673248291016,
          8.05505657196045,
          13.099320411682129,
          9.068951606750488,
          9.068921089172363,
          9.715088844299316,
          8.064547538757324,
          -10.47091007232666,
          4.853967189788818,
          -4.63043212890625,
          -5.447061538696289,
          -9.450462341308594,
          -12.321396827697754,
          -5.767546653747559,
          5.768980979919434,
          -5.568546295166016,
          -6.807766914367676,
          -1.045012354850769,
          -9.826583862304688,
          10.144545555114746,
          -4.7191548347473145,
          -1.0739214420318604,
          -1.3852277994155884,
          -5.355442523956299,
          -1.0986684560775757,
          -6.893284320831299,
          -2.441864013671875,
          -7.2800445556640625,
          -1.0419327020645142,
          -3.0334699153900146,
          -0.640143632888794,
          7.72533655166626,
          -2.201394557952881,
          -8.114202499389648,
          -8.44798755645752,
          -8.327959060668945,
          -4.7332587242126465,
          -9.1751708984375,
          -8.772115707397461,
          -7.867812633514404,
          -6.868064880371094,
          -7.997025489807129,
          -9.82753849029541,
          -6.304699420928955,
          -8.36991024017334,
          -8.153791427612305,
          -2.3561248779296875,
          9.692278861999512,
          9.852574348449707,
          3.420941114425659,
          9.59728717803955,
          10.710558891296387,
          8.439623832702637,
          2.45790958404541,
          2.7294349670410156,
          -0.5654209852218628,
          8.481586456298828,
          10.818807601928711,
          13.999720573425293,
          4.722314357757568,
          10.979689598083496,
          10.923866271972656,
          3.2291269302368164,
          10.382590293884277,
          4.8080830574035645,
          5.751025676727295,
          3.558241844177246,
          4.733880043029785,
          3.2183220386505127,
          10.067781448364258,
          2.1277260780334473,
          10.527399063110352,
          -5.9373908042907715,
          -11.988741874694824,
          -14.318885803222656,
          -12.807111740112305,
          -10.236560821533203,
          -13.821305274963379,
          -14.836328506469727,
          -10.829111099243164,
          -11.911629676818848,
          -4.859082221984863,
          -13.309049606323242,
          -13.545230865478516,
          -10.096403121948242,
          4.156453609466553,
          -0.11178386956453323,
          -6.456303119659424,
          3.195782423019409,
          4.927539825439453,
          3.256502628326416,
          -1.5723636150360107,
          -1.4422872066497803,
          9.330290794372559,
          3.3808176517486572,
          -0.682995080947876,
          4.634905815124512,
          2.485445022583008,
          0.18109002709388733,
          -0.8015581965446472,
          11.25816822052002,
          -1.4898139238357544,
          1.8690539598464966,
          4.791187286376953,
          1.9658799171447754,
          10.37906265258789,
          0.8209724426269531,
          10.804179191589355,
          9.310348510742188,
          14.24478816986084,
          8.035368919372559,
          -8.130162239074707,
          -4.313137531280518,
          1.6950788497924805,
          0.7315458655357361,
          1.7689870595932007,
          -2.5005364418029785,
          0.6526161432266235,
          0.6968026161193848,
          49.48200607299805,
          4.424339771270752,
          1.7521188259124756,
          0.8145248889923096,
          -3.4433674812316895,
          -6.49547004699707,
          -8.661803245544434,
          -12.356588363647461,
          -8.825722694396973,
          -8.989029884338379,
          -8.027782440185547,
          -10.689826011657715,
          -8.244728088378906,
          0.0874764621257782,
          -10.703232765197754,
          -13.500886917114258,
          -6.699340343475342,
          -4.709028720855713,
          11.02197551727295,
          11.562870979309082,
          4.870917797088623,
          5.053958892822266,
          12.105347633361816,
          11.542259216308594,
          13.111318588256836,
          10.747248649597168,
          2.4114136695861816,
          5.971768379211426,
          6.000871658325195,
          11.60777759552002,
          5.909389019012451,
          -4.461289405822754,
          -3.121588945388794,
          -3.542100429534912,
          -2.194021224975586,
          -2.8704519271850586,
          -3.114961862564087,
          -3.4652810096740723,
          -7.676338195800781,
          -3.8501992225646973,
          -6.146510601043701,
          -2.042116403579712,
          -3.200174570083618,
          -5.9492597579956055
         ],
         "xaxis": "x",
         "y": [
          -20.617507934570312,
          -25.227109909057617,
          -26.80829620361328,
          -28.606037139892578,
          -22.014198303222656,
          -21.924575805664062,
          -20.863536834716797,
          -28.92748260498047,
          -32.052696228027344,
          -30.92161750793457,
          -26.44712257385254,
          -22.342693328857422,
          -21.580764770507812,
          -22.398550033569336,
          -23.0347900390625,
          -21.7380313873291,
          -23.174121856689453,
          -21.69135093688965,
          -21.420812606811523,
          -23.745662689208984,
          -23.338542938232422,
          -21.22733497619629,
          -20.85076141357422,
          -21.800588607788086,
          -21.20990562438965,
          -21.45388412475586,
          -31.43372917175293,
          -21.857053756713867,
          -31.131031036376953,
          -29.808847427368164,
          -38.384159088134766,
          -38.34064865112305,
          -29.05666732788086,
          -28.53648567199707,
          -29.861173629760742,
          -34.32585144042969,
          -29.628557205200195,
          -37.316871643066406,
          -19.62119483947754,
          -25.482290267944336,
          -24.297199249267578,
          -24.54227638244629,
          -25.323135375976562,
          -25.57821273803711,
          -24.74441909790039,
          -24.249195098876953,
          -28.023845672607422,
          -25.59925651550293,
          -26.84799575805664,
          -25.17698097229004,
          -25.190710067749023,
          -24.93797492980957,
          -30.078264236450195,
          -34.195899963378906,
          -31.96896743774414,
          -28.025711059570312,
          -33.493099212646484,
          -32.70733642578125,
          -32.39612579345703,
          -31.707515716552734,
          -34.11198425292969,
          -33.80488204956055,
          -32.27455139160156,
          -29.50053596496582,
          -33.77873611450195,
          -34.77323532104492,
          -27.278383255004883,
          -26.775362014770508,
          -37.116817474365234,
          -24.39394760131836,
          -26.826425552368164,
          -25.574390411376953,
          -35.95549011230469,
          -36.22792053222656,
          -36.78033447265625,
          -25.073909759521484,
          -25.120372772216797,
          -22.29056167602539,
          -23.354848861694336,
          -19.891437530517578,
          -21.119932174682617,
          -20.96323013305664,
          -23.708660125732422,
          -22.789857864379883,
          -22.613460540771484,
          -20.817079544067383,
          -20.775976181030273,
          -22.416135787963867,
          -22.23722267150879,
          -23.71612548828125,
          -20.572622299194336,
          -31.740869522094727,
          -33.738162994384766,
          -35.28570556640625,
          -34.98343276977539,
          -32.60983657836914,
          -34.96127700805664,
          -33.752891540527344,
          -32.549713134765625,
          -34.41442108154297,
          -30.713651657104492,
          -34.089454650878906,
          -34.41326904296875,
          -35.9455451965332,
          -26.491872787475586,
          -27.70588493347168,
          -29.81008529663086,
          -27.58558464050293,
          -27.797626495361328,
          -27.38335418701172,
          -29.54593276977539,
          -31.933198928833008,
          -24.26342010498047,
          -30.87799644470215,
          -34.914268493652344,
          -26.266738891601562,
          -34.16031265258789,
          -35.6044807434082,
          -36.85653305053711,
          -20.712413787841797,
          -30.937164306640625,
          -23.844635009765625,
          -23.706361770629883,
          -36.145450592041016,
          -26.107807159423828,
          -34.615882873535156,
          -19.26500701904297,
          -20.495180130004883,
          -22.560546875,
          -23.78174591064453,
          -36.00917053222656,
          -32.794700622558594,
          -34.49899673461914,
          -32.849456787109375,
          -32.75639724731445,
          -28.00492286682129,
          -33.12667465209961,
          -35.78124237060547,
          -41.58242416381836,
          -31.326065063476562,
          -28.187429428100586,
          -36.947330474853516,
          -28.332565307617188,
          -33.02153778076172,
          -36.605224609375,
          -38.34503936767578,
          -36.25800323486328,
          -36.364871978759766,
          -36.769195556640625,
          -33.47343826293945,
          -37.6963005065918,
          -33.87063980102539,
          -33.40452575683594,
          -35.61900329589844,
          -36.69972610473633,
          -32.14082717895508,
          -23.00749969482422,
          -24.219369888305664,
          -26.151243209838867,
          -18.39360237121582,
          -19.475299835205078,
          -23.583080291748047,
          -20.47348403930664,
          -22.532201766967773,
          -30.253023147583008,
          -26.90342903137207,
          -21.44544792175293,
          -24.88052749633789,
          -26.9970703125,
          -34.72566223144531,
          -34.77655029296875,
          -35.869991302490234,
          -33.49108123779297,
          -31.535499572753906,
          -29.16654396057129,
          -34.99598693847656,
          -30.119436264038086,
          -36.10734939575195,
          -34.19589614868164,
          -36.451045989990234,
          -36.12932586669922,
          -35.13233947753906
         ],
         "yaxis": "y"
        },
        {
         "hovertemplate": "color=6<br>Dimension 1=%{x}<br>Dimension 2=%{y}<extra></extra>",
         "legendgroup": "6",
         "marker": {
          "color": "#FF6692",
          "opacity": 1,
          "size": 3,
          "symbol": "circle"
         },
         "mode": "markers",
         "name": "6",
         "showlegend": true,
         "type": "scattergl",
         "x": [
          47.083919525146484,
          43.94243240356445,
          48.10939025878906,
          43.203277587890625,
          48.6082649230957,
          48.43156814575195,
          47.813663482666016,
          58.16724395751953,
          47.678340911865234,
          45.77473449707031,
          46.868751525878906,
          50.455387115478516,
          45.49367904663086,
          54.302452087402344,
          43.195777893066406,
          46.28279495239258,
          57.50730895996094,
          56.06536865234375,
          46.009525299072266,
          56.02330780029297,
          56.4170036315918,
          57.852054595947266,
          44.50888442993164,
          46.96916580200195,
          55.01558303833008,
          54.90638732910156,
          53.58967971801758,
          58.01882553100586,
          50.079368591308594,
          57.08319091796875,
          53.76335525512695,
          53.53950881958008,
          51.13300323486328,
          45.84962844848633,
          56.018226623535156,
          49.97394561767578,
          54.38007736206055,
          53.30527877807617,
          45.855201721191406,
          44.5143928527832,
          43.458011627197266,
          43.364585876464844,
          48.786746978759766,
          43.435302734375,
          45.022003173828125,
          43.38091278076172,
          49.940345764160156,
          42.20608901977539,
          42.08665084838867,
          44.13001251220703,
          -2.2331244945526123,
          50.991912841796875,
          50.34181213378906,
          50.82114028930664,
          52.050025939941406,
          52.12606430053711,
          50.50056076049805,
          51.2488899230957,
          50.14445495605469,
          50.395565032958984,
          51.83981704711914,
          51.019920349121094,
          50.90224838256836,
          52.01126480102539,
          54.636810302734375,
          54.985435485839844,
          55.176822662353516,
          56.81209945678711,
          58.49756622314453,
          56.251182556152344,
          51.34115982055664,
          58.51775360107422,
          54.80479049682617,
          47.49176025390625,
          56.02649688720703,
          47.06672286987305,
          46.83875274658203,
          39.70051193237305,
          39.106361389160156,
          42.03691101074219,
          53.88072967529297,
          45.08525085449219,
          44.840484619140625,
          53.917503356933594,
          39.53545379638672,
          49.59831619262695,
          40.78271484375,
          51.5899543762207,
          42.93159484863281,
          56.939796447753906,
          57.029048919677734,
          58.28365707397461,
          57.15254592895508,
          52.31254196166992,
          57.42574691772461,
          51.949466705322266,
          53.09141540527344,
          56.3724479675293,
          56.15241241455078,
          48.12824630737305,
          49.269309997558594,
          55.29267883300781,
          53.807613372802734,
          56.990089416503906,
          54.087615966796875,
          52.12004852294922,
          44.38667297363281,
          49.440460205078125,
          54.13268280029297,
          46.94353103637695,
          49.98617935180664,
          47.61910629272461,
          53.94932556152344,
          48.5153694152832,
          48.3176155090332,
          53.37761306762695,
          56.81223678588867,
          52.67848587036133,
          48.160308837890625,
          49.59621810913086,
          41.613834381103516,
          47.21498107910156,
          49.2216911315918,
          49.229835510253906,
          47.395076751708984,
          46.68138122558594,
          46.56441879272461,
          50.21577453613281,
          45.49298095703125,
          42.22807693481445,
          43.093910217285156,
          44.46332550048828,
          44.541168212890625,
          42.5537109375,
          42.065338134765625,
          41.36937713623047,
          43.08112335205078,
          42.6893196105957,
          44.4536247253418,
          43.53770446777344,
          40.01456832885742,
          40.345577239990234,
          53.75569152832031,
          54.20284652709961,
          55.94101333618164,
          50.30472183227539,
          55.25725173950195,
          54.9692268371582,
          58.713470458984375,
          51.25084686279297,
          53.27334976196289,
          52.77164077758789,
          51.66782760620117,
          51.878353118896484,
          48.53386306762695,
          41.12928771972656,
          40.24418258666992,
          44.69769287109375,
          41.98523712158203,
          41.347415924072266,
          44.179988861083984,
          43.21087646484375,
          42.168216705322266,
          41.531192779541016,
          42.156837463378906,
          45.438804626464844,
          42.63896560668945,
          44.084739685058594,
          55.34830856323242,
          48.96890640258789,
          55.361602783203125,
          55.565494537353516,
          48.1414794921875,
          49.24810028076172,
          55.65885925292969,
          58.78067398071289,
          49.330718994140625,
          47.55085372924805,
          53.37626647949219,
          46.001399993896484,
          52.344085693359375
         ],
         "xaxis": "x",
         "y": [
          -23.860153198242188,
          -29.3024845123291,
          -23.410959243774414,
          -27.79834747314453,
          -24.663888931274414,
          -29.65540885925293,
          -24.601106643676758,
          -29.889957427978516,
          -24.06092071533203,
          -25.429309844970703,
          -21.7509822845459,
          -22.80219078063965,
          -22.575590133666992,
          -36.710205078125,
          -33.99496841430664,
          -25.4007568359375,
          -31.170759201049805,
          -28.978919982910156,
          -26.442413330078125,
          -29.104650497436523,
          -30.785776138305664,
          -29.48727798461914,
          -27.92963409423828,
          -37.29860305786133,
          -38.456302642822266,
          -35.49616622924805,
          -34.34678268432617,
          -31.386940002441406,
          -32.81153869628906,
          -38.75865936279297,
          -32.11742401123047,
          -32.22294235229492,
          -31.6987247467041,
          -28.620065689086914,
          -36.624210357666016,
          -33.11149215698242,
          -34.101741790771484,
          -31.382308959960938,
          -37.933353424072266,
          -38.810691833496094,
          -37.18222427368164,
          -38.83953094482422,
          -39.54762649536133,
          -36.596954345703125,
          -38.309207916259766,
          -36.65536880493164,
          -26.74410057067871,
          -34.91526412963867,
          -38.00080871582031,
          -36.10348129272461,
          2.459880828857422,
          -27.3914794921875,
          -40.293052673339844,
          -35.54441452026367,
          -25.864429473876953,
          -23.760435104370117,
          -42.246700286865234,
          -26.72808837890625,
          -41.09754180908203,
          -42.17060470581055,
          -23.582509994506836,
          -27.446224212646484,
          -26.80303955078125,
          -24.886606216430664,
          -31.478029251098633,
          -32.26008987426758,
          -32.74793243408203,
          -31.18092155456543,
          -30.472902297973633,
          -35.47408676147461,
          -32.09490966796875,
          -34.94982147216797,
          -33.30230712890625,
          -27.585132598876953,
          -36.157447814941406,
          -27.895694732666016,
          -27.99301528930664,
          -38.71369934082031,
          -39.36341094970703,
          -36.88575744628906,
          -41.325050354003906,
          -25.782108306884766,
          -36.44753646850586,
          -41.527000427246094,
          -38.67848205566406,
          -37.301265716552734,
          -37.24995422363281,
          -38.7021369934082,
          -27.349037170410156,
          -32.69095993041992,
          -33.75844955444336,
          -32.76703643798828,
          -35.50795364379883,
          -34.914791107177734,
          -33.72064208984375,
          -35.454315185546875,
          -35.317054748535156,
          -34.05262756347656,
          -34.85462188720703,
          -30.87920379638672,
          -34.871273040771484,
          -36.123104095458984,
          -37.83935546875,
          -36.455238342285156,
          -39.62883377075195,
          -33.88113784790039,
          -28.69363784790039,
          -26.100465774536133,
          -30.194053649902344,
          -31.947181701660156,
          -31.030147552490234,
          -26.632619857788086,
          -30.42116928100586,
          -33.565059661865234,
          -22.562192916870117,
          -36.20462417602539,
          -37.538551330566406,
          -26.29199981689453,
          -31.65534210205078,
          -31.43863296508789,
          -35.3748893737793,
          -32.53312301635742,
          -28.580265045166016,
          -28.271442413330078,
          -34.047481536865234,
          -33.248050689697266,
          -32.84611129760742,
          -28.57316780090332,
          -33.07489013671875,
          -30.790348052978516,
          -30.396541595458984,
          -32.451541900634766,
          -32.80398178100586,
          -35.550506591796875,
          -36.199623107910156,
          -36.00963592529297,
          -34.76491165161133,
          -32.319793701171875,
          -32.42405319213867,
          -31.092308044433594,
          -33.613407135009766,
          -36.146080017089844,
          -38.7115478515625,
          -39.15378952026367,
          -37.73722457885742,
          -39.6449089050293,
          -39.16921615600586,
          -36.715972900390625,
          -33.72003936767578,
          -34.77415466308594,
          -39.151756286621094,
          -38.64098358154297,
          -37.6661491394043,
          -37.75824737548828,
          -32.16509246826172,
          -30.11488151550293,
          -31.650514602661133,
          -23.073997497558594,
          -33.51605987548828,
          -31.48326301574707,
          -26.367216110229492,
          -26.188514709472656,
          -31.907352447509766,
          -31.598526000976562,
          -27.281864166259766,
          -30.70267677307129,
          -25.70488166809082,
          -24.477617263793945,
          -26.295772552490234,
          -37.741416931152344,
          -26.900541305541992,
          -27.61638641357422,
          -37.47803497314453,
          -22.215654373168945,
          -28.073589324951172,
          -29.16734504699707,
          -23.488805770874023,
          -25.79399871826172,
          -26.779024124145508,
          -23.813838958740234,
          -37.26369857788086
         ],
         "yaxis": "y"
        },
        {
         "hovertemplate": "color=7<br>Dimension 1=%{x}<br>Dimension 2=%{y}<extra></extra>",
         "legendgroup": "7",
         "marker": {
          "color": "#B6E880",
          "opacity": 1,
          "size": 3,
          "symbol": "circle"
         },
         "mode": "markers",
         "name": "7",
         "showlegend": true,
         "type": "scattergl",
         "x": [
          4.006866931915283,
          13.973626136779785,
          20.23587417602539,
          19.094539642333984,
          4.775879859924316,
          18.19611930847168,
          14.713456153869629,
          8.88005256652832,
          22.009910583496094,
          11.185280799865723,
          15.714709281921387,
          10.689902305603027,
          13.0872163772583,
          11.395549774169922,
          11.0785551071167,
          7.803596496582031,
          18.328519821166992,
          16.45933723449707,
          10.03501033782959,
          7.1880035400390625,
          0.6759181618690491,
          7.555938720703125,
          14.889135360717773,
          7.319726943969727,
          8.062664031982422,
          16.927078247070312,
          7.755509853363037,
          19.361652374267578,
          7.376046657562256,
          17.069496154785156,
          18.7761173248291,
          19.345272064208984,
          12.087250709533691,
          12.048090934753418,
          9.296388626098633,
          9.196945190429688,
          12.020894050598145,
          16.652320861816406,
          19.28257942199707,
          19.846845626831055,
          20.371023178100586,
          20.733158111572266,
          17.28074836730957,
          19.536359786987305,
          21.315460205078125,
          21.163875579833984,
          18.02773094177246,
          18.574647903442383,
          20.798995971679688,
          20.01609992980957,
          18.216142654418945,
          0.22554834187030792,
          5.692155361175537,
          19.090747833251953,
          13.402460098266602,
          7.157001495361328,
          3.2297909259796143,
          19.753414154052734,
          5.869757175445557,
          6.753702640533447,
          9.184711456298828,
          8.264084815979004,
          4.366321086883545,
          6.64292049407959,
          7.6370720863342285,
          19.851167678833008,
          23.88458251953125,
          23.896116256713867,
          23.996950149536133,
          19.903255462646484,
          20.343692779541016,
          20.715835571289062,
          23.682119369506836,
          21.141889572143555,
          21.26935577392578,
          22.219850540161133,
          8.058731079101562,
          13.109442710876465,
          8.897177696228027,
          10.359739303588867,
          5.907383441925049,
          14.00621509552002,
          6.747520923614502,
          11.377238273620605,
          12.041563034057617,
          15.9840087890625,
          6.729154586791992,
          10.60474681854248,
          11.51685905456543,
          1.5120230913162231,
          13.833944320678711,
          11.297513961791992,
          14.574480056762695,
          11.11327075958252,
          17.055269241333008,
          11.371145248413086,
          12.968042373657227,
          13.3024320602417,
          13.063345909118652,
          14.73691463470459,
          11.223353385925293,
          13.24352741241455,
          8.566230773925781,
          11.361908912658691,
          8.374078750610352,
          8.527030944824219,
          10.383225440979004,
          7.959414005279541,
          6.609792709350586,
          5.618119716644287,
          6.435184478759766,
          10.26437759399414,
          4.958406925201416,
          6.315633296966553,
          7.359526634216309,
          3.748387098312378,
          14.76883602142334,
          20.35679054260254,
          4.074409484863281,
          4.603663921356201,
          7.405609130859375,
          3.0269291400909424,
          3.77931547164917,
          4.087579250335693,
          8.27200698852539,
          2.5576467514038086,
          19.076908111572266,
          16.94656753540039,
          3.4577231407165527,
          14.60597038269043,
          9.989886283874512,
          14.920241355895996,
          8.857992172241211,
          10.122527122497559,
          2.584352970123291,
          4.5006794929504395,
          6.088233470916748,
          15.22258186340332,
          7.829914569854736,
          17.116727828979492,
          8.201486587524414,
          16.19684410095215,
          17.403995513916016,
          16.127592086791992,
          14.58441162109375,
          14.147300720214844,
          18.533611297607422,
          16.58906364440918,
          15.198124885559082,
          13.717938423156738,
          14.91978931427002,
          15.795516967773438,
          17.260522842407227,
          16.00075340270996,
          -0.509194552898407,
          0.4322136640548706,
          6.405097007751465,
          2.996260404586792,
          1.9930251836776733,
          3.51920485496521,
          4.991551876068115,
          5.230005264282227,
          2.6525557041168213,
          10.090091705322266,
          7.172508716583252,
          3.5950446128845215,
          6.101616382598877,
          17.218570709228516,
          6.2437872886657715,
          13.10787582397461,
          19.582521438598633,
          8.9194974899292,
          12.580322265625,
          8.145256996154785,
          10.077441215515137,
          11.679451942443848,
          1.9518096446990967,
          15.232847213745117,
          7.694393634796143
         ],
         "xaxis": "x",
         "y": [
          60.10625076293945,
          58.9161262512207,
          61.405914306640625,
          61.54388427734375,
          61.11061477661133,
          60.49915313720703,
          59.228519439697266,
          61.4833869934082,
          60.936195373535156,
          56.90819549560547,
          59.554805755615234,
          61.06167984008789,
          60.98387145996094,
          65.5096206665039,
          66.17129516601562,
          67.54596710205078,
          59.97823715209961,
          55.73044204711914,
          64.48824310302734,
          70.12122344970703,
          64.5468521118164,
          69.40941619873047,
          61.151039123535156,
          66.25361633300781,
          69.0704574584961,
          62.2885856628418,
          63.262176513671875,
          54.948280334472656,
          63.88954544067383,
          54.648895263671875,
          58.245018005371094,
          55.5361328125,
          56.19512176513672,
          57.31309509277344,
          66.6139907836914,
          68.21285247802734,
          57.353721618652344,
          57.33509826660156,
          47.23923110961914,
          46.88435363769531,
          47.00337219238281,
          46.27442932128906,
          47.90260314941406,
          46.933929443359375,
          46.94047164916992,
          46.51532745361328,
          47.671268463134766,
          43.411216735839844,
          47.299720764160156,
          46.381370544433594,
          47.524295806884766,
          64.13711547851562,
          60.512168884277344,
          58.493221282958984,
          60.105079650878906,
          60.007843017578125,
          62.7059211730957,
          57.71086120605469,
          62.494476318359375,
          60.86758804321289,
          64.13443756103516,
          61.728267669677734,
          66.49776458740234,
          60.03800582885742,
          61.701778411865234,
          58.002410888671875,
          58.16429138183594,
          59.005435943603516,
          58.98885726928711,
          59.54330825805664,
          58.651214599609375,
          59.874168395996094,
          58.50027084350586,
          59.47203063964844,
          59.748382568359375,
          59.97013854980469,
          60.83342361450195,
          56.87638854980469,
          63.48597717285156,
          63.44314193725586,
          67.97147369384766,
          56.910125732421875,
          69.35594940185547,
          63.458526611328125,
          63.988155364990234,
          62.18037033081055,
          68.50463104248047,
          65.1824951171875,
          63.81671905517578,
          63.77519989013672,
          52.3077392578125,
          52.438072204589844,
          52.463382720947266,
          53.52558898925781,
          52.399879455566406,
          52.904850006103516,
          51.66293716430664,
          57.842681884765625,
          51.7678337097168,
          51.873661041259766,
          54.38315963745117,
          53.5441780090332,
          56.20314025878906,
          54.62272644042969,
          55.3658447265625,
          53.833946228027344,
          55.90755081176758,
          54.7724609375,
          53.48674774169922,
          57.48358917236328,
          53.35374069213867,
          54.71177291870117,
          59.07097625732422,
          57.08055877685547,
          54.9223518371582,
          62.202392578125,
          61.66757583618164,
          57.776390075683594,
          64.06055450439453,
          61.5794677734375,
          62.265228271484375,
          61.4789924621582,
          63.70402526855469,
          65.91521453857422,
          63.15929412841797,
          62.23408889770508,
          59.320030212402344,
          63.588050842285156,
          65.22126770019531,
          56.93254470825195,
          59.08780288696289,
          56.23727798461914,
          59.45111083984375,
          59.18156814575195,
          63.453460693359375,
          62.212459564208984,
          68.27106475830078,
          58.2225341796875,
          65.64031219482422,
          58.58730697631836,
          60.01048278808594,
          53.50969696044922,
          53.37689208984375,
          53.19077682495117,
          54.768306732177734,
          53.81944274902344,
          53.55039596557617,
          54.64955520629883,
          55.534236907958984,
          55.573448181152344,
          54.683109283447266,
          52.120811462402344,
          53.985443115234375,
          52.779701232910156,
          63.90254592895508,
          63.8917350769043,
          64.33353424072266,
          67.2065658569336,
          67.8103256225586,
          67.30732727050781,
          65.29043579101562,
          69.1754379272461,
          66.36479187011719,
          61.97511291503906,
          66.38931274414062,
          68.42375946044922,
          61.406639099121094,
          60.281681060791016,
          61.18375015258789,
          50.62920379638672,
          59.94690704345703,
          65.20210266113281,
          66.96913146972656,
          68.10386657714844,
          68.07026672363281,
          60.01529312133789,
          64.20478057861328,
          62.2555046081543,
          67.01903533935547
         ],
         "yaxis": "y"
        },
        {
         "hovertemplate": "color=8<br>Dimension 1=%{x}<br>Dimension 2=%{y}<extra></extra>",
         "legendgroup": "8",
         "marker": {
          "color": "#FF97FF",
          "opacity": 1,
          "size": 3,
          "symbol": "circle"
         },
         "mode": "markers",
         "name": "8",
         "showlegend": true,
         "type": "scattergl",
         "x": [
          -18.34652328491211,
          -6.240138530731201,
          -11.344482421875,
          -2.9961202144622803,
          -10.343042373657227,
          -10.503966331481934,
          -6.827173709869385,
          -4.497512340545654,
          -9.611227035522461,
          -7.645992755889893,
          -13.471756935119629,
          -2.5117695331573486,
          8.39067268371582,
          -12.9398775100708,
          -13.840540885925293,
          -9.643304824829102,
          -12.6947021484375,
          -7.079023361206055,
          -13.866490364074707,
          -7.157212734222412,
          -14.551599502563477,
          -9.075235366821289,
          -12.371441841125488,
          -13.57217788696289,
          -14.349730491638184,
          -10.118546485900879,
          -20.30550193786621,
          -8.254591941833496,
          -8.88940143585205,
          -17.004072189331055,
          -17.095661163330078,
          -20.224517822265625,
          -19.777904510498047,
          -12.792243003845215,
          -17.8035945892334,
          -23.84736442565918,
          -17.036407470703125,
          -8.484722137451172,
          -18.3034725189209,
          -11.4560546875,
          -15.968175888061523,
          -16.5750789642334,
          -17.487281799316406,
          -20.047571182250977,
          -16.638626098632812,
          -23.3572940826416,
          -21.413644790649414,
          -12.146146774291992,
          -11.683470726013184,
          -18.12094497680664,
          -17.46842384338379,
          -14.6600923538208,
          -16.386634826660156,
          -17.240615844726562,
          -15.444580078125,
          -17.30813217163086,
          -18.58242416381836,
          -18.04353904724121,
          -17.044967651367188,
          -15.505900382995605,
          -15.105331420898438,
          -17.38611602783203,
          -17.553640365600586,
          -15.635050773620605,
          -19.419721603393555,
          -13.109442710876465,
          -19.287099838256836,
          -14.488452911376953,
          -14.965869903564453,
          -12.288393020629883,
          -20.467599868774414,
          -12.817232131958008,
          -8.092521667480469,
          -19.352092742919922,
          -5.701992034912109,
          -18.97899055480957,
          -11.207270622253418,
          -27.48880386352539,
          19.503597259521484,
          -9.241043090820312,
          -21.989253997802734,
          -18.613576889038086,
          -18.561918258666992,
          -14.57185173034668,
          -27.370126724243164,
          -16.114269256591797,
          -16.435401916503906,
          -17.145902633666992,
          -15.705933570861816,
          -27.697826385498047,
          -20.559343338012695,
          -21.633007049560547,
          -21.568553924560547,
          -20.55484390258789,
          -18.285995483398438,
          -21.968387603759766,
          -18.510860443115234,
          -20.257463455200195,
          -22.05256462097168,
          -21.02102279663086,
          -20.041379928588867,
          -9.64548397064209,
          -8.718033790588379,
          -20.226112365722656,
          -21.488414764404297,
          -13.05286979675293,
          -8.51380729675293,
          -20.75383949279785,
          -20.491209030151367,
          -8.649924278259277,
          -22.291074752807617,
          -15.616562843322754,
          -19.699214935302734,
          -20.043548583984375,
          -22.860485076904297,
          -4.978450775146484,
          -5.801788330078125,
          -6.229208946228027,
          -4.507580757141113,
          -5.210910797119141,
          -6.580778121948242,
          -7.433228015899658,
          -26.475893020629883,
          -4.92103910446167,
          -7.0041961669921875,
          -8.834738731384277,
          -8.545093536376953,
          -9.003536224365234,
          -6.881458759307861,
          -6.7793803215026855,
          -9.484045028686523,
          -8.74507999420166,
          -7.968755722045898,
          -13.369973182678223,
          -8.034412384033203,
          -10.010235786437988,
          -5.915815353393555,
          -6.4344282150268555,
          -6.652944087982178,
          -20.522716522216797,
          -21.045438766479492,
          -21.74934959411621,
          -17.521345138549805,
          -18.514375686645508,
          -18.680225372314453,
          -19.809972763061523,
          -19.212421417236328,
          -18.395462036132812,
          -17.390491485595703,
          -17.245656967163086,
          -17.938570022583008,
          -16.908506393432617,
          11.954071998596191,
          -1.2553431987762451,
          -10.580702781677246,
          -13.967198371887207,
          -7.3402533531188965,
          -12.964730262756348,
          -13.211835861206055,
          -10.592663764953613,
          -11.383342742919922,
          -15.371956825256348,
          -10.289673805236816,
          -15.3935546875,
          -17.884225845336914,
          -9.664088249206543,
          -7.927657604217529,
          -14.8267240524292,
          -7.208856582641602,
          -16.742847442626953,
          -5.540463924407959,
          -1.3671201467514038,
          -7.571805000305176,
          -17.613937377929688
         ],
         "xaxis": "x",
         "y": [
          8.335369110107422,
          9.826066017150879,
          11.611430168151855,
          7.790307521820068,
          11.310351371765137,
          13.766060829162598,
          5.774494171142578,
          8.068192481994629,
          6.541927337646484,
          12.129379272460938,
          13.907233238220215,
          7.858455657958984,
          14.422662734985352,
          10.118388175964355,
          6.495696544647217,
          15.318882942199707,
          10.24612808227539,
          17.19301986694336,
          12.436091423034668,
          17.08504295349121,
          15.96597671508789,
          14.32129955291748,
          13.310959815979004,
          13.508710861206055,
          15.79997444152832,
          6.62851619720459,
          2.0607120990753174,
          3.2192938327789307,
          3.4209227561950684,
          6.698071002960205,
          5.948164463043213,
          -0.8994011282920837,
          2.8226664066314697,
          8.056434631347656,
          4.644820690155029,
          5.142977714538574,
          5.321905136108398,
          3.689361333847046,
          -0.8315789699554443,
          9.002504348754883,
          -3.1691081523895264,
          0.5105915069580078,
          1.203736424446106,
          -2.8265624046325684,
          1.8706523180007935,
          2.0851149559020996,
          1.599899172782898,
          8.695815086364746,
          7.538240909576416,
          2.664497137069702,
          0.8092247843742371,
          18.885116577148438,
          17.61195182800293,
          17.155933380126953,
          19.23603630065918,
          17.9279727935791,
          18.076053619384766,
          18.580772399902344,
          18.111291885375977,
          20.124202728271484,
          18.787670135498047,
          18.878009796142578,
          18.466474533081055,
          19.109542846679688,
          4.605496406555176,
          3.72514271736145,
          4.618661403656006,
          4.391850471496582,
          4.226833820343018,
          4.192267894744873,
          0.7226945161819458,
          5.918331146240234,
          4.741298675537109,
          2.307309627532959,
          5.179478645324707,
          5.15190315246582,
          4.81295108795166,
          13.08875560760498,
          15.621064186096191,
          5.268974781036377,
          -0.9551575183868408,
          -5.2632293701171875,
          -5.5448503494262695,
          0.09443166851997375,
          13.145095825195312,
          -5.5495381355285645,
          -5.399715900421143,
          11.803698539733887,
          -5.535830020904541,
          12.92646312713623,
          5.562197208404541,
          4.404016494750977,
          5.22919225692749,
          4.484926700592041,
          1.1167535781860352,
          3.959083080291748,
          2.9004828929901123,
          -1.9542773962020874,
          5.508891582489014,
          -0.49356648325920105,
          4.1745781898498535,
          2.21126389503479,
          9.380675315856934,
          10.714115142822266,
          9.133016586303711,
          11.93427562713623,
          9.403050422668457,
          9.827281951904297,
          9.735246658325195,
          1.9021905660629272,
          9.627899169921875,
          9.09941577911377,
          11.887681007385254,
          10.962178230285645,
          4.160762786865234,
          6.812546253204346,
          7.782581329345703,
          1.7237248420715332,
          9.361308097839355,
          3.0616204738616943,
          2.172241449356079,
          9.490649223327637,
          13.873616218566895,
          8.16781234741211,
          10.652645111083984,
          11.34516429901123,
          10.411885261535645,
          6.32114839553833,
          5.8593902587890625,
          7.802324295043945,
          11.783669471740723,
          12.99573802947998,
          6.657400131225586,
          6.369668006896973,
          10.296470642089844,
          11.50494384765625,
          12.304760932922363,
          5.866040229797363,
          9.199066162109375,
          -1.3580256700515747,
          -1.0114091634750366,
          -0.7396205067634583,
          -0.46200647950172424,
          -0.8913871645927429,
          -6.306971073150635,
          -3.491878032684326,
          -3.5822556018829346,
          -4.419510841369629,
          -3.783935785293579,
          -3.0993428230285645,
          -4.407961368560791,
          -2.753023147583008,
          14.351044654846191,
          7.785760402679443,
          18.576091766357422,
          17.01348114013672,
          7.272342681884766,
          16.016277313232422,
          17.42188835144043,
          16.132553100585938,
          16.16364288330078,
          10.325756072998047,
          9.717887878417969,
          11.079728126525879,
          9.169912338256836,
          8.48312759399414,
          2.273517370223999,
          11.691362380981445,
          14.067821502685547,
          11.382681846618652,
          14.22635269165039,
          20.025550842285156,
          14.404911994934082,
          9.7882080078125
         ],
         "yaxis": "y"
        },
        {
         "hovertemplate": "color=9<br>Dimension 1=%{x}<br>Dimension 2=%{y}<extra></extra>",
         "legendgroup": "9",
         "marker": {
          "color": "#FECB52",
          "opacity": 1,
          "size": 3,
          "symbol": "circle"
         },
         "mode": "markers",
         "name": "9",
         "showlegend": true,
         "type": "scattergl",
         "x": [
          -27.6632022857666,
          -39.2547492980957,
          -38.47635269165039,
          -39.56264877319336,
          -37.2171516418457,
          -32.692237854003906,
          4.230188846588135,
          -37.27322006225586,
          -33.19894790649414,
          -39.12346649169922,
          -39.885520935058594,
          -31.713077545166016,
          -31.40730094909668,
          -37.36172103881836,
          -35.26887130737305,
          -36.52579879760742,
          -37.38679504394531,
          -40.79425048828125,
          -37.91130828857422,
          -34.02540969848633,
          -29.182180404663086,
          -28.663270950317383,
          -36.32843017578125,
          -27.06436538696289,
          -29.539112091064453,
          17.497913360595703,
          15.917137145996094,
          -35.16692352294922,
          -40.36315155029297,
          -26.384986877441406,
          -37.366851806640625,
          17.341312408447266,
          16.117992401123047,
          17.016895294189453,
          16.6561336517334,
          28.47650909423828,
          28.83546257019043,
          17.425382614135742,
          -32.78514099121094,
          -40.463958740234375,
          -40.4918212890625,
          -27.42142105102539,
          -27.560577392578125,
          -32.606021881103516,
          -31.68861961364746,
          -27.70815658569336,
          -32.46698760986328,
          -27.598041534423828,
          -32.48847198486328,
          -31.148771286010742,
          -32.20990753173828,
          -27.450376510620117,
          -27.0535888671875,
          -29.421728134155273,
          -10.79889965057373,
          -30.43315887451172,
          -28.12396812438965,
          -28.122610092163086,
          -28.49944305419922,
          -28.050134658813477,
          -28.223587036132812,
          -34.15701675415039,
          -29.105581283569336,
          -40.128395080566406,
          28.039304733276367,
          29.585113525390625,
          28.546096801757812,
          29.805463790893555,
          26.53875160217285,
          29.134366989135742,
          28.579307556152344,
          28.759191513061523,
          28.266225814819336,
          30.1578311920166,
          29.17036247253418,
          27.94254493713379,
          26.875537872314453,
          -36.46292495727539,
          -29.127775192260742,
          -40.60664749145508,
          -29.798416137695312,
          -33.74436950683594,
          -29.875761032104492,
          -40.202301025390625,
          -30.43938446044922,
          -30.471525192260742,
          -40.479366302490234,
          -31.657453536987305,
          -31.645858764648438,
          -35.29446792602539,
          -37.90540313720703,
          -35.83060836791992,
          -36.88705062866211,
          -35.83993911743164,
          -38.32284927368164,
          -35.954750061035156,
          -38.60267639160156,
          -37.756736755371094,
          -38.50630569458008,
          -35.69773864746094,
          -36.482364654541016,
          -30.80072593688965,
          -35.19489669799805,
          -40.29370880126953,
          -33.309593200683594,
          -33.65304183959961,
          -25.501909255981445,
          -33.938636779785156,
          -25.548606872558594,
          -33.176727294921875,
          -7.8897786140441895,
          -34.198143005371094,
          -33.518463134765625,
          -32.267940521240234,
          -33.36445617675781,
          -32.197940826416016,
          -26.246078491210938,
          -40.13920974731445,
          -26.57135772705078,
          -28.55128288269043,
          -27.81094741821289,
          -28.745290756225586,
          -34.64216232299805,
          -27.211286544799805,
          -28.091135025024414,
          -28.042787551879883,
          -27.952234268188477,
          -34.75578308105469,
          -26.046588897705078,
          -35.227020263671875,
          -30.235097885131836,
          -29.104354858398438,
          -31.08762550354004,
          -31.76751136779785,
          -27.240562438964844,
          -40.545433044433594,
          -30.34356689453125,
          -38.14381408691406,
          -29.30046272277832,
          -28.697423934936523,
          -27.78785514831543,
          -34.36478042602539,
          -34.40298080444336,
          -34.62943649291992,
          -32.94123458862305,
          -34.14783477783203,
          -33.035282135009766,
          -35.486732482910156,
          -33.66511154174805,
          -33.96552276611328,
          -34.88404083251953,
          -31.86722183227539,
          -34.693145751953125,
          -34.41503143310547,
          27.943449020385742,
          26.430879592895508,
          26.54926109313965,
          26.59233856201172,
          17.999250411987305,
          4.923048496246338,
          28.283586502075195,
          -39.0156135559082,
          17.35974884033203,
          -39.54026794433594,
          -44.333984375,
          5.373904228210449,
          17.54920768737793,
          -34.45296096801758,
          -29.58132553100586,
          -37.565155029296875,
          -33.61600112915039,
          -32.663761138916016,
          -33.06131362915039,
          -31.433595657348633,
          -33.63579559326172,
          -31.24725914001465,
          -30.216754913330078,
          -35.580772399902344,
          -32.22233963012695,
          -28.96226692199707
         ],
         "xaxis": "x",
         "y": [
          -22.10683250427246,
          -21.168312072753906,
          -20.917884826660156,
          -21.615142822265625,
          -17.445419311523438,
          -30.851879119873047,
          42.13309860229492,
          -21.021974563598633,
          -33.92815399169922,
          -23.254526138305664,
          -24.652751922607422,
          -20.053380966186523,
          -34.78181076049805,
          -23.700435638427734,
          -21.85860824584961,
          -23.095230102539062,
          -22.545312881469727,
          -27.57042121887207,
          -23.95747184753418,
          -22.462665557861328,
          -23.895980834960938,
          -24.293392181396484,
          -22.106855392456055,
          -21.56093406677246,
          -22.3909912109375,
          42.61687088012695,
          41.64873504638672,
          -31.17874526977539,
          -26.46928596496582,
          -26.090986251831055,
          -29.208293914794922,
          41.4452018737793,
          41.66746520996094,
          42.180908203125,
          41.43863296508789,
          29.479724884033203,
          28.547040939331055,
          42.08424758911133,
          -33.71530532836914,
          -28.79752540588379,
          -28.786605834960938,
          -20.223541259765625,
          -19.807878494262695,
          -26.68146324157715,
          -26.74717903137207,
          -19.615657806396484,
          -25.23160171508789,
          -19.486207962036133,
          -25.86436653137207,
          -36.41257858276367,
          -25.940580368041992,
          -16.987937927246094,
          -32.401214599609375,
          -16.0997371673584,
          3.3092565536499023,
          -34.24446105957031,
          -16.03789520263672,
          -32.9105110168457,
          -27.97148895263672,
          -16.524215698242188,
          -16.26329803466797,
          -27.44504165649414,
          -32.329811096191406,
          -30.190933227539062,
          28.420194625854492,
          27.203781127929688,
          27.60555648803711,
          26.727962493896484,
          25.740222930908203,
          27.18634605407715,
          26.97217559814453,
          25.69630241394043,
          26.061281204223633,
          27.533876419067383,
          27.966209411621094,
          27.87285041809082,
          27.583877563476562,
          -25.979341506958008,
          -35.24623489379883,
          -30.33127784729004,
          -34.520145416259766,
          -7.8023223876953125,
          -33.06483459472656,
          -30.906471252441406,
          -23.980276107788086,
          -34.70829391479492,
          -27.828706741333008,
          -35.61248779296875,
          -35.95157241821289,
          -33.10854721069336,
          -26.727170944213867,
          -27.06264877319336,
          -27.088777542114258,
          -31.27806282043457,
          -28.693944931030273,
          -28.465917587280273,
          -26.821731567382812,
          -26.921142578125,
          -28.5255069732666,
          -27.439083099365234,
          -31.232351303100586,
          -16.064083099365234,
          -26.896324157714844,
          -16.032163619995117,
          -16.421512603759766,
          -17.818479537963867,
          -24.528995513916016,
          -16.637767791748047,
          -25.054428100585938,
          -16.572383880615234,
          1.071372628211975,
          -16.579294204711914,
          -20.516124725341797,
          -21.90508270263672,
          -15.531009674072266,
          -20.039899826049805,
          -21.465255737304688,
          -24.759170532226562,
          -21.63469696044922,
          -28.80975341796875,
          -29.728750228881836,
          -28.33099937438965,
          -22.255550384521484,
          -24.95014190673828,
          -28.23696517944336,
          -25.588924407958984,
          -24.95193099975586,
          -31.902997970581055,
          -26.04057502746582,
          -25.96837043762207,
          -28.827247619628906,
          -29.21266746520996,
          -29.602109909057617,
          -27.814516067504883,
          -28.05756950378418,
          -26.7508602142334,
          -28.066953659057617,
          -30.853532791137695,
          -30.975536346435547,
          -30.6563663482666,
          -33.45232391357422,
          -30.364439010620117,
          -33.085514068603516,
          -29.391244888305664,
          -29.125917434692383,
          -32.28118133544922,
          -30.69993782043457,
          -28.914724349975586,
          -29.98665428161621,
          -32.11378860473633,
          -29.186716079711914,
          -29.187274932861328,
          -34.781585693359375,
          -34.2343864440918,
          26.816301345825195,
          30.161712646484375,
          30.49578094482422,
          29.83753776550293,
          39.620540618896484,
          -18.014036178588867,
          29.802024841308594,
          -24.87213134765625,
          40.826019287109375,
          -22.9902286529541,
          2.1612181663513184,
          -18.209932327270508,
          40.30960464477539,
          -26.955293655395508,
          -26.344104766845703,
          -24.94805908203125,
          -23.997081756591797,
          -33.106441497802734,
          -32.11373519897461,
          -25.898681640625,
          -24.4475154876709,
          -25.253448486328125,
          -25.34419059753418,
          -21.655099868774414,
          -24.034631729125977,
          -21.918235778808594
         ],
         "yaxis": "y"
        }
       ],
       "layout": {
        "legend": {
         "title": {
          "text": "color"
         },
         "tracegroupgap": 0
        },
        "margin": {
         "t": 60
        },
        "plot_bgcolor": "white",
        "template": {
         "data": {
          "bar": [
           {
            "error_x": {
             "color": "#2a3f5f"
            },
            "error_y": {
             "color": "#2a3f5f"
            },
            "marker": {
             "line": {
              "color": "#E5ECF6",
              "width": 0.5
             },
             "pattern": {
              "fillmode": "overlay",
              "size": 10,
              "solidity": 0.2
             }
            },
            "type": "bar"
           }
          ],
          "barpolar": [
           {
            "marker": {
             "line": {
              "color": "#E5ECF6",
              "width": 0.5
             },
             "pattern": {
              "fillmode": "overlay",
              "size": 10,
              "solidity": 0.2
             }
            },
            "type": "barpolar"
           }
          ],
          "carpet": [
           {
            "aaxis": {
             "endlinecolor": "#2a3f5f",
             "gridcolor": "white",
             "linecolor": "white",
             "minorgridcolor": "white",
             "startlinecolor": "#2a3f5f"
            },
            "baxis": {
             "endlinecolor": "#2a3f5f",
             "gridcolor": "white",
             "linecolor": "white",
             "minorgridcolor": "white",
             "startlinecolor": "#2a3f5f"
            },
            "type": "carpet"
           }
          ],
          "choropleth": [
           {
            "colorbar": {
             "outlinewidth": 0,
             "ticks": ""
            },
            "type": "choropleth"
           }
          ],
          "contour": [
           {
            "colorbar": {
             "outlinewidth": 0,
             "ticks": ""
            },
            "colorscale": [
             [
              0,
              "#0d0887"
             ],
             [
              0.1111111111111111,
              "#46039f"
             ],
             [
              0.2222222222222222,
              "#7201a8"
             ],
             [
              0.3333333333333333,
              "#9c179e"
             ],
             [
              0.4444444444444444,
              "#bd3786"
             ],
             [
              0.5555555555555556,
              "#d8576b"
             ],
             [
              0.6666666666666666,
              "#ed7953"
             ],
             [
              0.7777777777777778,
              "#fb9f3a"
             ],
             [
              0.8888888888888888,
              "#fdca26"
             ],
             [
              1,
              "#f0f921"
             ]
            ],
            "type": "contour"
           }
          ],
          "contourcarpet": [
           {
            "colorbar": {
             "outlinewidth": 0,
             "ticks": ""
            },
            "type": "contourcarpet"
           }
          ],
          "heatmap": [
           {
            "colorbar": {
             "outlinewidth": 0,
             "ticks": ""
            },
            "colorscale": [
             [
              0,
              "#0d0887"
             ],
             [
              0.1111111111111111,
              "#46039f"
             ],
             [
              0.2222222222222222,
              "#7201a8"
             ],
             [
              0.3333333333333333,
              "#9c179e"
             ],
             [
              0.4444444444444444,
              "#bd3786"
             ],
             [
              0.5555555555555556,
              "#d8576b"
             ],
             [
              0.6666666666666666,
              "#ed7953"
             ],
             [
              0.7777777777777778,
              "#fb9f3a"
             ],
             [
              0.8888888888888888,
              "#fdca26"
             ],
             [
              1,
              "#f0f921"
             ]
            ],
            "type": "heatmap"
           }
          ],
          "heatmapgl": [
           {
            "colorbar": {
             "outlinewidth": 0,
             "ticks": ""
            },
            "colorscale": [
             [
              0,
              "#0d0887"
             ],
             [
              0.1111111111111111,
              "#46039f"
             ],
             [
              0.2222222222222222,
              "#7201a8"
             ],
             [
              0.3333333333333333,
              "#9c179e"
             ],
             [
              0.4444444444444444,
              "#bd3786"
             ],
             [
              0.5555555555555556,
              "#d8576b"
             ],
             [
              0.6666666666666666,
              "#ed7953"
             ],
             [
              0.7777777777777778,
              "#fb9f3a"
             ],
             [
              0.8888888888888888,
              "#fdca26"
             ],
             [
              1,
              "#f0f921"
             ]
            ],
            "type": "heatmapgl"
           }
          ],
          "histogram": [
           {
            "marker": {
             "pattern": {
              "fillmode": "overlay",
              "size": 10,
              "solidity": 0.2
             }
            },
            "type": "histogram"
           }
          ],
          "histogram2d": [
           {
            "colorbar": {
             "outlinewidth": 0,
             "ticks": ""
            },
            "colorscale": [
             [
              0,
              "#0d0887"
             ],
             [
              0.1111111111111111,
              "#46039f"
             ],
             [
              0.2222222222222222,
              "#7201a8"
             ],
             [
              0.3333333333333333,
              "#9c179e"
             ],
             [
              0.4444444444444444,
              "#bd3786"
             ],
             [
              0.5555555555555556,
              "#d8576b"
             ],
             [
              0.6666666666666666,
              "#ed7953"
             ],
             [
              0.7777777777777778,
              "#fb9f3a"
             ],
             [
              0.8888888888888888,
              "#fdca26"
             ],
             [
              1,
              "#f0f921"
             ]
            ],
            "type": "histogram2d"
           }
          ],
          "histogram2dcontour": [
           {
            "colorbar": {
             "outlinewidth": 0,
             "ticks": ""
            },
            "colorscale": [
             [
              0,
              "#0d0887"
             ],
             [
              0.1111111111111111,
              "#46039f"
             ],
             [
              0.2222222222222222,
              "#7201a8"
             ],
             [
              0.3333333333333333,
              "#9c179e"
             ],
             [
              0.4444444444444444,
              "#bd3786"
             ],
             [
              0.5555555555555556,
              "#d8576b"
             ],
             [
              0.6666666666666666,
              "#ed7953"
             ],
             [
              0.7777777777777778,
              "#fb9f3a"
             ],
             [
              0.8888888888888888,
              "#fdca26"
             ],
             [
              1,
              "#f0f921"
             ]
            ],
            "type": "histogram2dcontour"
           }
          ],
          "mesh3d": [
           {
            "colorbar": {
             "outlinewidth": 0,
             "ticks": ""
            },
            "type": "mesh3d"
           }
          ],
          "parcoords": [
           {
            "line": {
             "colorbar": {
              "outlinewidth": 0,
              "ticks": ""
             }
            },
            "type": "parcoords"
           }
          ],
          "pie": [
           {
            "automargin": true,
            "type": "pie"
           }
          ],
          "scatter": [
           {
            "fillpattern": {
             "fillmode": "overlay",
             "size": 10,
             "solidity": 0.2
            },
            "type": "scatter"
           }
          ],
          "scatter3d": [
           {
            "line": {
             "colorbar": {
              "outlinewidth": 0,
              "ticks": ""
             }
            },
            "marker": {
             "colorbar": {
              "outlinewidth": 0,
              "ticks": ""
             }
            },
            "type": "scatter3d"
           }
          ],
          "scattercarpet": [
           {
            "marker": {
             "colorbar": {
              "outlinewidth": 0,
              "ticks": ""
             }
            },
            "type": "scattercarpet"
           }
          ],
          "scattergeo": [
           {
            "marker": {
             "colorbar": {
              "outlinewidth": 0,
              "ticks": ""
             }
            },
            "type": "scattergeo"
           }
          ],
          "scattergl": [
           {
            "marker": {
             "colorbar": {
              "outlinewidth": 0,
              "ticks": ""
             }
            },
            "type": "scattergl"
           }
          ],
          "scattermapbox": [
           {
            "marker": {
             "colorbar": {
              "outlinewidth": 0,
              "ticks": ""
             }
            },
            "type": "scattermapbox"
           }
          ],
          "scatterpolar": [
           {
            "marker": {
             "colorbar": {
              "outlinewidth": 0,
              "ticks": ""
             }
            },
            "type": "scatterpolar"
           }
          ],
          "scatterpolargl": [
           {
            "marker": {
             "colorbar": {
              "outlinewidth": 0,
              "ticks": ""
             }
            },
            "type": "scatterpolargl"
           }
          ],
          "scatterternary": [
           {
            "marker": {
             "colorbar": {
              "outlinewidth": 0,
              "ticks": ""
             }
            },
            "type": "scatterternary"
           }
          ],
          "surface": [
           {
            "colorbar": {
             "outlinewidth": 0,
             "ticks": ""
            },
            "colorscale": [
             [
              0,
              "#0d0887"
             ],
             [
              0.1111111111111111,
              "#46039f"
             ],
             [
              0.2222222222222222,
              "#7201a8"
             ],
             [
              0.3333333333333333,
              "#9c179e"
             ],
             [
              0.4444444444444444,
              "#bd3786"
             ],
             [
              0.5555555555555556,
              "#d8576b"
             ],
             [
              0.6666666666666666,
              "#ed7953"
             ],
             [
              0.7777777777777778,
              "#fb9f3a"
             ],
             [
              0.8888888888888888,
              "#fdca26"
             ],
             [
              1,
              "#f0f921"
             ]
            ],
            "type": "surface"
           }
          ],
          "table": [
           {
            "cells": {
             "fill": {
              "color": "#EBF0F8"
             },
             "line": {
              "color": "white"
             }
            },
            "header": {
             "fill": {
              "color": "#C8D4E3"
             },
             "line": {
              "color": "white"
             }
            },
            "type": "table"
           }
          ]
         },
         "layout": {
          "annotationdefaults": {
           "arrowcolor": "#2a3f5f",
           "arrowhead": 0,
           "arrowwidth": 1
          },
          "autotypenumbers": "strict",
          "coloraxis": {
           "colorbar": {
            "outlinewidth": 0,
            "ticks": ""
           }
          },
          "colorscale": {
           "diverging": [
            [
             0,
             "#8e0152"
            ],
            [
             0.1,
             "#c51b7d"
            ],
            [
             0.2,
             "#de77ae"
            ],
            [
             0.3,
             "#f1b6da"
            ],
            [
             0.4,
             "#fde0ef"
            ],
            [
             0.5,
             "#f7f7f7"
            ],
            [
             0.6,
             "#e6f5d0"
            ],
            [
             0.7,
             "#b8e186"
            ],
            [
             0.8,
             "#7fbc41"
            ],
            [
             0.9,
             "#4d9221"
            ],
            [
             1,
             "#276419"
            ]
           ],
           "sequential": [
            [
             0,
             "#0d0887"
            ],
            [
             0.1111111111111111,
             "#46039f"
            ],
            [
             0.2222222222222222,
             "#7201a8"
            ],
            [
             0.3333333333333333,
             "#9c179e"
            ],
            [
             0.4444444444444444,
             "#bd3786"
            ],
            [
             0.5555555555555556,
             "#d8576b"
            ],
            [
             0.6666666666666666,
             "#ed7953"
            ],
            [
             0.7777777777777778,
             "#fb9f3a"
            ],
            [
             0.8888888888888888,
             "#fdca26"
            ],
            [
             1,
             "#f0f921"
            ]
           ],
           "sequentialminus": [
            [
             0,
             "#0d0887"
            ],
            [
             0.1111111111111111,
             "#46039f"
            ],
            [
             0.2222222222222222,
             "#7201a8"
            ],
            [
             0.3333333333333333,
             "#9c179e"
            ],
            [
             0.4444444444444444,
             "#bd3786"
            ],
            [
             0.5555555555555556,
             "#d8576b"
            ],
            [
             0.6666666666666666,
             "#ed7953"
            ],
            [
             0.7777777777777778,
             "#fb9f3a"
            ],
            [
             0.8888888888888888,
             "#fdca26"
            ],
            [
             1,
             "#f0f921"
            ]
           ]
          },
          "colorway": [
           "#636efa",
           "#EF553B",
           "#00cc96",
           "#ab63fa",
           "#FFA15A",
           "#19d3f3",
           "#FF6692",
           "#B6E880",
           "#FF97FF",
           "#FECB52"
          ],
          "font": {
           "color": "#2a3f5f"
          },
          "geo": {
           "bgcolor": "white",
           "lakecolor": "white",
           "landcolor": "#E5ECF6",
           "showlakes": true,
           "showland": true,
           "subunitcolor": "white"
          },
          "hoverlabel": {
           "align": "left"
          },
          "hovermode": "closest",
          "mapbox": {
           "style": "light"
          },
          "paper_bgcolor": "white",
          "plot_bgcolor": "#E5ECF6",
          "polar": {
           "angularaxis": {
            "gridcolor": "white",
            "linecolor": "white",
            "ticks": ""
           },
           "bgcolor": "#E5ECF6",
           "radialaxis": {
            "gridcolor": "white",
            "linecolor": "white",
            "ticks": ""
           }
          },
          "scene": {
           "xaxis": {
            "backgroundcolor": "#E5ECF6",
            "gridcolor": "white",
            "gridwidth": 2,
            "linecolor": "white",
            "showbackground": true,
            "ticks": "",
            "zerolinecolor": "white"
           },
           "yaxis": {
            "backgroundcolor": "#E5ECF6",
            "gridcolor": "white",
            "gridwidth": 2,
            "linecolor": "white",
            "showbackground": true,
            "ticks": "",
            "zerolinecolor": "white"
           },
           "zaxis": {
            "backgroundcolor": "#E5ECF6",
            "gridcolor": "white",
            "gridwidth": 2,
            "linecolor": "white",
            "showbackground": true,
            "ticks": "",
            "zerolinecolor": "white"
           }
          },
          "shapedefaults": {
           "line": {
            "color": "#2a3f5f"
           }
          },
          "ternary": {
           "aaxis": {
            "gridcolor": "white",
            "linecolor": "white",
            "ticks": ""
           },
           "baxis": {
            "gridcolor": "white",
            "linecolor": "white",
            "ticks": ""
           },
           "bgcolor": "#E5ECF6",
           "caxis": {
            "gridcolor": "white",
            "linecolor": "white",
            "ticks": ""
           }
          },
          "title": {
           "x": 0.05
          },
          "xaxis": {
           "automargin": true,
           "gridcolor": "white",
           "linecolor": "white",
           "ticks": "",
           "title": {
            "standoff": 15
           },
           "zerolinecolor": "white",
           "zerolinewidth": 2
          },
          "yaxis": {
           "automargin": true,
           "gridcolor": "white",
           "linecolor": "white",
           "ticks": "",
           "title": {
            "standoff": 15
           },
           "zerolinecolor": "white",
           "zerolinewidth": 2
          }
         }
        },
        "title": {
         "text": "t-SNE"
        },
        "xaxis": {
         "anchor": "y",
         "domain": [
          0,
          1
         ],
         "gridcolor": "lightgrey",
         "gridwidth": 1,
         "linecolor": "black",
         "linewidth": 1,
         "showgrid": true,
         "showline": true,
         "title": {
          "text": "Dimension 1"
         },
         "zeroline": true,
         "zerolinecolor": "lightgrey",
         "zerolinewidth": 1
        },
        "yaxis": {
         "anchor": "x",
         "domain": [
          0,
          1
         ],
         "gridcolor": "lightgrey",
         "gridwidth": 1,
         "linecolor": "black",
         "linewidth": 1,
         "showgrid": true,
         "showline": true,
         "title": {
          "text": "Dimension 2"
         },
         "zeroline": true,
         "zerolinecolor": "lightgrey",
         "zerolinewidth": 1
        }
       }
      }
     },
     "metadata": {},
     "output_type": "display_data"
    }
   ],
   "source": [
    "import pandas as pd\n",
    "import plotly.express as px \n",
    "import matplotlib.pyplot as plt\n",
    "from sklearn.datasets import load_digits\n",
    "from sklearn.manifold import TSNE\n",
    "\n",
    "digits = load_digits()\n",
    "\n",
    "X, y = load_digits(return_X_y=True)\n",
    "\n",
    "fig, axs = plt.subplots(2, 5, sharey=False, tight_layout=True, figsize=(12,6), facecolor='white')\n",
    "n=0\n",
    "plt.gray() \n",
    "for i in range(0,2):\n",
    "    for j in range(0,5):\n",
    "        axs[i,j].matshow(digits.images[n])\n",
    "        axs[i,j].set(title=y[n])\n",
    "        n=n+1\n",
    "plt.show()\n",
    "\n",
    "embed = TSNE(\n",
    "    n_components=2,\n",
    "    max_iter=5000\n",
    "    )\n",
    "\n",
    "X_embedded = embed.fit_transform(X)\n",
    "\n",
    "fig = px.scatter(None, x=X_embedded[:,0], y=X_embedded[:,1], \n",
    "                 labels={\n",
    "                     \"x\": \"Dimension 1\",\n",
    "                     \"y\": \"Dimension 2\",\n",
    "                 },\n",
    "                 opacity=1, color=y.astype(str))\n",
    "\n",
    "fig.update_layout(dict(plot_bgcolor = 'white'))\n",
    "\n",
    "fig.update_xaxes(showgrid=True, gridwidth=1, gridcolor='lightgrey', \n",
    "                 zeroline=True, zerolinewidth=1, zerolinecolor='lightgrey', \n",
    "                 showline=True, linewidth=1, linecolor='black')\n",
    "\n",
    "fig.update_yaxes(showgrid=True, gridwidth=1, gridcolor='lightgrey', \n",
    "                 zeroline=True, zerolinewidth=1, zerolinecolor='lightgrey', \n",
    "                 showline=True, linewidth=1, linecolor='black')\n",
    "\n",
    "fig.update_layout(title_text=\"t-SNE\")\n",
    "\n",
    "fig.update_traces(marker=dict(size=3))\n",
    "\n",
    "fig.show()"
   ]
  },
  {
   "cell_type": "markdown",
   "metadata": {},
   "source": [
    "Выполнить визуализацию многомерных данных, используя UMAP  с \n",
    "различными  параметрами  n_neighbors  и  min_dist.  Рассчитать  время \n",
    "работы  алгоритма  с  помощью  библиотеки  time  и  сравнить  его  с \n",
    "временем работы t-SNE."
   ]
  },
  {
   "cell_type": "code",
   "execution_count": null,
   "metadata": {},
   "outputs": [],
   "source": []
  }
 ],
 "metadata": {
  "kernelspec": {
   "display_name": "Python 3",
   "language": "python",
   "name": "python3"
  },
  "language_info": {
   "codemirror_mode": {
    "name": "ipython",
    "version": 3
   },
   "file_extension": ".py",
   "mimetype": "text/x-python",
   "name": "python",
   "nbconvert_exporter": "python",
   "pygments_lexer": "ipython3",
   "version": "3.12.3"
  }
 },
 "nbformat": 4,
 "nbformat_minor": 2
}
